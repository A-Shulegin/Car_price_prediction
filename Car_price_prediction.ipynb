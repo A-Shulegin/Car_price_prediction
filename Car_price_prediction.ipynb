{
 "cells": [
  {
   "cell_type": "markdown",
   "metadata": {},
   "source": [
    "# Определение стоимости автомобилей"
   ]
  },
  {
   "cell_type": "markdown",
   "metadata": {},
   "source": [
    "Сервис по продаже автомобилей с пробегом разрабатывает приложение для привлечения новых клиентов. В нём можно быстро узнать рыночную стоимость своего автомобиля. В распоряжении исторические данные: технические характеристики, комплектации и цены автомобилей. Нужно построить модель для определения стоимости. \n",
    "\n",
    "Важно:\n",
    "\n",
    "- качество предсказания;\n",
    "- скорость предсказания;\n",
    "- время обучения."
   ]
  },
  {
   "cell_type": "markdown",
   "metadata": {},
   "source": [
    "**Описание данных**\n",
    "\n",
    "**Признаки**\n",
    "* `DateCrawled` — дата скачивания анкеты из базы\n",
    "* `VehicleType` — тип автомобильного кузова\n",
    "* `RegistrationYear` — год регистрации автомобиля\n",
    "* `Gearbox` — тип коробки передач\n",
    "* `Power` — мощность (л. с.)\n",
    "* `Model` — модель автомобиля\n",
    "* `Kilometer` — пробег (км)\n",
    "* `RegistrationMonth` — месяц регистрации автомобиля\n",
    "* `FuelType` — тип топлива\n",
    "* `Brand` — марка автомобиля\n",
    "* `Repaired` — была машина в ремонте или нет\n",
    "* `DateCreated` — дата создания анкеты\n",
    "* `NumberOfPictures` — количество фотографий автомобиля\n",
    "* `PostalCode` — почтовый индекс владельца анкеты (пользователя)\n",
    "* `LastSeen` — дата последней активности пользователя\n",
    "\n",
    "**Целевой признак**\n",
    "* `Price` — цена (евро)"
   ]
  },
  {
   "cell_type": "markdown",
   "metadata": {},
   "source": [
    "## Подготовка данных"
   ]
  },
  {
   "cell_type": "code",
   "execution_count": 1,
   "metadata": {},
   "outputs": [],
   "source": [
    "import pandas as pd\n",
    "from matplotlib import pyplot as plt\n",
    "import datetime\n",
    "from sklearn.preprocessing import OrdinalEncoder, StandardScaler\n",
    "from sklearn.model_selection import train_test_split\n",
    "from sklearn.ensemble import RandomForestRegressor\n",
    "from sklearn.metrics import mean_squared_error\n",
    "from catboost import CatBoostRegressor\n",
    "from lightgbm import LGBMRegressor\n",
    "from sklearn.dummy import DummyRegressor\n",
    "import spacy\n",
    "plt.rcParams[\"figure.figsize\"] = (15,10)"
   ]
  },
  {
   "cell_type": "code",
   "execution_count": 2,
   "metadata": {},
   "outputs": [],
   "source": [
    "data = pd.read_csv('/datasets/autos.csv')"
   ]
  },
  {
   "cell_type": "code",
   "execution_count": 3,
   "metadata": {
    "scrolled": true
   },
   "outputs": [
    {
     "data": {
      "text/html": [
       "<div>\n",
       "<style scoped>\n",
       "    .dataframe tbody tr th:only-of-type {\n",
       "        vertical-align: middle;\n",
       "    }\n",
       "\n",
       "    .dataframe tbody tr th {\n",
       "        vertical-align: top;\n",
       "    }\n",
       "\n",
       "    .dataframe thead th {\n",
       "        text-align: right;\n",
       "    }\n",
       "</style>\n",
       "<table border=\"1\" class=\"dataframe\">\n",
       "  <thead>\n",
       "    <tr style=\"text-align: right;\">\n",
       "      <th></th>\n",
       "      <th>DateCrawled</th>\n",
       "      <th>Price</th>\n",
       "      <th>VehicleType</th>\n",
       "      <th>RegistrationYear</th>\n",
       "      <th>Gearbox</th>\n",
       "      <th>Power</th>\n",
       "      <th>Model</th>\n",
       "      <th>Kilometer</th>\n",
       "      <th>RegistrationMonth</th>\n",
       "      <th>FuelType</th>\n",
       "      <th>Brand</th>\n",
       "      <th>Repaired</th>\n",
       "      <th>DateCreated</th>\n",
       "      <th>NumberOfPictures</th>\n",
       "      <th>PostalCode</th>\n",
       "      <th>LastSeen</th>\n",
       "    </tr>\n",
       "  </thead>\n",
       "  <tbody>\n",
       "    <tr>\n",
       "      <th>0</th>\n",
       "      <td>2016-03-24 11:52:17</td>\n",
       "      <td>480</td>\n",
       "      <td>NaN</td>\n",
       "      <td>1993</td>\n",
       "      <td>manual</td>\n",
       "      <td>0</td>\n",
       "      <td>golf</td>\n",
       "      <td>150000</td>\n",
       "      <td>0</td>\n",
       "      <td>petrol</td>\n",
       "      <td>volkswagen</td>\n",
       "      <td>NaN</td>\n",
       "      <td>2016-03-24 00:00:00</td>\n",
       "      <td>0</td>\n",
       "      <td>70435</td>\n",
       "      <td>2016-04-07 03:16:57</td>\n",
       "    </tr>\n",
       "    <tr>\n",
       "      <th>1</th>\n",
       "      <td>2016-03-24 10:58:45</td>\n",
       "      <td>18300</td>\n",
       "      <td>coupe</td>\n",
       "      <td>2011</td>\n",
       "      <td>manual</td>\n",
       "      <td>190</td>\n",
       "      <td>NaN</td>\n",
       "      <td>125000</td>\n",
       "      <td>5</td>\n",
       "      <td>gasoline</td>\n",
       "      <td>audi</td>\n",
       "      <td>yes</td>\n",
       "      <td>2016-03-24 00:00:00</td>\n",
       "      <td>0</td>\n",
       "      <td>66954</td>\n",
       "      <td>2016-04-07 01:46:50</td>\n",
       "    </tr>\n",
       "    <tr>\n",
       "      <th>2</th>\n",
       "      <td>2016-03-14 12:52:21</td>\n",
       "      <td>9800</td>\n",
       "      <td>suv</td>\n",
       "      <td>2004</td>\n",
       "      <td>auto</td>\n",
       "      <td>163</td>\n",
       "      <td>grand</td>\n",
       "      <td>125000</td>\n",
       "      <td>8</td>\n",
       "      <td>gasoline</td>\n",
       "      <td>jeep</td>\n",
       "      <td>NaN</td>\n",
       "      <td>2016-03-14 00:00:00</td>\n",
       "      <td>0</td>\n",
       "      <td>90480</td>\n",
       "      <td>2016-04-05 12:47:46</td>\n",
       "    </tr>\n",
       "    <tr>\n",
       "      <th>3</th>\n",
       "      <td>2016-03-17 16:54:04</td>\n",
       "      <td>1500</td>\n",
       "      <td>small</td>\n",
       "      <td>2001</td>\n",
       "      <td>manual</td>\n",
       "      <td>75</td>\n",
       "      <td>golf</td>\n",
       "      <td>150000</td>\n",
       "      <td>6</td>\n",
       "      <td>petrol</td>\n",
       "      <td>volkswagen</td>\n",
       "      <td>no</td>\n",
       "      <td>2016-03-17 00:00:00</td>\n",
       "      <td>0</td>\n",
       "      <td>91074</td>\n",
       "      <td>2016-03-17 17:40:17</td>\n",
       "    </tr>\n",
       "    <tr>\n",
       "      <th>4</th>\n",
       "      <td>2016-03-31 17:25:20</td>\n",
       "      <td>3600</td>\n",
       "      <td>small</td>\n",
       "      <td>2008</td>\n",
       "      <td>manual</td>\n",
       "      <td>69</td>\n",
       "      <td>fabia</td>\n",
       "      <td>90000</td>\n",
       "      <td>7</td>\n",
       "      <td>gasoline</td>\n",
       "      <td>skoda</td>\n",
       "      <td>no</td>\n",
       "      <td>2016-03-31 00:00:00</td>\n",
       "      <td>0</td>\n",
       "      <td>60437</td>\n",
       "      <td>2016-04-06 10:17:21</td>\n",
       "    </tr>\n",
       "  </tbody>\n",
       "</table>\n",
       "</div>"
      ],
      "text/plain": [
       "           DateCrawled  Price VehicleType  RegistrationYear Gearbox  Power  \\\n",
       "0  2016-03-24 11:52:17    480         NaN              1993  manual      0   \n",
       "1  2016-03-24 10:58:45  18300       coupe              2011  manual    190   \n",
       "2  2016-03-14 12:52:21   9800         suv              2004    auto    163   \n",
       "3  2016-03-17 16:54:04   1500       small              2001  manual     75   \n",
       "4  2016-03-31 17:25:20   3600       small              2008  manual     69   \n",
       "\n",
       "   Model  Kilometer  RegistrationMonth  FuelType       Brand Repaired  \\\n",
       "0   golf     150000                  0    petrol  volkswagen      NaN   \n",
       "1    NaN     125000                  5  gasoline        audi      yes   \n",
       "2  grand     125000                  8  gasoline        jeep      NaN   \n",
       "3   golf     150000                  6    petrol  volkswagen       no   \n",
       "4  fabia      90000                  7  gasoline       skoda       no   \n",
       "\n",
       "           DateCreated  NumberOfPictures  PostalCode             LastSeen  \n",
       "0  2016-03-24 00:00:00                 0       70435  2016-04-07 03:16:57  \n",
       "1  2016-03-24 00:00:00                 0       66954  2016-04-07 01:46:50  \n",
       "2  2016-03-14 00:00:00                 0       90480  2016-04-05 12:47:46  \n",
       "3  2016-03-17 00:00:00                 0       91074  2016-03-17 17:40:17  \n",
       "4  2016-03-31 00:00:00                 0       60437  2016-04-06 10:17:21  "
      ]
     },
     "execution_count": 3,
     "metadata": {},
     "output_type": "execute_result"
    }
   ],
   "source": [
    "data.head()"
   ]
  },
  {
   "cell_type": "code",
   "execution_count": 4,
   "metadata": {
    "scrolled": true
   },
   "outputs": [
    {
     "name": "stdout",
     "output_type": "stream",
     "text": [
      "<class 'pandas.core.frame.DataFrame'>\n",
      "RangeIndex: 354369 entries, 0 to 354368\n",
      "Data columns (total 16 columns):\n",
      " #   Column             Non-Null Count   Dtype \n",
      "---  ------             --------------   ----- \n",
      " 0   DateCrawled        354369 non-null  object\n",
      " 1   Price              354369 non-null  int64 \n",
      " 2   VehicleType        316879 non-null  object\n",
      " 3   RegistrationYear   354369 non-null  int64 \n",
      " 4   Gearbox            334536 non-null  object\n",
      " 5   Power              354369 non-null  int64 \n",
      " 6   Model              334664 non-null  object\n",
      " 7   Kilometer          354369 non-null  int64 \n",
      " 8   RegistrationMonth  354369 non-null  int64 \n",
      " 9   FuelType           321474 non-null  object\n",
      " 10  Brand              354369 non-null  object\n",
      " 11  Repaired           283215 non-null  object\n",
      " 12  DateCreated        354369 non-null  object\n",
      " 13  NumberOfPictures   354369 non-null  int64 \n",
      " 14  PostalCode         354369 non-null  int64 \n",
      " 15  LastSeen           354369 non-null  object\n",
      "dtypes: int64(7), object(9)\n",
      "memory usage: 43.3+ MB\n"
     ]
    }
   ],
   "source": [
    "data.info()"
   ]
  },
  {
   "cell_type": "code",
   "execution_count": 5,
   "metadata": {
    "scrolled": true
   },
   "outputs": [
    {
     "data": {
      "text/html": [
       "<div>\n",
       "<style scoped>\n",
       "    .dataframe tbody tr th:only-of-type {\n",
       "        vertical-align: middle;\n",
       "    }\n",
       "\n",
       "    .dataframe tbody tr th {\n",
       "        vertical-align: top;\n",
       "    }\n",
       "\n",
       "    .dataframe thead th {\n",
       "        text-align: right;\n",
       "    }\n",
       "</style>\n",
       "<table border=\"1\" class=\"dataframe\">\n",
       "  <thead>\n",
       "    <tr style=\"text-align: right;\">\n",
       "      <th></th>\n",
       "      <th>Price</th>\n",
       "      <th>RegistrationYear</th>\n",
       "      <th>Power</th>\n",
       "      <th>Kilometer</th>\n",
       "      <th>RegistrationMonth</th>\n",
       "      <th>NumberOfPictures</th>\n",
       "      <th>PostalCode</th>\n",
       "    </tr>\n",
       "  </thead>\n",
       "  <tbody>\n",
       "    <tr>\n",
       "      <th>count</th>\n",
       "      <td>354369.000000</td>\n",
       "      <td>354369.000000</td>\n",
       "      <td>354369.000000</td>\n",
       "      <td>354369.000000</td>\n",
       "      <td>354369.000000</td>\n",
       "      <td>354369.0</td>\n",
       "      <td>354369.000000</td>\n",
       "    </tr>\n",
       "    <tr>\n",
       "      <th>mean</th>\n",
       "      <td>4416.656776</td>\n",
       "      <td>2004.234448</td>\n",
       "      <td>110.094337</td>\n",
       "      <td>128211.172535</td>\n",
       "      <td>5.714645</td>\n",
       "      <td>0.0</td>\n",
       "      <td>50508.689087</td>\n",
       "    </tr>\n",
       "    <tr>\n",
       "      <th>std</th>\n",
       "      <td>4514.158514</td>\n",
       "      <td>90.227958</td>\n",
       "      <td>189.850405</td>\n",
       "      <td>37905.341530</td>\n",
       "      <td>3.726421</td>\n",
       "      <td>0.0</td>\n",
       "      <td>25783.096248</td>\n",
       "    </tr>\n",
       "    <tr>\n",
       "      <th>min</th>\n",
       "      <td>0.000000</td>\n",
       "      <td>1000.000000</td>\n",
       "      <td>0.000000</td>\n",
       "      <td>5000.000000</td>\n",
       "      <td>0.000000</td>\n",
       "      <td>0.0</td>\n",
       "      <td>1067.000000</td>\n",
       "    </tr>\n",
       "    <tr>\n",
       "      <th>25%</th>\n",
       "      <td>1050.000000</td>\n",
       "      <td>1999.000000</td>\n",
       "      <td>69.000000</td>\n",
       "      <td>125000.000000</td>\n",
       "      <td>3.000000</td>\n",
       "      <td>0.0</td>\n",
       "      <td>30165.000000</td>\n",
       "    </tr>\n",
       "    <tr>\n",
       "      <th>50%</th>\n",
       "      <td>2700.000000</td>\n",
       "      <td>2003.000000</td>\n",
       "      <td>105.000000</td>\n",
       "      <td>150000.000000</td>\n",
       "      <td>6.000000</td>\n",
       "      <td>0.0</td>\n",
       "      <td>49413.000000</td>\n",
       "    </tr>\n",
       "    <tr>\n",
       "      <th>75%</th>\n",
       "      <td>6400.000000</td>\n",
       "      <td>2008.000000</td>\n",
       "      <td>143.000000</td>\n",
       "      <td>150000.000000</td>\n",
       "      <td>9.000000</td>\n",
       "      <td>0.0</td>\n",
       "      <td>71083.000000</td>\n",
       "    </tr>\n",
       "    <tr>\n",
       "      <th>max</th>\n",
       "      <td>20000.000000</td>\n",
       "      <td>9999.000000</td>\n",
       "      <td>20000.000000</td>\n",
       "      <td>150000.000000</td>\n",
       "      <td>12.000000</td>\n",
       "      <td>0.0</td>\n",
       "      <td>99998.000000</td>\n",
       "    </tr>\n",
       "  </tbody>\n",
       "</table>\n",
       "</div>"
      ],
      "text/plain": [
       "               Price  RegistrationYear          Power      Kilometer  \\\n",
       "count  354369.000000     354369.000000  354369.000000  354369.000000   \n",
       "mean     4416.656776       2004.234448     110.094337  128211.172535   \n",
       "std      4514.158514         90.227958     189.850405   37905.341530   \n",
       "min         0.000000       1000.000000       0.000000    5000.000000   \n",
       "25%      1050.000000       1999.000000      69.000000  125000.000000   \n",
       "50%      2700.000000       2003.000000     105.000000  150000.000000   \n",
       "75%      6400.000000       2008.000000     143.000000  150000.000000   \n",
       "max     20000.000000       9999.000000   20000.000000  150000.000000   \n",
       "\n",
       "       RegistrationMonth  NumberOfPictures     PostalCode  \n",
       "count      354369.000000          354369.0  354369.000000  \n",
       "mean            5.714645               0.0   50508.689087  \n",
       "std             3.726421               0.0   25783.096248  \n",
       "min             0.000000               0.0    1067.000000  \n",
       "25%             3.000000               0.0   30165.000000  \n",
       "50%             6.000000               0.0   49413.000000  \n",
       "75%             9.000000               0.0   71083.000000  \n",
       "max            12.000000               0.0   99998.000000  "
      ]
     },
     "execution_count": 5,
     "metadata": {},
     "output_type": "execute_result"
    }
   ],
   "source": [
    "data.describe()"
   ]
  },
  {
   "cell_type": "code",
   "execution_count": 6,
   "metadata": {
    "scrolled": true
   },
   "outputs": [
    {
     "data": {
      "text/html": [
       "<div>\n",
       "<style scoped>\n",
       "    .dataframe tbody tr th:only-of-type {\n",
       "        vertical-align: middle;\n",
       "    }\n",
       "\n",
       "    .dataframe tbody tr th {\n",
       "        vertical-align: top;\n",
       "    }\n",
       "\n",
       "    .dataframe thead th {\n",
       "        text-align: right;\n",
       "    }\n",
       "</style>\n",
       "<table border=\"1\" class=\"dataframe\">\n",
       "  <thead>\n",
       "    <tr style=\"text-align: right;\">\n",
       "      <th></th>\n",
       "      <th>Price</th>\n",
       "      <th>RegistrationYear</th>\n",
       "      <th>Power</th>\n",
       "      <th>Kilometer</th>\n",
       "      <th>RegistrationMonth</th>\n",
       "      <th>NumberOfPictures</th>\n",
       "      <th>PostalCode</th>\n",
       "    </tr>\n",
       "  </thead>\n",
       "  <tbody>\n",
       "    <tr>\n",
       "      <th>Price</th>\n",
       "      <td>1.000000</td>\n",
       "      <td>0.026916</td>\n",
       "      <td>0.158872</td>\n",
       "      <td>-0.333199</td>\n",
       "      <td>0.110581</td>\n",
       "      <td>NaN</td>\n",
       "      <td>0.076055</td>\n",
       "    </tr>\n",
       "    <tr>\n",
       "      <th>RegistrationYear</th>\n",
       "      <td>0.026916</td>\n",
       "      <td>1.000000</td>\n",
       "      <td>-0.000828</td>\n",
       "      <td>-0.053447</td>\n",
       "      <td>-0.011619</td>\n",
       "      <td>NaN</td>\n",
       "      <td>-0.003459</td>\n",
       "    </tr>\n",
       "    <tr>\n",
       "      <th>Power</th>\n",
       "      <td>0.158872</td>\n",
       "      <td>-0.000828</td>\n",
       "      <td>1.000000</td>\n",
       "      <td>0.024002</td>\n",
       "      <td>0.043380</td>\n",
       "      <td>NaN</td>\n",
       "      <td>0.021665</td>\n",
       "    </tr>\n",
       "    <tr>\n",
       "      <th>Kilometer</th>\n",
       "      <td>-0.333199</td>\n",
       "      <td>-0.053447</td>\n",
       "      <td>0.024002</td>\n",
       "      <td>1.000000</td>\n",
       "      <td>0.009571</td>\n",
       "      <td>NaN</td>\n",
       "      <td>-0.007698</td>\n",
       "    </tr>\n",
       "    <tr>\n",
       "      <th>RegistrationMonth</th>\n",
       "      <td>0.110581</td>\n",
       "      <td>-0.011619</td>\n",
       "      <td>0.043380</td>\n",
       "      <td>0.009571</td>\n",
       "      <td>1.000000</td>\n",
       "      <td>NaN</td>\n",
       "      <td>0.013995</td>\n",
       "    </tr>\n",
       "    <tr>\n",
       "      <th>NumberOfPictures</th>\n",
       "      <td>NaN</td>\n",
       "      <td>NaN</td>\n",
       "      <td>NaN</td>\n",
       "      <td>NaN</td>\n",
       "      <td>NaN</td>\n",
       "      <td>NaN</td>\n",
       "      <td>NaN</td>\n",
       "    </tr>\n",
       "    <tr>\n",
       "      <th>PostalCode</th>\n",
       "      <td>0.076055</td>\n",
       "      <td>-0.003459</td>\n",
       "      <td>0.021665</td>\n",
       "      <td>-0.007698</td>\n",
       "      <td>0.013995</td>\n",
       "      <td>NaN</td>\n",
       "      <td>1.000000</td>\n",
       "    </tr>\n",
       "  </tbody>\n",
       "</table>\n",
       "</div>"
      ],
      "text/plain": [
       "                      Price  RegistrationYear     Power  Kilometer  \\\n",
       "Price              1.000000          0.026916  0.158872  -0.333199   \n",
       "RegistrationYear   0.026916          1.000000 -0.000828  -0.053447   \n",
       "Power              0.158872         -0.000828  1.000000   0.024002   \n",
       "Kilometer         -0.333199         -0.053447  0.024002   1.000000   \n",
       "RegistrationMonth  0.110581         -0.011619  0.043380   0.009571   \n",
       "NumberOfPictures        NaN               NaN       NaN        NaN   \n",
       "PostalCode         0.076055         -0.003459  0.021665  -0.007698   \n",
       "\n",
       "                   RegistrationMonth  NumberOfPictures  PostalCode  \n",
       "Price                       0.110581               NaN    0.076055  \n",
       "RegistrationYear           -0.011619               NaN   -0.003459  \n",
       "Power                       0.043380               NaN    0.021665  \n",
       "Kilometer                   0.009571               NaN   -0.007698  \n",
       "RegistrationMonth           1.000000               NaN    0.013995  \n",
       "NumberOfPictures                 NaN               NaN         NaN  \n",
       "PostalCode                  0.013995               NaN    1.000000  "
      ]
     },
     "execution_count": 6,
     "metadata": {},
     "output_type": "execute_result"
    }
   ],
   "source": [
    "data.corr()"
   ]
  },
  {
   "cell_type": "code",
   "execution_count": 7,
   "metadata": {},
   "outputs": [],
   "source": [
    "def rename_column(column_name):\n",
    "    new_column_name = ''\n",
    "    for letter in column_name:\n",
    "        if letter.lower() != letter and len(new_column_name) != 0:\n",
    "            new_column_name += '_' + letter.lower()\n",
    "        else:\n",
    "            new_column_name += letter.lower()\n",
    "    return(new_column_name)"
   ]
  },
  {
   "cell_type": "code",
   "execution_count": 8,
   "metadata": {},
   "outputs": [
    {
     "data": {
      "text/plain": [
       "Index(['date_crawled', 'price', 'vehicle_type', 'registration_year', 'gearbox',\n",
       "       'power', 'model', 'kilometer', 'registration_month', 'fuel_type',\n",
       "       'brand', 'repaired', 'date_created', 'number_of_pictures',\n",
       "       'postal_code', 'last_seen'],\n",
       "      dtype='object')"
      ]
     },
     "execution_count": 8,
     "metadata": {},
     "output_type": "execute_result"
    }
   ],
   "source": [
    "new_columns = []\n",
    "for column in data.columns:\n",
    "    new_columns.append(rename_column(column))\n",
    "data.columns = new_columns\n",
    "data.columns"
   ]
  },
  {
   "cell_type": "code",
   "execution_count": 9,
   "metadata": {},
   "outputs": [
    {
     "name": "stdout",
     "output_type": "stream",
     "text": [
      "<class 'pandas.core.frame.DataFrame'>\n",
      "RangeIndex: 354369 entries, 0 to 354368\n",
      "Data columns (total 16 columns):\n",
      " #   Column              Non-Null Count   Dtype         \n",
      "---  ------              --------------   -----         \n",
      " 0   date_crawled        354369 non-null  datetime64[ns]\n",
      " 1   price               354369 non-null  int64         \n",
      " 2   vehicle_type        316879 non-null  object        \n",
      " 3   registration_year   354369 non-null  int64         \n",
      " 4   gearbox             334536 non-null  object        \n",
      " 5   power               354369 non-null  int64         \n",
      " 6   model               334664 non-null  object        \n",
      " 7   kilometer           354369 non-null  int64         \n",
      " 8   registration_month  354369 non-null  int64         \n",
      " 9   fuel_type           321474 non-null  object        \n",
      " 10  brand               354369 non-null  object        \n",
      " 11  repaired            283215 non-null  object        \n",
      " 12  date_created        354369 non-null  datetime64[ns]\n",
      " 13  number_of_pictures  354369 non-null  int64         \n",
      " 14  postal_code         354369 non-null  int64         \n",
      " 15  last_seen           354369 non-null  datetime64[ns]\n",
      "dtypes: datetime64[ns](3), int64(7), object(6)\n",
      "memory usage: 43.3+ MB\n"
     ]
    }
   ],
   "source": [
    "data['date_crawled'] = pd.to_datetime(\n",
    "    data['date_crawled'], format='%Y-%m-%dT%H:%M:%S')\n",
    "data['date_created'] = pd.to_datetime(\n",
    "    data['date_created'], format='%Y-%m-%dT%H:%M:%S')\n",
    "data['last_seen'] = pd.to_datetime(\n",
    "    data['last_seen'], format='%Y-%m-%dT%H:%M:%S')\n",
    "data.info()"
   ]
  },
  {
   "cell_type": "code",
   "execution_count": 10,
   "metadata": {},
   "outputs": [
    {
     "data": {
      "text/plain": [
       "4"
      ]
     },
     "execution_count": 10,
     "metadata": {},
     "output_type": "execute_result"
    }
   ],
   "source": [
    "data.duplicated().sum()"
   ]
  },
  {
   "cell_type": "code",
   "execution_count": 11,
   "metadata": {
    "scrolled": true
   },
   "outputs": [
    {
     "data": {
      "text/plain": [
       "0"
      ]
     },
     "execution_count": 11,
     "metadata": {},
     "output_type": "execute_result"
    }
   ],
   "source": [
    "data = data.drop_duplicates()\n",
    "data.duplicated().sum()"
   ]
  },
  {
   "cell_type": "code",
   "execution_count": 12,
   "metadata": {
    "scrolled": true
   },
   "outputs": [
    {
     "data": {
      "text/plain": [
       "date_crawled              0\n",
       "price                     0\n",
       "vehicle_type          37490\n",
       "registration_year         0\n",
       "gearbox               19833\n",
       "power                     0\n",
       "model                 19705\n",
       "kilometer                 0\n",
       "registration_month        0\n",
       "fuel_type             32895\n",
       "brand                     0\n",
       "repaired              71154\n",
       "date_created              0\n",
       "number_of_pictures        0\n",
       "postal_code               0\n",
       "last_seen                 0\n",
       "dtype: int64"
      ]
     },
     "execution_count": 12,
     "metadata": {},
     "output_type": "execute_result"
    }
   ],
   "source": [
    "data.isna().sum()"
   ]
  },
  {
   "cell_type": "code",
   "execution_count": 13,
   "metadata": {
    "scrolled": false
   },
   "outputs": [
    {
     "data": {
      "text/plain": [
       "date_crawled          0\n",
       "price                 0\n",
       "vehicle_type          0\n",
       "registration_year     0\n",
       "gearbox               0\n",
       "power                 0\n",
       "model                 0\n",
       "kilometer             0\n",
       "registration_month    0\n",
       "fuel_type             0\n",
       "brand                 0\n",
       "repaired              0\n",
       "date_created          0\n",
       "number_of_pictures    0\n",
       "postal_code           0\n",
       "last_seen             0\n",
       "dtype: int64"
      ]
     },
     "execution_count": 13,
     "metadata": {},
     "output_type": "execute_result"
    }
   ],
   "source": [
    "data = data.fillna('unknown')\n",
    "data.isna().sum()"
   ]
  },
  {
   "cell_type": "code",
   "execution_count": 14,
   "metadata": {
    "scrolled": false
   },
   "outputs": [
    {
     "data": {
      "image/png": "[encoded data removed]",
      "text/plain": [
       "<Figure size 1080x720 with 1 Axes>"
      ]
     },
     "metadata": {
      "needs_background": "light"
     },
     "output_type": "display_data"
    }
   ],
   "source": [
    "plt.title('\"Ящик с усами\" для параметра \"power\"')\n",
    "plt.ylabel('Значение power', size=14)\n",
    "plt.xlabel('boxplot', size=14)\n",
    "plt.boxplot(data['power']);"
   ]
  },
  {
   "cell_type": "code",
   "execution_count": 15,
   "metadata": {
    "scrolled": true
   },
   "outputs": [
    {
     "data": {
      "text/plain": [
       "count    354365.000000\n",
       "mean        110.093816\n",
       "std         189.851330\n",
       "min           0.000000\n",
       "25%          69.000000\n",
       "50%         105.000000\n",
       "75%         143.000000\n",
       "max       20000.000000\n",
       "Name: power, dtype: float64"
      ]
     },
     "execution_count": 15,
     "metadata": {},
     "output_type": "execute_result"
    }
   ],
   "source": [
    "data['power'].describe()"
   ]
  },
  {
   "cell_type": "code",
   "execution_count": 16,
   "metadata": {
    "scrolled": true
   },
   "outputs": [
    {
     "data": {
      "text/plain": [
       "array([    0,     1,     2,     3,     4,     5,     6,     7,     8,\n",
       "           9,    10,    11,    12,    13,    14,    15,    16,    17,\n",
       "          18,    19,    20,    21,    22,    23,    24,    25,    26,\n",
       "          27,    28,    29,    30,    31,    32,    33,    34,    35,\n",
       "          36,    37,    38,    39,    40,    41,    42,    43,    44,\n",
       "          45,    46,    47,    48,    49,    50,    51,    52,    53,\n",
       "          54,    55,    56,    57,    58,    59,    60,    61,    62,\n",
       "          63,    64,    65,    66,    67,    68,    69,    70,    71,\n",
       "          72,    73,    74,    75,    76,    77,    78,    79,    80,\n",
       "          81,    82,    83,    84,    85,    86,    87,    88,    89,\n",
       "          90,    91,    92,    93,    94,    95,    96,    97,    98,\n",
       "          99,   100,   101,   102,   103,   104,   105,   106,   107,\n",
       "         108,   109,   110,   111,   112,   113,   114,   115,   116,\n",
       "         117,   118,   119,   120,   121,   122,   123,   124,   125,\n",
       "         126,   127,   128,   129,   130,   131,   132,   133,   134,\n",
       "         135,   136,   137,   138,   139,   140,   141,   142,   143,\n",
       "         144,   145,   146,   147,   148,   149,   150,   151,   152,\n",
       "         153,   154,   155,   156,   157,   158,   159,   160,   161,\n",
       "         162,   163,   164,   165,   166,   167,   168,   169,   170,\n",
       "         171,   172,   173,   174,   175,   176,   177,   178,   179,\n",
       "         180,   181,   182,   183,   184,   185,   186,   187,   188,\n",
       "         189,   190,   191,   192,   193,   194,   195,   196,   197,\n",
       "         198,   199,   200,   201,   202,   203,   204,   205,   206,\n",
       "         207,   208,   209,   210,   211,   212,   213,   214,   215,\n",
       "         216,   217,   218,   219,   220,   221,   222,   223,   224,\n",
       "         225,   226,   227,   228,   229,   230,   231,   232,   233,\n",
       "         234,   235,   236,   237,   238,   239,   240,   241,   242,\n",
       "         243,   244,   245,   246,   247,   248,   249,   250,   251,\n",
       "         252,   253,   254,   255,   256,   257,   258,   259,   260,\n",
       "         261,   262,   264,   265,   266,   267,   268,   269,   270,\n",
       "         271,   272,   273,   274,   275,   276,   277,   278,   279,\n",
       "         280,   281,   282,   283,   284,   285,   286,   287,   288,\n",
       "         289,   290,   292,   293,   294,   295,   296,   297,   298,\n",
       "         299,   300,   301,   303,   304,   305,   306,   307,   308,\n",
       "         309,   310,   311,   313,   314,   315,   316,   317,   318,\n",
       "         320,   321,   322,   323,   324,   325,   326,   327,   328,\n",
       "         329,   330,   331,   332,   333,   334,   335,   336,   337,\n",
       "         338,   339,   340,   341,   343,   344,   345,   346,   347,\n",
       "         348,   349,   350,   351,   352,   353,   354,   355,   356,\n",
       "         357,   358,   360,   361,   362,   363,   364,   365,   367,\n",
       "         368,   370,   371,   374,   375,   376,   377,   379,   380,\n",
       "         381,   382,   385,   386,   387,   388,   390,   392,   394,\n",
       "         396,   398,   399,   400,   401,   402,   405,   408,   409,\n",
       "         411,   416,   420,   421,   425,   426,   428,   430,   431,\n",
       "         435,   440,   442,   445,   449,   450,   454,   457,   459,\n",
       "         460,   475,   476,   485,   487,   489,   490,   500,   504,\n",
       "         505,   507,   508,   510,   514,   515,   517,   519,   520,\n",
       "         521,   525,   530,   540,   541,   544,   550,   551,   553,\n",
       "         560,   572,   574,   579,   580,   584,   585,   599,   600,\n",
       "         601,   602,   603,   604,   606,   607,   610,   612,   620,\n",
       "         640,   645,   650,   651,   671,   678,   682,   685,   696,\n",
       "         700,   702,   703,   732,   743,   750,   751,   754,   771,\n",
       "         776,   800,   805,   808,   850,   851,   871,   900,   901,\n",
       "         902,   903,   907,   909,   923,   950,   952,   953,   960,\n",
       "         998,   999,  1000,  1001,  1002,  1003,  1004,  1005,  1011,\n",
       "        1012,  1016,  1017,  1021,  1024,  1054,  1055,  1056,  1062,\n",
       "        1079,  1082,  1090,  1100,  1102,  1103,  1105,  1111,  1115,\n",
       "        1120,  1149,  1151,  1158,  1160,  1162,  1164,  1199,  1200,\n",
       "        1202,  1221,  1223,  1230,  1239,  1240,  1241,  1250,  1252,\n",
       "        1256,  1275,  1288,  1299,  1300,  1312,  1317,  1324,  1339,\n",
       "        1351,  1360,  1362,  1363,  1367,  1390,  1394,  1398,  1399,\n",
       "        1400,  1401,  1403,  1405,  1416,  1432,  1433,  1436,  1500,\n",
       "        1501,  1502,  1503,  1506,  1521,  1548,  1595,  1596,  1597,\n",
       "        1598,  1600,  1625,  1631,  1653,  1659,  1689,  1700,  1701,\n",
       "        1703,  1704,  1707,  1753,  1771,  1779,  1780,  1781,  1783,\n",
       "        1793,  1796,  1799,  1800,  1801,  1870,  1895,  1896,  1900,\n",
       "        1910,  1920,  1922,  1933,  1937,  1968,  1986,  1988,  1992,\n",
       "        1993,  1995,  1998,  1999,  2000,  2004,  2005,  2007,  2009,\n",
       "        2016,  2017,  2018,  2172,  2200,  2201,  2331,  2340,  2389,\n",
       "        2402,  2461,  2598,  2729,  2789,  2792,  2799,  3000,  3199,\n",
       "        3454,  3500,  3750,  4400,  4507,  4700,  5000,  5411,  5420,\n",
       "        5575,  5809,  5815,  5867,  6006,  6010,  6011,  6012,  6018,\n",
       "        6045,  6062,  6226,  6512,  6920,  7508,  7511,  7512,  7515,\n",
       "        7518,  7529,  7544,  8011,  8259,  8404,  8500,  9000,  9007,\n",
       "        9010,  9011,  9012,  9013,  9710, 10000, 10110, 10218, 10311,\n",
       "       10317, 10520, 10522, 10710, 10910, 10912, 11011, 11025, 11111,\n",
       "       11509, 11530, 11635, 12012, 12510, 12512, 12684, 13616, 13636,\n",
       "       14009, 15001, 15016, 15017, 15020, 15033, 16011, 16051, 16311,\n",
       "       16312, 17011, 17019, 17410, 17700, 17932, 19208, 19211, 19312,\n",
       "       20000])"
      ]
     },
     "execution_count": 16,
     "metadata": {},
     "output_type": "execute_result"
    }
   ],
   "source": [
    "data['power'].sort_values().unique()"
   ]
  },
  {
   "cell_type": "code",
   "execution_count": 17,
   "metadata": {},
   "outputs": [],
   "source": [
    "data = data[(data['power'] > 59) & (data['power'] < 300)]"
   ]
  },
  {
   "cell_type": "code",
   "execution_count": 18,
   "metadata": {
    "scrolled": false
   },
   "outputs": [
    {
     "data": {
      "text/plain": [
       "count    286863.000000\n",
       "mean        123.259556\n",
       "std          46.346035\n",
       "min          60.000000\n",
       "25%          90.000000\n",
       "50%         116.000000\n",
       "75%         150.000000\n",
       "max         299.000000\n",
       "Name: power, dtype: float64"
      ]
     },
     "metadata": {},
     "output_type": "display_data"
    },
    {
     "data": {
      "image/png": "[encoded data removed]",
      "text/plain": [
       "<Figure size 1080x720 with 1 Axes>"
      ]
     },
     "metadata": {
      "needs_background": "light"
     },
     "output_type": "display_data"
    }
   ],
   "source": [
    "display(data['power'].describe())\n",
    "plt.title('\"Ящик с усами\" для параметра \"power\"')\n",
    "plt.ylabel('Значение power', size=14)\n",
    "plt.xlabel('boxplot', size=14)\n",
    "plt.boxplot(data['power']);"
   ]
  },
  {
   "cell_type": "code",
   "execution_count": 19,
   "metadata": {},
   "outputs": [
    {
     "data": {
      "text/plain": [
       "count    286863.000000\n",
       "mean       4890.860006\n",
       "std        4581.857608\n",
       "min           0.000000\n",
       "25%        1400.000000\n",
       "50%        3300.000000\n",
       "75%        6999.000000\n",
       "max       20000.000000\n",
       "Name: price, dtype: float64"
      ]
     },
     "execution_count": 19,
     "metadata": {},
     "output_type": "execute_result"
    }
   ],
   "source": [
    "data['price'].describe()"
   ]
  },
  {
   "cell_type": "code",
   "execution_count": 20,
   "metadata": {
    "scrolled": false
   },
   "outputs": [
    {
     "data": {
      "image/png": "[encoded data removed]",
      "text/plain": [
       "<Figure size 1080x720 with 1 Axes>"
      ]
     },
     "metadata": {
      "needs_background": "light"
     },
     "output_type": "display_data"
    }
   ],
   "source": [
    "plt.title('\"Ящик с усами\" для параметра \"price\"')\n",
    "plt.ylabel('Значение price', size=14)\n",
    "plt.xlabel('boxplot', size=14)\n",
    "plt.boxplot(data['price']);"
   ]
  },
  {
   "cell_type": "code",
   "execution_count": 21,
   "metadata": {
    "scrolled": false
   },
   "outputs": [
    {
     "data": {
      "image/png": "[encoded data removed]",
      "text/plain": [
       "<Figure size 1080x720 with 1 Axes>"
      ]
     },
     "metadata": {
      "needs_background": "light"
     },
     "output_type": "display_data"
    }
   ],
   "source": [
    "plt.title('Гистограмма для параметра \"price\"')\n",
    "plt.xlabel('Значение price', size=14)\n",
    "plt.ylabel('Количество элементов', size=14)\n",
    "plt.hist(data['price'], bins=200);"
   ]
  },
  {
   "cell_type": "code",
   "execution_count": 22,
   "metadata": {},
   "outputs": [],
   "source": [
    "data = data[(data['price'] > 300) & (data['price'] < 15400)]"
   ]
  },
  {
   "cell_type": "code",
   "execution_count": 23,
   "metadata": {
    "scrolled": false
   },
   "outputs": [
    {
     "data": {
      "text/plain": [
       "count    260585.000000\n",
       "mean       4505.167730\n",
       "std        3708.989905\n",
       "min         301.000000\n",
       "25%        1500.000000\n",
       "50%        3300.000000\n",
       "75%        6600.000000\n",
       "max       15399.000000\n",
       "Name: price, dtype: float64"
      ]
     },
     "metadata": {},
     "output_type": "display_data"
    },
    {
     "data": {
      "image/png": "[encoded data removed]",
      "text/plain": [
       "<Figure size 1080x720 with 1 Axes>"
      ]
     },
     "metadata": {
      "needs_background": "light"
     },
     "output_type": "display_data"
    }
   ],
   "source": [
    "display(data['price'].describe())\n",
    "plt.title('\"Ящик с усами\" для параметра \"price\"')\n",
    "plt.ylabel('Значение price', size=14)\n",
    "plt.xlabel('boxplot', size=14)\n",
    "plt.boxplot(data['price']);"
   ]
  },
  {
   "cell_type": "code",
   "execution_count": 24,
   "metadata": {
    "scrolled": true
   },
   "outputs": [
    {
     "data": {
      "text/plain": [
       "array([1000, 1500, 1800, 1910, 1937, 1942, 1943, 1948, 1949, 1950, 1951,\n",
       "       1952, 1953, 1954, 1955, 1956, 1957, 1958, 1959, 1960, 1961, 1962,\n",
       "       1963, 1964, 1965, 1966, 1967, 1968, 1969, 1970, 1971, 1972, 1973,\n",
       "       1974, 1975, 1976, 1977, 1978, 1979, 1980, 1981, 1982, 1983, 1984,\n",
       "       1985, 1986, 1987, 1988, 1989, 1990, 1991, 1992, 1993, 1994, 1995,\n",
       "       1996, 1997, 1998, 1999, 2000, 2001, 2002, 2003, 2004, 2005, 2006,\n",
       "       2007, 2008, 2009, 2010, 2011, 2012, 2013, 2014, 2015, 2016, 2017,\n",
       "       2018, 2019, 2800, 2900, 4500, 5000, 5911, 8200, 9999])"
      ]
     },
     "metadata": {},
     "output_type": "display_data"
    },
    {
     "data": {
      "text/plain": [
       "array([ 0,  1,  2,  3,  4,  5,  6,  7,  8,  9, 10, 11, 12])"
      ]
     },
     "execution_count": 24,
     "metadata": {},
     "output_type": "execute_result"
    }
   ],
   "source": [
    "display(data['registration_year'].sort_values().unique())\n",
    "data['registration_month'].sort_values().unique()"
   ]
  },
  {
   "cell_type": "code",
   "execution_count": 25,
   "metadata": {
    "scrolled": false
   },
   "outputs": [
    {
     "data": {
      "text/html": [
       "<div>\n",
       "<style scoped>\n",
       "    .dataframe tbody tr th:only-of-type {\n",
       "        vertical-align: middle;\n",
       "    }\n",
       "\n",
       "    .dataframe tbody tr th {\n",
       "        vertical-align: top;\n",
       "    }\n",
       "\n",
       "    .dataframe thead th {\n",
       "        text-align: right;\n",
       "    }\n",
       "</style>\n",
       "<table border=\"1\" class=\"dataframe\">\n",
       "  <thead>\n",
       "    <tr style=\"text-align: right;\">\n",
       "      <th></th>\n",
       "      <th>date_crawled</th>\n",
       "      <th>price</th>\n",
       "      <th>vehicle_type</th>\n",
       "      <th>registration_year</th>\n",
       "      <th>gearbox</th>\n",
       "      <th>power</th>\n",
       "      <th>model</th>\n",
       "      <th>kilometer</th>\n",
       "      <th>registration_month</th>\n",
       "      <th>fuel_type</th>\n",
       "      <th>brand</th>\n",
       "      <th>repaired</th>\n",
       "      <th>date_created</th>\n",
       "      <th>number_of_pictures</th>\n",
       "      <th>postal_code</th>\n",
       "      <th>last_seen</th>\n",
       "    </tr>\n",
       "  </thead>\n",
       "  <tbody>\n",
       "    <tr>\n",
       "      <th>2</th>\n",
       "      <td>2016-03-14 12:52:21</td>\n",
       "      <td>9800</td>\n",
       "      <td>suv</td>\n",
       "      <td>2004</td>\n",
       "      <td>auto</td>\n",
       "      <td>163</td>\n",
       "      <td>grand</td>\n",
       "      <td>125000</td>\n",
       "      <td>8</td>\n",
       "      <td>gasoline</td>\n",
       "      <td>jeep</td>\n",
       "      <td>unknown</td>\n",
       "      <td>2016-03-14</td>\n",
       "      <td>0</td>\n",
       "      <td>90480</td>\n",
       "      <td>2016-04-05 12:47:46</td>\n",
       "    </tr>\n",
       "    <tr>\n",
       "      <th>3</th>\n",
       "      <td>2016-03-17 16:54:04</td>\n",
       "      <td>1500</td>\n",
       "      <td>small</td>\n",
       "      <td>2001</td>\n",
       "      <td>manual</td>\n",
       "      <td>75</td>\n",
       "      <td>golf</td>\n",
       "      <td>150000</td>\n",
       "      <td>6</td>\n",
       "      <td>petrol</td>\n",
       "      <td>volkswagen</td>\n",
       "      <td>no</td>\n",
       "      <td>2016-03-17</td>\n",
       "      <td>0</td>\n",
       "      <td>91074</td>\n",
       "      <td>2016-03-17 17:40:17</td>\n",
       "    </tr>\n",
       "    <tr>\n",
       "      <th>4</th>\n",
       "      <td>2016-03-31 17:25:20</td>\n",
       "      <td>3600</td>\n",
       "      <td>small</td>\n",
       "      <td>2008</td>\n",
       "      <td>manual</td>\n",
       "      <td>69</td>\n",
       "      <td>fabia</td>\n",
       "      <td>90000</td>\n",
       "      <td>7</td>\n",
       "      <td>gasoline</td>\n",
       "      <td>skoda</td>\n",
       "      <td>no</td>\n",
       "      <td>2016-03-31</td>\n",
       "      <td>0</td>\n",
       "      <td>60437</td>\n",
       "      <td>2016-04-06 10:17:21</td>\n",
       "    </tr>\n",
       "    <tr>\n",
       "      <th>5</th>\n",
       "      <td>2016-04-04 17:36:23</td>\n",
       "      <td>650</td>\n",
       "      <td>sedan</td>\n",
       "      <td>1995</td>\n",
       "      <td>manual</td>\n",
       "      <td>102</td>\n",
       "      <td>3er</td>\n",
       "      <td>150000</td>\n",
       "      <td>10</td>\n",
       "      <td>petrol</td>\n",
       "      <td>bmw</td>\n",
       "      <td>yes</td>\n",
       "      <td>2016-04-04</td>\n",
       "      <td>0</td>\n",
       "      <td>33775</td>\n",
       "      <td>2016-04-06 19:17:07</td>\n",
       "    </tr>\n",
       "    <tr>\n",
       "      <th>6</th>\n",
       "      <td>2016-04-01 20:48:51</td>\n",
       "      <td>2200</td>\n",
       "      <td>convertible</td>\n",
       "      <td>2004</td>\n",
       "      <td>manual</td>\n",
       "      <td>109</td>\n",
       "      <td>2_reihe</td>\n",
       "      <td>150000</td>\n",
       "      <td>8</td>\n",
       "      <td>petrol</td>\n",
       "      <td>peugeot</td>\n",
       "      <td>no</td>\n",
       "      <td>2016-04-01</td>\n",
       "      <td>0</td>\n",
       "      <td>67112</td>\n",
       "      <td>2016-04-05 18:18:39</td>\n",
       "    </tr>\n",
       "  </tbody>\n",
       "</table>\n",
       "</div>"
      ],
      "text/plain": [
       "         date_crawled  price vehicle_type  registration_year gearbox  power  \\\n",
       "2 2016-03-14 12:52:21   9800          suv               2004    auto    163   \n",
       "3 2016-03-17 16:54:04   1500        small               2001  manual     75   \n",
       "4 2016-03-31 17:25:20   3600        small               2008  manual     69   \n",
       "5 2016-04-04 17:36:23    650        sedan               1995  manual    102   \n",
       "6 2016-04-01 20:48:51   2200  convertible               2004  manual    109   \n",
       "\n",
       "     model  kilometer  registration_month fuel_type       brand repaired  \\\n",
       "2    grand     125000                   8  gasoline        jeep  unknown   \n",
       "3     golf     150000                   6    petrol  volkswagen       no   \n",
       "4    fabia      90000                   7  gasoline       skoda       no   \n",
       "5      3er     150000                  10    petrol         bmw      yes   \n",
       "6  2_reihe     150000                   8    petrol     peugeot       no   \n",
       "\n",
       "  date_created  number_of_pictures  postal_code           last_seen  \n",
       "2   2016-03-14                   0        90480 2016-04-05 12:47:46  \n",
       "3   2016-03-17                   0        91074 2016-03-17 17:40:17  \n",
       "4   2016-03-31                   0        60437 2016-04-06 10:17:21  \n",
       "5   2016-04-04                   0        33775 2016-04-06 19:17:07  \n",
       "6   2016-04-01                   0        67112 2016-04-05 18:18:39  "
      ]
     },
     "execution_count": 25,
     "metadata": {},
     "output_type": "execute_result"
    }
   ],
   "source": [
    "data.head()"
   ]
  },
  {
   "cell_type": "code",
   "execution_count": 26,
   "metadata": {
    "scrolled": false
   },
   "outputs": [],
   "source": [
    "data = data[(data['registration_year'] >= 1937) & (data['registration_year'] <= data['date_crawled'].max().year) \n",
    "            & (data['registration_month'] != 0)]"
   ]
  },
  {
   "cell_type": "code",
   "execution_count": 71,
   "metadata": {
    "scrolled": true
   },
   "outputs": [
    {
     "data": {
      "text/plain": [
       "array([0])"
      ]
     },
     "execution_count": 71,
     "metadata": {},
     "output_type": "execute_result"
    }
   ],
   "source": [
    "data['number_of_pictures'].sort_values().unique()"
   ]
  },
  {
   "cell_type": "markdown",
   "metadata": {},
   "source": [
    "        Даты непригодны для обучения модели, поэтому их необходимо удалить. В столбце \"number_of_pictures\" все значения \n",
    "    равны 0, поэтому этот столбец не имеет никакого значения, его тоже необходимо удалить. Столбцы \"postal_code\" и \n",
    "    \"registration_month\" не несут никакой информации для обучения модели, их тоже необходимо удалить."
   ]
  },
  {
   "cell_type": "code",
   "execution_count": 72,
   "metadata": {},
   "outputs": [],
   "source": [
    "columns_to_drop = ['price', 'date_crawled', 'date_created', 'last_seen', 'number_of_pictures', 'postal_code', \n",
    "                   'registration_month']\n",
    "features = data.drop(columns_to_drop, axis=1)"
   ]
  },
  {
   "cell_type": "code",
   "execution_count": 73,
   "metadata": {
    "scrolled": true
   },
   "outputs": [
    {
     "name": "stdout",
     "output_type": "stream",
     "text": [
      "Размеры и размерности выборок: (142643, 9) (47548, 9) (47548, 9)\n"
     ]
    }
   ],
   "source": [
    "target = data['price']\n",
    "\n",
    "features_train, features_test, target_train, target_test = train_test_split(\n",
    "    features, target, test_size=0.20, random_state=12345)\n",
    "features_train, features_valid, target_train, target_valid = train_test_split(\n",
    "    features_train, target_train, test_size=0.25, random_state=12345)\n",
    "\n",
    "print('Размеры и размерности выборок:', features_train.shape, features_valid.shape, features_test.shape)"
   ]
  },
  {
   "cell_type": "code",
   "execution_count": 74,
   "metadata": {},
   "outputs": [],
   "source": [
    "pd.options.mode.chained_assignment = None\n",
    "encoder = OrdinalEncoder(handle_unknown='use_encoded_value', unknown_value=-1)"
   ]
  },
  {
   "cell_type": "code",
   "execution_count": 75,
   "metadata": {
    "scrolled": true
   },
   "outputs": [
    {
     "data": {
      "text/html": [
       "<div>\n",
       "<style scoped>\n",
       "    .dataframe tbody tr th:only-of-type {\n",
       "        vertical-align: middle;\n",
       "    }\n",
       "\n",
       "    .dataframe tbody tr th {\n",
       "        vertical-align: top;\n",
       "    }\n",
       "\n",
       "    .dataframe thead th {\n",
       "        text-align: right;\n",
       "    }\n",
       "</style>\n",
       "<table border=\"1\" class=\"dataframe\">\n",
       "  <thead>\n",
       "    <tr style=\"text-align: right;\">\n",
       "      <th></th>\n",
       "      <th>vehicle_type</th>\n",
       "      <th>registration_year</th>\n",
       "      <th>gearbox</th>\n",
       "      <th>power</th>\n",
       "      <th>model</th>\n",
       "      <th>kilometer</th>\n",
       "      <th>fuel_type</th>\n",
       "      <th>brand</th>\n",
       "      <th>repaired</th>\n",
       "    </tr>\n",
       "  </thead>\n",
       "  <tbody>\n",
       "    <tr>\n",
       "      <th>52550</th>\n",
       "      <td>4.0</td>\n",
       "      <td>1999</td>\n",
       "      <td>1.0</td>\n",
       "      <td>101</td>\n",
       "      <td>115.0</td>\n",
       "      <td>150000</td>\n",
       "      <td>6.0</td>\n",
       "      <td>38.0</td>\n",
       "      <td>0.0</td>\n",
       "    </tr>\n",
       "    <tr>\n",
       "      <th>350314</th>\n",
       "      <td>4.0</td>\n",
       "      <td>1997</td>\n",
       "      <td>0.0</td>\n",
       "      <td>101</td>\n",
       "      <td>232.0</td>\n",
       "      <td>100000</td>\n",
       "      <td>6.0</td>\n",
       "      <td>24.0</td>\n",
       "      <td>0.0</td>\n",
       "    </tr>\n",
       "    <tr>\n",
       "      <th>46089</th>\n",
       "      <td>4.0</td>\n",
       "      <td>2003</td>\n",
       "      <td>1.0</td>\n",
       "      <td>192</td>\n",
       "      <td>15.0</td>\n",
       "      <td>150000</td>\n",
       "      <td>6.0</td>\n",
       "      <td>2.0</td>\n",
       "      <td>1.0</td>\n",
       "    </tr>\n",
       "    <tr>\n",
       "      <th>72023</th>\n",
       "      <td>8.0</td>\n",
       "      <td>1999</td>\n",
       "      <td>1.0</td>\n",
       "      <td>116</td>\n",
       "      <td>102.0</td>\n",
       "      <td>150000</td>\n",
       "      <td>6.0</td>\n",
       "      <td>10.0</td>\n",
       "      <td>1.0</td>\n",
       "    </tr>\n",
       "    <tr>\n",
       "      <th>213097</th>\n",
       "      <td>8.0</td>\n",
       "      <td>2001</td>\n",
       "      <td>0.0</td>\n",
       "      <td>163</td>\n",
       "      <td>58.0</td>\n",
       "      <td>150000</td>\n",
       "      <td>6.0</td>\n",
       "      <td>20.0</td>\n",
       "      <td>0.0</td>\n",
       "    </tr>\n",
       "  </tbody>\n",
       "</table>\n",
       "</div>"
      ],
      "text/plain": [
       "        vehicle_type  registration_year  gearbox  power  model  kilometer  \\\n",
       "52550            4.0               1999      1.0    101  115.0     150000   \n",
       "350314           4.0               1997      0.0    101  232.0     100000   \n",
       "46089            4.0               2003      1.0    192   15.0     150000   \n",
       "72023            8.0               1999      1.0    116  102.0     150000   \n",
       "213097           8.0               2001      0.0    163   58.0     150000   \n",
       "\n",
       "        fuel_type  brand  repaired  \n",
       "52550         6.0   38.0       0.0  \n",
       "350314        6.0   24.0       0.0  \n",
       "46089         6.0    2.0       1.0  \n",
       "72023         6.0   10.0       1.0  \n",
       "213097        6.0   20.0       0.0  "
      ]
     },
     "metadata": {},
     "output_type": "display_data"
    },
    {
     "data": {
      "text/html": [
       "<div>\n",
       "<style scoped>\n",
       "    .dataframe tbody tr th:only-of-type {\n",
       "        vertical-align: middle;\n",
       "    }\n",
       "\n",
       "    .dataframe tbody tr th {\n",
       "        vertical-align: top;\n",
       "    }\n",
       "\n",
       "    .dataframe thead th {\n",
       "        text-align: right;\n",
       "    }\n",
       "</style>\n",
       "<table border=\"1\" class=\"dataframe\">\n",
       "  <thead>\n",
       "    <tr style=\"text-align: right;\">\n",
       "      <th></th>\n",
       "      <th>vehicle_type</th>\n",
       "      <th>registration_year</th>\n",
       "      <th>gearbox</th>\n",
       "      <th>power</th>\n",
       "      <th>model</th>\n",
       "      <th>kilometer</th>\n",
       "      <th>fuel_type</th>\n",
       "      <th>brand</th>\n",
       "      <th>repaired</th>\n",
       "    </tr>\n",
       "  </thead>\n",
       "  <tbody>\n",
       "    <tr>\n",
       "      <th>57853</th>\n",
       "      <td>7.0</td>\n",
       "      <td>2012</td>\n",
       "      <td>1.0</td>\n",
       "      <td>110</td>\n",
       "      <td>118.0</td>\n",
       "      <td>50000</td>\n",
       "      <td>6.0</td>\n",
       "      <td>12.0</td>\n",
       "      <td>0.0</td>\n",
       "    </tr>\n",
       "    <tr>\n",
       "      <th>238033</th>\n",
       "      <td>4.0</td>\n",
       "      <td>2003</td>\n",
       "      <td>1.0</td>\n",
       "      <td>97</td>\n",
       "      <td>186.0</td>\n",
       "      <td>90000</td>\n",
       "      <td>6.0</td>\n",
       "      <td>15.0</td>\n",
       "      <td>0.0</td>\n",
       "    </tr>\n",
       "    <tr>\n",
       "      <th>157209</th>\n",
       "      <td>4.0</td>\n",
       "      <td>1999</td>\n",
       "      <td>1.0</td>\n",
       "      <td>101</td>\n",
       "      <td>217.0</td>\n",
       "      <td>150000</td>\n",
       "      <td>6.0</td>\n",
       "      <td>30.0</td>\n",
       "      <td>2.0</td>\n",
       "    </tr>\n",
       "    <tr>\n",
       "      <th>49250</th>\n",
       "      <td>5.0</td>\n",
       "      <td>2003</td>\n",
       "      <td>1.0</td>\n",
       "      <td>98</td>\n",
       "      <td>36.0</td>\n",
       "      <td>150000</td>\n",
       "      <td>4.0</td>\n",
       "      <td>23.0</td>\n",
       "      <td>0.0</td>\n",
       "    </tr>\n",
       "    <tr>\n",
       "      <th>109527</th>\n",
       "      <td>0.0</td>\n",
       "      <td>1994</td>\n",
       "      <td>1.0</td>\n",
       "      <td>68</td>\n",
       "      <td>221.0</td>\n",
       "      <td>150000</td>\n",
       "      <td>2.0</td>\n",
       "      <td>38.0</td>\n",
       "      <td>0.0</td>\n",
       "    </tr>\n",
       "  </tbody>\n",
       "</table>\n",
       "</div>"
      ],
      "text/plain": [
       "        vehicle_type  registration_year  gearbox  power  model  kilometer  \\\n",
       "57853            7.0               2012      1.0    110  118.0      50000   \n",
       "238033           4.0               2003      1.0     97  186.0      90000   \n",
       "157209           4.0               1999      1.0    101  217.0     150000   \n",
       "49250            5.0               2003      1.0     98   36.0     150000   \n",
       "109527           0.0               1994      1.0     68  221.0     150000   \n",
       "\n",
       "        fuel_type  brand  repaired  \n",
       "57853         6.0   12.0       0.0  \n",
       "238033        6.0   15.0       0.0  \n",
       "157209        6.0   30.0       2.0  \n",
       "49250         4.0   23.0       0.0  \n",
       "109527        2.0   38.0       0.0  "
      ]
     },
     "metadata": {},
     "output_type": "display_data"
    }
   ],
   "source": [
    "categorical_columns = ['vehicle_type', 'gearbox', 'model', 'fuel_type', 'brand', 'repaired']\n",
    "features_train[categorical_columns] = encoder.fit_transform(features_train[categorical_columns])\n",
    "features_valid[categorical_columns] = encoder.transform(features_valid[categorical_columns])\n",
    "features_test[categorical_columns] = encoder.transform(features_test[categorical_columns])\n",
    "\n",
    "display(features_valid.head())\n",
    "display(features_test.head())"
   ]
  },
  {
   "cell_type": "code",
   "execution_count": 76,
   "metadata": {
    "scrolled": true
   },
   "outputs": [
    {
     "data": {
      "text/html": [
       "<div>\n",
       "<style scoped>\n",
       "    .dataframe tbody tr th:only-of-type {\n",
       "        vertical-align: middle;\n",
       "    }\n",
       "\n",
       "    .dataframe tbody tr th {\n",
       "        vertical-align: top;\n",
       "    }\n",
       "\n",
       "    .dataframe thead th {\n",
       "        text-align: right;\n",
       "    }\n",
       "</style>\n",
       "<table border=\"1\" class=\"dataframe\">\n",
       "  <thead>\n",
       "    <tr style=\"text-align: right;\">\n",
       "      <th></th>\n",
       "      <th>registration_year</th>\n",
       "      <th>power</th>\n",
       "      <th>kilometer</th>\n",
       "      <th>vehicle_type</th>\n",
       "      <th>gearbox</th>\n",
       "      <th>model</th>\n",
       "      <th>fuel_type</th>\n",
       "      <th>brand</th>\n",
       "      <th>repaired</th>\n",
       "    </tr>\n",
       "  </thead>\n",
       "  <tbody>\n",
       "    <tr>\n",
       "      <th>52550</th>\n",
       "      <td>-0.688697</td>\n",
       "      <td>-0.470662</td>\n",
       "      <td>0.574334</td>\n",
       "      <td>4.0</td>\n",
       "      <td>1.0</td>\n",
       "      <td>115.0</td>\n",
       "      <td>6.0</td>\n",
       "      <td>38.0</td>\n",
       "      <td>0.0</td>\n",
       "    </tr>\n",
       "    <tr>\n",
       "      <th>350314</th>\n",
       "      <td>-1.025407</td>\n",
       "      <td>-0.470662</td>\n",
       "      <td>-0.848897</td>\n",
       "      <td>4.0</td>\n",
       "      <td>0.0</td>\n",
       "      <td>232.0</td>\n",
       "      <td>6.0</td>\n",
       "      <td>24.0</td>\n",
       "      <td>0.0</td>\n",
       "    </tr>\n",
       "    <tr>\n",
       "      <th>46089</th>\n",
       "      <td>-0.015277</td>\n",
       "      <td>1.553538</td>\n",
       "      <td>0.574334</td>\n",
       "      <td>4.0</td>\n",
       "      <td>1.0</td>\n",
       "      <td>15.0</td>\n",
       "      <td>6.0</td>\n",
       "      <td>2.0</td>\n",
       "      <td>1.0</td>\n",
       "    </tr>\n",
       "    <tr>\n",
       "      <th>72023</th>\n",
       "      <td>-0.688697</td>\n",
       "      <td>-0.137002</td>\n",
       "      <td>0.574334</td>\n",
       "      <td>8.0</td>\n",
       "      <td>1.0</td>\n",
       "      <td>102.0</td>\n",
       "      <td>6.0</td>\n",
       "      <td>10.0</td>\n",
       "      <td>1.0</td>\n",
       "    </tr>\n",
       "    <tr>\n",
       "      <th>213097</th>\n",
       "      <td>-0.351987</td>\n",
       "      <td>0.908464</td>\n",
       "      <td>0.574334</td>\n",
       "      <td>8.0</td>\n",
       "      <td>0.0</td>\n",
       "      <td>58.0</td>\n",
       "      <td>6.0</td>\n",
       "      <td>20.0</td>\n",
       "      <td>0.0</td>\n",
       "    </tr>\n",
       "  </tbody>\n",
       "</table>\n",
       "</div>"
      ],
      "text/plain": [
       "        registration_year     power  kilometer  vehicle_type  gearbox  model  \\\n",
       "52550           -0.688697 -0.470662   0.574334           4.0      1.0  115.0   \n",
       "350314          -1.025407 -0.470662  -0.848897           4.0      0.0  232.0   \n",
       "46089           -0.015277  1.553538   0.574334           4.0      1.0   15.0   \n",
       "72023           -0.688697 -0.137002   0.574334           8.0      1.0  102.0   \n",
       "213097          -0.351987  0.908464   0.574334           8.0      0.0   58.0   \n",
       "\n",
       "        fuel_type  brand  repaired  \n",
       "52550         6.0   38.0       0.0  \n",
       "350314        6.0   24.0       0.0  \n",
       "46089         6.0    2.0       1.0  \n",
       "72023         6.0   10.0       1.0  \n",
       "213097        6.0   20.0       0.0  "
      ]
     },
     "metadata": {},
     "output_type": "display_data"
    },
    {
     "data": {
      "text/html": [
       "<div>\n",
       "<style scoped>\n",
       "    .dataframe tbody tr th:only-of-type {\n",
       "        vertical-align: middle;\n",
       "    }\n",
       "\n",
       "    .dataframe tbody tr th {\n",
       "        vertical-align: top;\n",
       "    }\n",
       "\n",
       "    .dataframe thead th {\n",
       "        text-align: right;\n",
       "    }\n",
       "</style>\n",
       "<table border=\"1\" class=\"dataframe\">\n",
       "  <thead>\n",
       "    <tr style=\"text-align: right;\">\n",
       "      <th></th>\n",
       "      <th>registration_year</th>\n",
       "      <th>power</th>\n",
       "      <th>kilometer</th>\n",
       "      <th>vehicle_type</th>\n",
       "      <th>gearbox</th>\n",
       "      <th>model</th>\n",
       "      <th>fuel_type</th>\n",
       "      <th>brand</th>\n",
       "      <th>repaired</th>\n",
       "    </tr>\n",
       "  </thead>\n",
       "  <tbody>\n",
       "    <tr>\n",
       "      <th>57853</th>\n",
       "      <td>1.499918</td>\n",
       "      <td>-0.270466</td>\n",
       "      <td>-2.272127</td>\n",
       "      <td>7.0</td>\n",
       "      <td>1.0</td>\n",
       "      <td>118.0</td>\n",
       "      <td>6.0</td>\n",
       "      <td>12.0</td>\n",
       "      <td>0.0</td>\n",
       "    </tr>\n",
       "    <tr>\n",
       "      <th>238033</th>\n",
       "      <td>-0.015277</td>\n",
       "      <td>-0.559637</td>\n",
       "      <td>-1.133543</td>\n",
       "      <td>4.0</td>\n",
       "      <td>1.0</td>\n",
       "      <td>186.0</td>\n",
       "      <td>6.0</td>\n",
       "      <td>15.0</td>\n",
       "      <td>0.0</td>\n",
       "    </tr>\n",
       "    <tr>\n",
       "      <th>157209</th>\n",
       "      <td>-0.688697</td>\n",
       "      <td>-0.470662</td>\n",
       "      <td>0.574334</td>\n",
       "      <td>4.0</td>\n",
       "      <td>1.0</td>\n",
       "      <td>217.0</td>\n",
       "      <td>6.0</td>\n",
       "      <td>30.0</td>\n",
       "      <td>2.0</td>\n",
       "    </tr>\n",
       "    <tr>\n",
       "      <th>49250</th>\n",
       "      <td>-0.015277</td>\n",
       "      <td>-0.537394</td>\n",
       "      <td>0.574334</td>\n",
       "      <td>5.0</td>\n",
       "      <td>1.0</td>\n",
       "      <td>36.0</td>\n",
       "      <td>4.0</td>\n",
       "      <td>23.0</td>\n",
       "      <td>0.0</td>\n",
       "    </tr>\n",
       "    <tr>\n",
       "      <th>109527</th>\n",
       "      <td>-1.530473</td>\n",
       "      <td>-1.204712</td>\n",
       "      <td>0.574334</td>\n",
       "      <td>0.0</td>\n",
       "      <td>1.0</td>\n",
       "      <td>221.0</td>\n",
       "      <td>2.0</td>\n",
       "      <td>38.0</td>\n",
       "      <td>0.0</td>\n",
       "    </tr>\n",
       "  </tbody>\n",
       "</table>\n",
       "</div>"
      ],
      "text/plain": [
       "        registration_year     power  kilometer  vehicle_type  gearbox  model  \\\n",
       "57853            1.499918 -0.270466  -2.272127           7.0      1.0  118.0   \n",
       "238033          -0.015277 -0.559637  -1.133543           4.0      1.0  186.0   \n",
       "157209          -0.688697 -0.470662   0.574334           4.0      1.0  217.0   \n",
       "49250           -0.015277 -0.537394   0.574334           5.0      1.0   36.0   \n",
       "109527          -1.530473 -1.204712   0.574334           0.0      1.0  221.0   \n",
       "\n",
       "        fuel_type  brand  repaired  \n",
       "57853         6.0   12.0       0.0  \n",
       "238033        6.0   15.0       0.0  \n",
       "157209        6.0   30.0       2.0  \n",
       "49250         4.0   23.0       0.0  \n",
       "109527        2.0   38.0       0.0  "
      ]
     },
     "metadata": {},
     "output_type": "display_data"
    }
   ],
   "source": [
    "numerical_columns = features.columns.drop(categorical_columns)\n",
    "\n",
    "scaler = StandardScaler()\n",
    "scaler.fit(features_train[numerical_columns])\n",
    "\n",
    "features_train_numerical = pd.DataFrame(scaler.transform(features_train[numerical_columns]), columns=numerical_columns,\n",
    "                                       index=features_train[numerical_columns].index)\n",
    "features_train = pd.concat([features_train_numerical, features_train[categorical_columns]], axis=1)\n",
    "\n",
    "\n",
    "features_valid_numerical = pd.DataFrame(scaler.transform(features_valid[numerical_columns]), columns=numerical_columns,\n",
    "                                       index=features_valid[numerical_columns].index)\n",
    "features_valid = pd.concat([features_valid_numerical, features_valid[categorical_columns]], axis=1)\n",
    "\n",
    "\n",
    "features_test_numerical = pd.DataFrame(scaler.transform(features_test[numerical_columns]), columns=numerical_columns,\n",
    "                                       index=features_test[numerical_columns].index)\n",
    "features_test = pd.concat([features_test_numerical, features_test[categorical_columns]], axis=1)\n",
    "\n",
    "\n",
    "\n",
    "display(features_valid.head())\n",
    "display(features_test.head())"
   ]
  },
  {
   "cell_type": "markdown",
   "metadata": {},
   "source": [
    "        Данные были считаны в переменную data. В трех столбцах изменен тип данных на datetime. Обнаружено и удалено 4\n",
    "     дубликата. Заполнены пропуски значением \"unknown\". В столбцах power, price, registration_year и registration_month \n",
    "     найдены и удалены аномальные значения. Удалены столбцы с датами и столбец \"number_of_pictures\", так как они не подходят \n",
    "     для обучения модели. Данные разделены на обучающую, валидационную и тестовую выборки, в соотношении  3:1:1. \n",
    "     Категориальные признаки закодированы, данные стандартизированы. "
   ]
  },
  {
   "cell_type": "markdown",
   "metadata": {},
   "source": [
    "## Обучение моделей"
   ]
  },
  {
   "cell_type": "code",
   "execution_count": 77,
   "metadata": {
    "scrolled": true
   },
   "outputs": [
    {
     "name": "stdout",
     "output_type": "stream",
     "text": [
      "Глубина: None Количество деревьев: 40 Значение RMSE: 1481.5\n",
      "Глубина: None Количество деревьев: 50 Значение RMSE: 1462.4\n",
      "Глубина: 2 Количество деревьев: 40 Значение RMSE: 1811.5\n",
      "Глубина: 2 Количество деревьев: 50 Значение RMSE: 1767.2\n",
      "Глубина: 3 Количество деревьев: 40 Значение RMSE: 1664.0\n",
      "Глубина: 3 Количество деревьев: 50 Значение RMSE: 1632.3\n",
      "Глубина: 4 Количество деревьев: 40 Значение RMSE: 1577.0\n",
      "Глубина: 4 Количество деревьев: 50 Значение RMSE: 1553.3\n",
      "Глубина: 5 Количество деревьев: 40 Значение RMSE: 1520.5\n",
      "Глубина: 5 Количество деревьев: 50 Значение RMSE: 1499.4\n",
      "Глубина: 6 Количество деревьев: 40 Значение RMSE: 1498.3\n",
      "Глубина: 6 Количество деревьев: 50 Значение RMSE: 1476.3\n",
      "Лучшая глубина: None Лучшее количество деревьев: 50 Лучшее значение RMSE: 1462.4\n",
      "CPU times: user 15min 26s, sys: 4.86 s, total: 15min 31s\n",
      "Wall time: 15min 39s\n"
     ]
    }
   ],
   "source": [
    "%%time\n",
    "best_rmse = -1\n",
    "for depth in [None] + [i for i in range(2, 7)]:\n",
    "    for estimators in range(40, 60, 10):\n",
    "        model = LGBMRegressor(max_depth=depth, learning_rate=0.2, n_estimators=estimators, random_state=12345)\n",
    "        model.fit(features_train, target_train)\n",
    "        predict = model.predict(features_valid)\n",
    "        rmse = mean_squared_error(target_valid, predict)**0.5\n",
    "        if best_rmse == -1 or rmse < best_rmse:\n",
    "            best_depth = depth\n",
    "            best_estimators = estimators\n",
    "            best_rmse = rmse\n",
    "        print(f'Глубина: {depth} Количество деревьев: {estimators} Значение RMSE: {rmse:.1f}')\n",
    "print(f'Лучшая глубина: {best_depth} Лучшее количество деревьев: {best_estimators} Лучшее значение RMSE: {best_rmse:.1f}')"
   ]
  },
  {
   "cell_type": "code",
   "execution_count": 78,
   "metadata": {
    "scrolled": false
   },
   "outputs": [
    {
     "name": "stdout",
     "output_type": "stream",
     "text": [
      "Глубина: None Количество итераций: 700 Значение RMSE: 1370.3\n",
      "Глубина: None Количество итераций: 750 Значение RMSE: 1368.1\n",
      "Глубина: None Количество итераций: 800 Значение RMSE: 1366.5\n",
      "Глубина: 2 Количество итераций: 700 Значение RMSE: 1531.1\n",
      "Глубина: 2 Количество итераций: 750 Значение RMSE: 1526.8\n",
      "Глубина: 2 Количество итераций: 800 Значение RMSE: 1524.0\n",
      "Глубина: 3 Количество итераций: 700 Значение RMSE: 1452.9\n",
      "Глубина: 3 Количество итераций: 750 Значение RMSE: 1449.6\n",
      "Глубина: 3 Количество итераций: 800 Значение RMSE: 1446.7\n",
      "Глубина: 4 Количество итераций: 700 Значение RMSE: 1414.6\n",
      "Глубина: 4 Количество итераций: 750 Значение RMSE: 1411.2\n",
      "Глубина: 4 Количество итераций: 800 Значение RMSE: 1408.1\n",
      "Глубина: 5 Количество итераций: 700 Значение RMSE: 1388.9\n",
      "Глубина: 5 Количество итераций: 750 Значение RMSE: 1385.5\n",
      "Глубина: 5 Количество итераций: 800 Значение RMSE: 1382.8\n",
      "Глубина: 6 Количество итераций: 700 Значение RMSE: 1370.3\n",
      "Глубина: 6 Количество итераций: 750 Значение RMSE: 1368.1\n",
      "Глубина: 6 Количество итераций: 800 Значение RMSE: 1366.5\n",
      "Лучшая глубина: 6 Лучшее количество итераций: 800 Лучшее значение RMSE: 1366.5\n",
      "CPU times: user 3min 49s, sys: 1.65 s, total: 3min 50s\n",
      "Wall time: 4min 7s\n"
     ]
    }
   ],
   "source": [
    "%%time\n",
    "best_rmse = -1\n",
    "for depth in [None] + [i for i in range(2, 7)]:\n",
    "    for iterations in range(700, 850, 50):\n",
    "        model = CatBoostRegressor(depth=depth, learning_rate=0.2, iterations=iterations, silent=True, random_state=12345)\n",
    "        model.fit(features_train, target_train)\n",
    "        predict = model.predict(features_valid)\n",
    "        rmse = mean_squared_error(target_valid, predict)**0.5\n",
    "        if best_rmse == -1 or rmse <= best_rmse:\n",
    "            best_depth = depth\n",
    "            best_iterations = iterations\n",
    "            best_rmse = rmse\n",
    "        print(f'Глубина: {depth} Количество итераций: {iterations} Значение RMSE: {rmse:.1f}')\n",
    "print(f'Лучшая глубина: {best_depth} Лучшее количество итераций: {best_iterations} Лучшее значение RMSE: {best_rmse:.1f}')"
   ]
  },
  {
   "cell_type": "code",
   "execution_count": 79,
   "metadata": {
    "scrolled": true
   },
   "outputs": [
    {
     "name": "stdout",
     "output_type": "stream",
     "text": [
      "Глубина: None Количество деревьев: 40 Значение RMSE: 1404.1\n",
      "Глубина: None Количество деревьев: 50 Значение RMSE: 1401.2\n",
      "Глубина: 2 Количество деревьев: 40 Значение RMSE: 2644.4\n",
      "Глубина: 2 Количество деревьев: 50 Значение RMSE: 2635.0\n",
      "Глубина: 3 Количество деревьев: 40 Значение RMSE: 2418.8\n",
      "Глубина: 3 Количество деревьев: 50 Значение RMSE: 2415.9\n",
      "Глубина: 4 Количество деревьев: 40 Значение RMSE: 2152.8\n",
      "Глубина: 4 Количество деревьев: 50 Значение RMSE: 2148.7\n",
      "Глубина: 5 Количество деревьев: 40 Значение RMSE: 2014.9\n",
      "Глубина: 5 Количество деревьев: 50 Значение RMSE: 2011.5\n",
      "Глубина: 6 Количество деревьев: 40 Значение RMSE: 1910.8\n",
      "Глубина: 6 Количество деревьев: 50 Значение RMSE: 1908.7\n",
      "Лучшая глубина: None Лучшее количество деревьев: 50 Лучшее значение RMSE: 1401.2\n",
      "CPU times: user 1min 8s, sys: 310 ms, total: 1min 8s\n",
      "Wall time: 1min 8s\n"
     ]
    }
   ],
   "source": [
    "%%time\n",
    "best_rmse = -1\n",
    "for depth in [None] + [i for i in range(2, 7)]:\n",
    "    for est in range(40, 60, 10):\n",
    "        model = RandomForestRegressor(n_estimators=est, max_depth=depth, random_state=12345)\n",
    "        model.fit(features_train, target_train)\n",
    "        predict = model.predict(features_valid)\n",
    "        rmse = mean_squared_error(target_valid, predict)**0.5\n",
    "        if best_rmse == -1 or rmse < best_rmse:\n",
    "            best_depth = depth\n",
    "            best_est = est\n",
    "            best_rmse = rmse\n",
    "        print(f'Глубина: {depth} Количество деревьев: {est} Значение RMSE: {rmse:.1f}')\n",
    "print(f'Лучшая глубина: {best_depth} Лучшее количество деревьев: {best_est} Лучшее значение RMSE: {best_rmse:.1f}')"
   ]
  },
  {
   "cell_type": "code",
   "execution_count": 80,
   "metadata": {},
   "outputs": [
    {
     "name": "stdout",
     "output_type": "stream",
     "text": [
      "CPU times: user 16 s, sys: 37.5 ms, total: 16 s\n",
      "Wall time: 16 s\n"
     ]
    },
    {
     "data": {
      "text/plain": [
       "RandomForestRegressor(n_estimators=50, random_state=12345)"
      ]
     },
     "execution_count": 80,
     "metadata": {},
     "output_type": "execute_result"
    }
   ],
   "source": [
    "%%time\n",
    "random_forest_model = RandomForestRegressor(n_estimators=50, max_depth=None, random_state=12345)\n",
    "random_forest_model.fit(features_train, target_train)"
   ]
  },
  {
   "cell_type": "code",
   "execution_count": 81,
   "metadata": {},
   "outputs": [
    {
     "name": "stdout",
     "output_type": "stream",
     "text": [
      "Значение RMSE для модели RandomForestRegressor: 1401.2\n",
      "CPU times: user 898 ms, sys: 0 ns, total: 898 ms\n",
      "Wall time: 902 ms\n"
     ]
    }
   ],
   "source": [
    "%%time\n",
    "predict = random_forest_model.predict(features_valid)\n",
    "rmse = mean_squared_error(target_valid, predict)**0.5\n",
    "print(f'Значение RMSE для модели RandomForestRegressor: {rmse:.1f}')"
   ]
  },
  {
   "cell_type": "code",
   "execution_count": 82,
   "metadata": {
    "scrolled": true
   },
   "outputs": [
    {
     "name": "stdout",
     "output_type": "stream",
     "text": [
      "CPU times: user 15.8 s, sys: 75.3 ms, total: 15.9 s\n",
      "Wall time: 16.8 s\n"
     ]
    },
    {
     "data": {
      "text/plain": [
       "<catboost.core.CatBoostRegressor at 0x7fb2acaa8700>"
      ]
     },
     "execution_count": 82,
     "metadata": {},
     "output_type": "execute_result"
    }
   ],
   "source": [
    "%%time\n",
    "cat_boost_model = CatBoostRegressor(depth=6, learning_rate=0.2, iterations=800, silent=True, random_state=12345)\n",
    "cat_boost_model.fit(features_train, target_train)"
   ]
  },
  {
   "cell_type": "code",
   "execution_count": 83,
   "metadata": {},
   "outputs": [
    {
     "name": "stdout",
     "output_type": "stream",
     "text": [
      "Значение RMSE для модели CatBoostRegressor: 1366.5\n",
      "CPU times: user 33.6 ms, sys: 8.21 ms, total: 41.8 ms\n",
      "Wall time: 39.3 ms\n"
     ]
    }
   ],
   "source": [
    "%%time\n",
    "predict = cat_boost_model.predict(features_valid)\n",
    "rmse = mean_squared_error(target_valid, predict)**0.5\n",
    "print(f'Значение RMSE для модели CatBoostRegressor: {rmse:.1f}')"
   ]
  },
  {
   "cell_type": "code",
   "execution_count": 84,
   "metadata": {},
   "outputs": [
    {
     "name": "stdout",
     "output_type": "stream",
     "text": [
      "CPU times: user 2min 56s, sys: 975 ms, total: 2min 57s\n",
      "Wall time: 2min 59s\n"
     ]
    },
    {
     "data": {
      "text/plain": [
       "LGBMRegressor(learning_rate=0.2, max_depth=None, n_estimators=50,\n",
       "              random_state=12345)"
      ]
     },
     "execution_count": 84,
     "metadata": {},
     "output_type": "execute_result"
    }
   ],
   "source": [
    "%%time\n",
    "lgbm_model = LGBMRegressor(max_depth=None, learning_rate=0.2, n_estimators=50, random_state=12345)\n",
    "lgbm_model.fit(features_train, target_train)"
   ]
  },
  {
   "cell_type": "code",
   "execution_count": 85,
   "metadata": {},
   "outputs": [
    {
     "name": "stdout",
     "output_type": "stream",
     "text": [
      "Значение RMSE для модели LGBMRegressor: 1462.4\n",
      "CPU times: user 227 ms, sys: 21 µs, total: 227 ms\n",
      "Wall time: 283 ms\n"
     ]
    }
   ],
   "source": [
    "%%time\n",
    "predict = lgbm_model.predict(features_valid)\n",
    "rmse = mean_squared_error(target_valid, predict)**0.5\n",
    "print(f'Значение RMSE для модели LGBMRegressor: {rmse:.1f}')"
   ]
  },
  {
   "cell_type": "markdown",
   "metadata": {},
   "source": [
    "        Было изучено 3 модели: LGBMRegressor, CatBoostRegressor и RandomForestRegressor. Для каждой модели найдены\n",
    "     лучшие параметры. Найдены значения RMSE на валидационной выборке для каждой модели. Также измерены скорости обучения и\n",
    "     предсказания, данные готовы к анализу."
   ]
  },
  {
   "cell_type": "markdown",
   "metadata": {},
   "source": [
    "## Анализ моделей"
   ]
  },
  {
   "cell_type": "markdown",
   "metadata": {},
   "source": [
    "        Результаты исследования представлены ниже. Исходя из них, можно сказать, что самая качественная и самая быстрая в\n",
    "    предсказании модель CatBoostRegressor, скорость предсказания моделей RandomForestRegressor и CatBoostRegressor примерно\n",
    "    одинаковая.\n",
    "        Итог: выбрана модель CatBoostRegressor, проведем тестирование на тестовой выборке."
   ]
  },
  {
   "cell_type": "markdown",
   "metadata": {},
   "source": [
    "| Модель | Значение RMSE | Скорость обучения | Скорость предсказания |\n",
    "| --- | --- | --- | --- |\n",
    "| RandomForestRegressor | 1401.2 | 16 s | 902 ms |\n",
    "| CatBoostRegressor | 1366.5 | 16.8 s | 39.3 ms |\n",
    "| LGBMRegressor | 1462.4 | 2min 59s | 283 ms | "
   ]
  },
  {
   "cell_type": "code",
   "execution_count": 86,
   "metadata": {},
   "outputs": [],
   "source": [
    "features_train = pd.concat([features_train, features_valid])\n",
    "target_train = pd.concat([target_train, target_valid])"
   ]
  },
  {
   "cell_type": "code",
   "execution_count": 87,
   "metadata": {},
   "outputs": [
    {
     "name": "stdout",
     "output_type": "stream",
     "text": [
      "CPU times: user 22 s, sys: 144 ms, total: 22.1 s\n",
      "Wall time: 23.1 s\n"
     ]
    },
    {
     "data": {
      "text/plain": [
       "<catboost.core.CatBoostRegressor at 0x7fb2acaa8a00>"
      ]
     },
     "execution_count": 87,
     "metadata": {},
     "output_type": "execute_result"
    }
   ],
   "source": [
    "%%time\n",
    "cat_boost_model = CatBoostRegressor(depth=6, learning_rate=0.2, iterations=800, silent=True, random_state=12345)\n",
    "cat_boost_model.fit(features_train, target_train);"
   ]
  },
  {
   "cell_type": "code",
   "execution_count": 88,
   "metadata": {
    "scrolled": true
   },
   "outputs": [
    {
     "name": "stdout",
     "output_type": "stream",
     "text": [
      "Значение RMSE для модели CatBoostRegressor: 1372.8\n",
      "CPU times: user 58.4 ms, sys: 0 ns, total: 58.4 ms\n",
      "Wall time: 56.7 ms\n"
     ]
    }
   ],
   "source": [
    "%%time\n",
    "predict = cat_boost_model.predict(features_test)\n",
    "rmse = mean_squared_error(target_test, predict)**0.5\n",
    "print(f'Значение RMSE для модели CatBoostRegressor: {rmse:.1f}')"
   ]
  },
  {
   "cell_type": "code",
   "execution_count": 89,
   "metadata": {
    "scrolled": true
   },
   "outputs": [
    {
     "name": "stdout",
     "output_type": "stream",
     "text": [
      "Значение RMSE для модели DummyRegressor: 3756.5087749590743\n"
     ]
    }
   ],
   "source": [
    "dummy_regr = DummyRegressor(strategy=\"mean\")\n",
    "dummy_regr.fit(features_train, target_train)\n",
    "dummy_predicted = dummy_regr.predict(features_test)\n",
    "dummy_rmse = mean_squared_error(target_test, dummy_predicted)**0.5\n",
    "print('Значение RMSE для модели DummyRegressor:', dummy_rmse)"
   ]
  },
  {
   "cell_type": "markdown",
   "metadata": {},
   "source": [
    "            Обученные модели с наилучшими параметрами проанализированы. В результате наилучшая модель по значению RMSE и\n",
    "        по скорости обучения - CatBoostRegressor, поэтому данная модель является оптимальным выбором. Проведена проверка\n",
    "        модели на адекватность с помощью модели DummyRegressor, в качестве предсказания которой среднее значение.\n",
    "            В итоге наилучшая модель, CatBoostRegresssor, имеет следующие результаты на тестовой выборке. "
   ]
  },
  {
   "cell_type": "markdown",
   "metadata": {},
   "source": [
    "| Значение RMSE | Скорость обучения | Скорость предсказания |\n",
    "| --- | --- | --- |\n",
    "| 1372.8 | 23.1 s | 56.7 ms |"
   ]
  },
  {
   "cell_type": "markdown",
   "metadata": {},
   "source": [
    "# Вывод\n",
    "## Подготовка данных\n",
    "    \n",
    "    - Данные считаны и записаны в переменную data;\n",
    "    - В трех столбцах изменен тип данных на datetime;\n",
    "    - Обнаружено и удалено 4 дубликата;\n",
    "    - Заполнены пропуски значением \"unknown\";\n",
    "    - В столбцах power, price, registration_year и registration_month найдены и удалены аномальные значения;\n",
    "    - Удалены столбцы с датами и столбцы \"number_of_pictures\", \"postal_code\" и \"registration_month\", так как они не подходят \n",
    "    для обучения модели;\n",
    "    - Данные разделены на 3 выборки в соотношении 3:1:1;\n",
    "    - Категориальные признаки закодированы, данные стандартизированы.\n",
    "## Обучение моделей\n",
    "\n",
    "    - В исследовании задействованы 3 модели: LGBMRegressor, CatBoostRegressor и RandomForestRegressor;\n",
    "    - Для каждой модели найдены лучшие параметры обучения;\n",
    "    - Найдены значения RMSE на валидационной выборке для каждой модели;\n",
    "    - Измерена скорость обучения моделей;\n",
    "    - Измерена скорость предсказания моделей, данные готовы к анализу.\n",
    "\n",
    "## Построение и выбор наилучшей модели\n",
    "    - В ходе исследования получены следующие данные:\n",
    "| Модель | Значение RMSE | Скорость обучения | Скорость предсказания |\n",
    "| --- | --- | --- | --- |\n",
    "| RandomForestRegressor | 1401.2 | 16 s | 902 ms |\n",
    "| CatBoostRegressor | 1366.5 | 16.8 s | 39.3 ms |\n",
    "| LGBMRegressor | 1462.4 | 2min 59s | 283 ms | \n",
    "    \n",
    "    - Обученные модели с наилучшими параметрами проанализированы;\n",
    "    - Наилучшая модель по значению RMSE - CarBoostRegressor, значение RMSE равно 1381.9;\n",
    "    - Скорость обучения моделей CarBoostRegressor и RandomForestRegressor примерно одинаковая;\n",
    "    - Наилучшая модель по скорости предсказания - CatBoostRegressor, время предсказания составило 42 ms;\n",
    "    - CatBoostRegressor является оптимальным выбором;\n",
    "    - Проведена проверка на адекватность с помощью модели DummyRegressor, в качестве предсказания которой среднее значение;\n",
    "    - CatBoostRegressor обучена на обучающей и валидационной выборках и проверена на тестовой выборке, результаты \n",
    "    исследования данной моделе следующие:\n",
    "    \n",
    "| Значение RMSE | Скорость обучения | Скорость предсказания |\n",
    "| --- | --- | --- |\n",
    "| 1372.8 | 23.1 s | 56.7 ms |"
   ]
  }
 ],
 "metadata": {
  "ExecuteTimeLog": [
   {
    "duration": 407,
    "start_time": "2023-08-18T23:09:04.490Z"
   },
   {
    "duration": 1015,
    "start_time": "2023-08-18T23:10:41.513Z"
   },
   {
    "duration": 17,
    "start_time": "2023-08-18T23:10:47.089Z"
   },
   {
    "duration": 116,
    "start_time": "2023-08-18T23:11:10.390Z"
   },
   {
    "duration": 70,
    "start_time": "2023-08-18T23:15:10.217Z"
   },
   {
    "duration": 193,
    "start_time": "2023-08-18T23:15:21.089Z"
   },
   {
    "duration": 15,
    "start_time": "2023-08-18T23:15:45.672Z"
   },
   {
    "duration": 126,
    "start_time": "2023-08-18T23:15:57.768Z"
   },
   {
    "duration": 17,
    "start_time": "2023-08-18T23:16:00.256Z"
   },
   {
    "duration": 207,
    "start_time": "2023-08-18T23:16:40.449Z"
   },
   {
    "duration": 108,
    "start_time": "2023-08-18T23:16:43.088Z"
   },
   {
    "duration": 270,
    "start_time": "2023-08-18T23:17:05.544Z"
   },
   {
    "duration": 14,
    "start_time": "2023-08-18T23:19:59.496Z"
   },
   {
    "duration": 8,
    "start_time": "2023-08-18T23:20:02.167Z"
   },
   {
    "duration": 9,
    "start_time": "2023-08-18T23:20:05.999Z"
   },
   {
    "duration": 7,
    "start_time": "2023-08-18T23:20:09.575Z"
   },
   {
    "duration": 7,
    "start_time": "2023-08-18T23:20:18.103Z"
   },
   {
    "duration": 281,
    "start_time": "2023-08-18T23:20:21.134Z"
   },
   {
    "duration": 618,
    "start_time": "2023-08-18T23:20:25.880Z"
   },
   {
    "duration": 85,
    "start_time": "2023-08-18T23:20:49.055Z"
   },
   {
    "duration": 1528,
    "start_time": "2023-08-18T23:21:53.958Z"
   },
   {
    "duration": 4,
    "start_time": "2023-08-18T23:21:59.491Z"
   },
   {
    "duration": 7,
    "start_time": "2023-08-18T23:22:06.254Z"
   },
   {
    "duration": 7,
    "start_time": "2023-08-18T23:22:08.975Z"
   },
   {
    "duration": 6,
    "start_time": "2023-08-18T23:22:10.854Z"
   },
   {
    "duration": 7,
    "start_time": "2023-08-18T23:22:22.887Z"
   },
   {
    "duration": 10,
    "start_time": "2023-08-18T23:22:29.142Z"
   },
   {
    "duration": 8,
    "start_time": "2023-08-18T23:22:31.023Z"
   },
   {
    "duration": 7,
    "start_time": "2023-08-18T23:22:33.790Z"
   },
   {
    "duration": 19,
    "start_time": "2023-08-18T23:22:52.384Z"
   },
   {
    "duration": 21,
    "start_time": "2023-08-18T23:24:08.110Z"
   },
   {
    "duration": 21,
    "start_time": "2023-08-18T23:24:11.894Z"
   },
   {
    "duration": 22,
    "start_time": "2023-08-18T23:24:25.710Z"
   },
   {
    "duration": 25,
    "start_time": "2023-08-18T23:24:56.485Z"
   },
   {
    "duration": 33,
    "start_time": "2023-08-18T23:25:12.837Z"
   },
   {
    "duration": 34,
    "start_time": "2023-08-18T23:25:20.390Z"
   },
   {
    "duration": 37,
    "start_time": "2023-08-18T23:25:26.341Z"
   },
   {
    "duration": 38,
    "start_time": "2023-08-18T23:25:42.996Z"
   },
   {
    "duration": 85,
    "start_time": "2023-08-18T23:26:34.772Z"
   },
   {
    "duration": 60,
    "start_time": "2023-08-18T23:26:54.164Z"
   },
   {
    "duration": 59,
    "start_time": "2023-08-18T23:26:58.077Z"
   },
   {
    "duration": 96,
    "start_time": "2023-08-18T23:27:33.707Z"
   },
   {
    "duration": 93,
    "start_time": "2023-08-18T23:28:11.021Z"
   },
   {
    "duration": 57,
    "start_time": "2023-08-18T23:29:03.748Z"
   },
   {
    "duration": 64,
    "start_time": "2023-08-18T23:29:05.940Z"
   },
   {
    "duration": 73,
    "start_time": "2023-08-18T23:29:08.972Z"
   },
   {
    "duration": 453,
    "start_time": "2023-08-18T23:29:11.220Z"
   },
   {
    "duration": 4,
    "start_time": "2023-08-18T23:29:25.740Z"
   },
   {
    "duration": 86,
    "start_time": "2023-08-18T23:29:57.036Z"
   },
   {
    "duration": 91,
    "start_time": "2023-08-18T23:30:06.260Z"
   },
   {
    "duration": 119,
    "start_time": "2023-08-18T23:30:25.052Z"
   },
   {
    "duration": 88,
    "start_time": "2023-08-19T00:54:20.977Z"
   },
   {
    "duration": 66,
    "start_time": "2023-08-19T00:55:37.250Z"
   },
   {
    "duration": 30,
    "start_time": "2023-08-19T00:57:08.072Z"
   },
   {
    "duration": 36,
    "start_time": "2023-08-19T00:57:38.562Z"
   },
   {
    "duration": 26,
    "start_time": "2023-08-19T00:57:50.713Z"
   },
   {
    "duration": 22,
    "start_time": "2023-08-19T00:57:52.673Z"
   },
   {
    "duration": 14,
    "start_time": "2023-08-19T01:03:00.661Z"
   },
   {
    "duration": 19,
    "start_time": "2023-08-19T01:03:12.265Z"
   },
   {
    "duration": 118,
    "start_time": "2023-08-19T01:03:28.791Z"
   },
   {
    "duration": 3,
    "start_time": "2023-08-19T01:03:32.705Z"
   },
   {
    "duration": 20,
    "start_time": "2023-08-19T01:09:43.461Z"
   },
   {
    "duration": 20,
    "start_time": "2023-08-19T01:11:03.024Z"
   },
   {
    "duration": 107,
    "start_time": "2023-08-19T01:11:38.865Z"
   },
   {
    "duration": 108,
    "start_time": "2023-08-19T01:11:54.455Z"
   },
   {
    "duration": 10,
    "start_time": "2023-08-19T01:12:08.183Z"
   },
   {
    "duration": 8,
    "start_time": "2023-08-19T01:12:16.376Z"
   },
   {
    "duration": 7,
    "start_time": "2023-08-19T01:12:20.456Z"
   },
   {
    "duration": 6,
    "start_time": "2023-08-19T01:12:23.455Z"
   },
   {
    "duration": 10,
    "start_time": "2023-08-19T01:13:24.735Z"
   },
   {
    "duration": 99,
    "start_time": "2023-08-19T01:13:33.839Z"
   },
   {
    "duration": 30,
    "start_time": "2023-08-19T01:14:06.823Z"
   },
   {
    "duration": 27,
    "start_time": "2023-08-19T01:14:32.015Z"
   },
   {
    "duration": 36,
    "start_time": "2023-08-19T01:14:42.168Z"
   },
   {
    "duration": 37,
    "start_time": "2023-08-19T01:14:46.616Z"
   },
   {
    "duration": 51,
    "start_time": "2023-08-19T01:16:09.994Z"
   },
   {
    "duration": 29,
    "start_time": "2023-08-19T01:16:35.575Z"
   },
   {
    "duration": 30,
    "start_time": "2023-08-19T01:16:44.895Z"
   },
   {
    "duration": 30,
    "start_time": "2023-08-19T01:16:51.298Z"
   },
   {
    "duration": 75,
    "start_time": "2023-08-19T01:16:55.351Z"
   },
   {
    "duration": 33,
    "start_time": "2023-08-19T01:17:01.646Z"
   },
   {
    "duration": 21,
    "start_time": "2023-08-19T01:18:57.999Z"
   },
   {
    "duration": 1303,
    "start_time": "2023-08-19T01:19:04.001Z"
   },
   {
    "duration": 22,
    "start_time": "2023-08-19T01:19:09.103Z"
   },
   {
    "duration": 23,
    "start_time": "2023-08-19T01:19:12.647Z"
   },
   {
    "duration": 29,
    "start_time": "2023-08-19T01:19:17.127Z"
   },
   {
    "duration": 24,
    "start_time": "2023-08-19T01:19:23.126Z"
   },
   {
    "duration": 23,
    "start_time": "2023-08-19T01:19:26.663Z"
   },
   {
    "duration": 25,
    "start_time": "2023-08-19T01:19:31.751Z"
   },
   {
    "duration": 23,
    "start_time": "2023-08-19T01:19:34.960Z"
   },
   {
    "duration": 30,
    "start_time": "2023-08-19T01:19:42.647Z"
   },
   {
    "duration": 24,
    "start_time": "2023-08-19T01:20:01.511Z"
   },
   {
    "duration": 22,
    "start_time": "2023-08-19T01:20:05.527Z"
   },
   {
    "duration": 22,
    "start_time": "2023-08-19T01:20:09.654Z"
   },
   {
    "duration": 24,
    "start_time": "2023-08-19T01:20:17.303Z"
   },
   {
    "duration": 23,
    "start_time": "2023-08-19T01:20:19.840Z"
   },
   {
    "duration": 23,
    "start_time": "2023-08-19T01:20:31.003Z"
   },
   {
    "duration": 23,
    "start_time": "2023-08-19T01:20:35.223Z"
   },
   {
    "duration": 22,
    "start_time": "2023-08-19T01:20:41.400Z"
   },
   {
    "duration": 23,
    "start_time": "2023-08-19T01:20:45.343Z"
   },
   {
    "duration": 51,
    "start_time": "2023-08-19T01:23:21.750Z"
   },
   {
    "duration": 4,
    "start_time": "2023-08-19T01:23:32.376Z"
   },
   {
    "duration": 34,
    "start_time": "2023-08-19T01:23:35.758Z"
   },
   {
    "duration": 4,
    "start_time": "2023-08-19T01:23:38.326Z"
   },
   {
    "duration": 4,
    "start_time": "2023-08-19T01:23:52.728Z"
   },
   {
    "duration": 46,
    "start_time": "2023-08-19T01:23:56.535Z"
   },
   {
    "duration": 77,
    "start_time": "2023-08-19T01:24:31.663Z"
   },
   {
    "duration": 80,
    "start_time": "2023-08-19T01:24:34.383Z"
   },
   {
    "duration": 76,
    "start_time": "2023-08-19T01:24:46.902Z"
   },
   {
    "duration": 79,
    "start_time": "2023-08-19T01:24:49.646Z"
   },
   {
    "duration": 79,
    "start_time": "2023-08-19T01:25:08.023Z"
   },
   {
    "duration": 4,
    "start_time": "2023-08-19T01:25:24.502Z"
   },
   {
    "duration": 34,
    "start_time": "2023-08-19T01:25:28.695Z"
   },
   {
    "duration": 30,
    "start_time": "2023-08-19T01:25:32.015Z"
   },
   {
    "duration": 76,
    "start_time": "2023-08-19T01:25:36.630Z"
   },
   {
    "duration": 80,
    "start_time": "2023-08-19T01:25:39.462Z"
   },
   {
    "duration": 1425,
    "start_time": "2023-08-19T01:26:03.534Z"
   },
   {
    "duration": 1503,
    "start_time": "2023-08-19T01:26:08.271Z"
   },
   {
    "duration": 79,
    "start_time": "2023-08-19T01:26:13.518Z"
   },
   {
    "duration": 1376,
    "start_time": "2023-08-19T01:26:37.206Z"
   },
   {
    "duration": 76,
    "start_time": "2023-08-19T01:26:42.822Z"
   },
   {
    "duration": 78,
    "start_time": "2023-08-19T01:26:44.966Z"
   },
   {
    "duration": 5,
    "start_time": "2023-08-19T01:26:48.214Z"
   },
   {
    "duration": 1935,
    "start_time": "2023-08-19T01:26:59.349Z"
   },
   {
    "duration": 4,
    "start_time": "2023-08-19T01:27:16.431Z"
   },
   {
    "duration": 14,
    "start_time": "2023-08-19T01:27:18.746Z"
   },
   {
    "duration": 51,
    "start_time": "2023-08-19T01:27:21.278Z"
   },
   {
    "duration": 28,
    "start_time": "2023-08-19T01:28:37.830Z"
   },
   {
    "duration": 4,
    "start_time": "2023-08-19T01:28:38.966Z"
   },
   {
    "duration": 10,
    "start_time": "2023-08-19T01:28:55.061Z"
   },
   {
    "duration": 12,
    "start_time": "2023-08-19T01:29:28.638Z"
   },
   {
    "duration": 6,
    "start_time": "2023-08-19T01:29:33.887Z"
   },
   {
    "duration": 40,
    "start_time": "2023-08-19T01:29:35.205Z"
   },
   {
    "duration": 7,
    "start_time": "2023-08-19T01:29:46.743Z"
   },
   {
    "duration": 7,
    "start_time": "2023-08-19T01:29:47.446Z"
   },
   {
    "duration": 7,
    "start_time": "2023-08-19T01:29:58.979Z"
   },
   {
    "duration": 37,
    "start_time": "2023-08-19T01:29:59.646Z"
   },
   {
    "duration": 6,
    "start_time": "2023-08-19T01:30:18.830Z"
   },
   {
    "duration": 6,
    "start_time": "2023-08-19T01:30:23.358Z"
   },
   {
    "duration": 57,
    "start_time": "2023-08-19T01:30:24.128Z"
   },
   {
    "duration": 53,
    "start_time": "2023-08-19T01:30:49.325Z"
   },
   {
    "duration": 6,
    "start_time": "2023-08-19T01:30:53.454Z"
   },
   {
    "duration": 1969,
    "start_time": "2023-08-19T01:30:59.495Z"
   },
   {
    "duration": 1775,
    "start_time": "2023-08-19T01:31:04.647Z"
   },
   {
    "duration": 3,
    "start_time": "2023-08-19T01:31:09.513Z"
   },
   {
    "duration": 6,
    "start_time": "2023-08-19T01:31:16.080Z"
   },
   {
    "duration": 6,
    "start_time": "2023-08-19T01:31:19.318Z"
   },
   {
    "duration": 6,
    "start_time": "2023-08-19T01:32:04.317Z"
   },
   {
    "duration": 5,
    "start_time": "2023-08-19T01:32:09.238Z"
   },
   {
    "duration": 5,
    "start_time": "2023-08-19T01:32:16.958Z"
   },
   {
    "duration": 7,
    "start_time": "2023-08-19T01:32:20.395Z"
   },
   {
    "duration": 8,
    "start_time": "2023-08-19T01:32:23.037Z"
   },
   {
    "duration": 8,
    "start_time": "2023-08-19T01:32:25.982Z"
   },
   {
    "duration": 4,
    "start_time": "2023-08-19T01:32:27.920Z"
   },
   {
    "duration": 5,
    "start_time": "2023-08-19T01:32:29.957Z"
   },
   {
    "duration": 4,
    "start_time": "2023-08-19T01:32:32.100Z"
   },
   {
    "duration": 1694,
    "start_time": "2023-08-19T01:32:53.461Z"
   },
   {
    "duration": 1397,
    "start_time": "2023-08-19T01:32:57.446Z"
   },
   {
    "duration": 5,
    "start_time": "2023-08-19T01:33:05.750Z"
   },
   {
    "duration": 3,
    "start_time": "2023-08-19T01:33:11.160Z"
   },
   {
    "duration": 4,
    "start_time": "2023-08-19T01:33:15.744Z"
   },
   {
    "duration": 6,
    "start_time": "2023-08-19T01:33:29.813Z"
   },
   {
    "duration": 7,
    "start_time": "2023-08-19T01:33:36.677Z"
   },
   {
    "duration": 5,
    "start_time": "2023-08-19T01:33:43.629Z"
   },
   {
    "duration": 4,
    "start_time": "2023-08-19T01:33:46.083Z"
   },
   {
    "duration": 6,
    "start_time": "2023-08-19T01:33:48.517Z"
   },
   {
    "duration": 4,
    "start_time": "2023-08-19T01:34:12.502Z"
   },
   {
    "duration": 3,
    "start_time": "2023-08-19T01:34:37.197Z"
   },
   {
    "duration": 3,
    "start_time": "2023-08-19T01:34:41.805Z"
   },
   {
    "duration": 3,
    "start_time": "2023-08-19T01:34:44.127Z"
   },
   {
    "duration": 77,
    "start_time": "2023-08-19T01:34:53.629Z"
   },
   {
    "duration": 6,
    "start_time": "2023-08-19T01:34:58.574Z"
   },
   {
    "duration": 58,
    "start_time": "2023-08-19T01:35:03.398Z"
   },
   {
    "duration": 56,
    "start_time": "2023-08-19T01:35:13.229Z"
   },
   {
    "duration": 1593,
    "start_time": "2023-08-19T01:35:16.653Z"
   },
   {
    "duration": 59,
    "start_time": "2023-08-19T01:35:34.981Z"
   },
   {
    "duration": 60,
    "start_time": "2023-08-19T01:35:41.284Z"
   },
   {
    "duration": 55,
    "start_time": "2023-08-19T01:35:43.533Z"
   },
   {
    "duration": 57,
    "start_time": "2023-08-19T01:35:54.695Z"
   },
   {
    "duration": 56,
    "start_time": "2023-08-19T01:37:02.860Z"
   },
   {
    "duration": 68,
    "start_time": "2023-08-19T01:37:20.036Z"
   },
   {
    "duration": 59,
    "start_time": "2023-08-19T01:37:22.259Z"
   },
   {
    "duration": 79,
    "start_time": "2023-08-19T01:37:49.435Z"
   },
   {
    "duration": 8,
    "start_time": "2023-08-19T01:38:11.465Z"
   },
   {
    "duration": 5,
    "start_time": "2023-08-19T01:39:35.935Z"
   },
   {
    "duration": 14,
    "start_time": "2023-08-19T01:39:38.431Z"
   },
   {
    "duration": 3,
    "start_time": "2023-08-19T01:39:41.759Z"
   },
   {
    "duration": 33,
    "start_time": "2023-08-19T01:39:41.919Z"
   },
   {
    "duration": 74,
    "start_time": "2023-08-19T01:39:50.033Z"
   },
   {
    "duration": 6,
    "start_time": "2023-08-19T01:39:50.694Z"
   },
   {
    "duration": 9,
    "start_time": "2023-08-19T01:39:58.454Z"
   },
   {
    "duration": 6,
    "start_time": "2023-08-19T01:40:24.110Z"
   },
   {
    "duration": 7,
    "start_time": "2023-08-19T01:40:32.108Z"
   },
   {
    "duration": 7,
    "start_time": "2023-08-19T01:40:34.830Z"
   },
   {
    "duration": 7,
    "start_time": "2023-08-19T01:41:07.125Z"
   },
   {
    "duration": 6,
    "start_time": "2023-08-19T01:41:13.054Z"
   },
   {
    "duration": 2,
    "start_time": "2023-08-19T01:41:15.399Z"
   },
   {
    "duration": 6,
    "start_time": "2023-08-19T01:41:15.589Z"
   },
   {
    "duration": 7,
    "start_time": "2023-08-19T01:41:27.940Z"
   },
   {
    "duration": 7,
    "start_time": "2023-08-19T01:41:30.637Z"
   },
   {
    "duration": 5,
    "start_time": "2023-08-19T01:41:34.572Z"
   },
   {
    "duration": 8,
    "start_time": "2023-08-19T01:41:40.060Z"
   },
   {
    "duration": 7,
    "start_time": "2023-08-19T01:41:41.668Z"
   },
   {
    "duration": 38,
    "start_time": "2023-08-19T01:43:19.765Z"
   },
   {
    "duration": 50,
    "start_time": "2023-08-19T01:45:11.625Z"
   },
   {
    "duration": 29,
    "start_time": "2023-08-19T01:46:24.529Z"
   },
   {
    "duration": 28,
    "start_time": "2023-08-19T01:46:28.273Z"
   },
   {
    "duration": 28,
    "start_time": "2023-08-19T01:46:32.945Z"
   },
   {
    "duration": 31,
    "start_time": "2023-08-19T01:46:36.728Z"
   },
   {
    "duration": 31,
    "start_time": "2023-08-19T01:46:38.704Z"
   },
   {
    "duration": 31,
    "start_time": "2023-08-19T01:46:40.824Z"
   },
   {
    "duration": 29,
    "start_time": "2023-08-19T01:46:42.872Z"
   },
   {
    "duration": 29,
    "start_time": "2023-08-19T01:46:45.875Z"
   },
   {
    "duration": 8174,
    "start_time": "2023-08-19T01:46:59.159Z"
   },
   {
    "duration": 78,
    "start_time": "2023-08-19T01:47:15.831Z"
   },
   {
    "duration": 1518,
    "start_time": "2023-08-19T01:47:30.824Z"
   },
   {
    "duration": 1067,
    "start_time": "2023-08-19T01:50:53.654Z"
   },
   {
    "duration": 1096,
    "start_time": "2023-08-19T01:51:10.541Z"
   },
   {
    "duration": 1075,
    "start_time": "2023-08-19T01:51:28.589Z"
   },
   {
    "duration": 1237,
    "start_time": "2023-08-19T01:51:34.389Z"
   },
   {
    "duration": 2,
    "start_time": "2023-08-19T01:51:41.733Z"
   },
   {
    "duration": 1466,
    "start_time": "2023-08-19T01:51:42.234Z"
   },
   {
    "duration": 1086,
    "start_time": "2023-08-19T01:51:59.844Z"
   },
   {
    "duration": 1196,
    "start_time": "2023-08-19T01:52:13.868Z"
   },
   {
    "duration": 1175,
    "start_time": "2023-08-19T01:52:22.284Z"
   },
   {
    "duration": 1270,
    "start_time": "2023-08-19T01:52:26.076Z"
   },
   {
    "duration": 1274,
    "start_time": "2023-08-19T01:52:29.524Z"
   },
   {
    "duration": 1063,
    "start_time": "2023-08-19T01:52:34.860Z"
   },
   {
    "duration": 2,
    "start_time": "2023-08-19T01:52:37.188Z"
   },
   {
    "duration": 934,
    "start_time": "2023-08-19T01:52:37.452Z"
   },
   {
    "duration": 1370,
    "start_time": "2023-08-19T01:52:49.429Z"
   },
   {
    "duration": 4,
    "start_time": "2023-08-19T01:52:57.124Z"
   },
   {
    "duration": 2,
    "start_time": "2023-08-19T01:53:03.927Z"
   },
   {
    "duration": 703,
    "start_time": "2023-08-19T01:53:04.069Z"
   },
   {
    "duration": 12,
    "start_time": "2023-08-19T01:53:04.773Z"
   },
   {
    "duration": 167,
    "start_time": "2023-08-19T01:53:04.787Z"
   },
   {
    "duration": 80,
    "start_time": "2023-08-19T01:53:05.388Z"
   },
   {
    "duration": 65,
    "start_time": "2023-08-19T01:53:05.708Z"
   },
   {
    "duration": 290,
    "start_time": "2023-08-19T01:53:05.983Z"
   },
   {
    "duration": 269,
    "start_time": "2023-08-19T01:53:06.291Z"
   },
   {
    "duration": 482,
    "start_time": "2023-08-19T01:53:07.093Z"
   },
   {
    "duration": 75,
    "start_time": "2023-08-19T01:53:07.636Z"
   },
   {
    "duration": 12,
    "start_time": "2023-08-19T01:53:07.916Z"
   },
   {
    "duration": 11487,
    "start_time": "2023-08-19T01:53:22.668Z"
   },
   {
    "duration": 76,
    "start_time": "2023-08-19T01:53:39.595Z"
   },
   {
    "duration": 35,
    "start_time": "2023-08-19T01:54:02.653Z"
   },
   {
    "duration": 34501,
    "start_time": "2023-08-19T01:56:03.659Z"
   },
   {
    "duration": 75,
    "start_time": "2023-08-19T01:56:41.106Z"
   },
   {
    "duration": 5,
    "start_time": "2023-08-19T01:57:14.337Z"
   },
   {
    "duration": 87,
    "start_time": "2023-08-19T01:57:58.353Z"
   },
   {
    "duration": 97,
    "start_time": "2023-08-19T01:58:08.409Z"
   },
   {
    "duration": 13,
    "start_time": "2023-08-19T01:58:11.873Z"
   },
   {
    "duration": 76,
    "start_time": "2023-08-19T01:58:14.000Z"
   },
   {
    "duration": 69,
    "start_time": "2023-08-19T01:59:52.105Z"
   },
   {
    "duration": 2,
    "start_time": "2023-08-19T02:00:17.080Z"
   },
   {
    "duration": 792,
    "start_time": "2023-08-19T02:00:17.084Z"
   },
   {
    "duration": 13,
    "start_time": "2023-08-19T02:00:17.878Z"
   },
   {
    "duration": 138,
    "start_time": "2023-08-19T02:00:17.893Z"
   },
   {
    "duration": 101,
    "start_time": "2023-08-19T02:00:18.033Z"
   },
   {
    "duration": 65,
    "start_time": "2023-08-19T02:00:18.136Z"
   },
   {
    "duration": 292,
    "start_time": "2023-08-19T02:00:18.203Z"
   },
   {
    "duration": 275,
    "start_time": "2023-08-19T02:00:18.497Z"
   },
   {
    "duration": 537,
    "start_time": "2023-08-19T02:00:18.774Z"
   },
   {
    "duration": 83,
    "start_time": "2023-08-19T02:00:19.313Z"
   },
   {
    "duration": 36984,
    "start_time": "2023-08-19T02:00:19.398Z"
   },
   {
    "duration": 100,
    "start_time": "2023-08-19T02:00:56.384Z"
   },
   {
    "duration": 3,
    "start_time": "2023-08-19T02:01:05.488Z"
   },
   {
    "duration": 102,
    "start_time": "2023-08-19T02:01:13.897Z"
   },
   {
    "duration": 4,
    "start_time": "2023-08-19T02:03:00.368Z"
   },
   {
    "duration": 4,
    "start_time": "2023-08-19T02:03:06.808Z"
   },
   {
    "duration": 9,
    "start_time": "2023-08-19T02:05:02.463Z"
   },
   {
    "duration": 9,
    "start_time": "2023-08-19T02:05:12.680Z"
   },
   {
    "duration": 10,
    "start_time": "2023-08-19T02:05:24.311Z"
   },
   {
    "duration": 1839,
    "start_time": "2023-08-19T02:05:28.920Z"
   },
   {
    "duration": 10,
    "start_time": "2023-08-19T02:05:38.087Z"
   },
   {
    "duration": 60,
    "start_time": "2023-08-19T02:05:42.392Z"
   },
   {
    "duration": 53,
    "start_time": "2023-08-19T02:05:51.527Z"
   },
   {
    "duration": 3,
    "start_time": "2023-08-19T02:05:55.149Z"
   },
   {
    "duration": 709,
    "start_time": "2023-08-19T02:05:55.310Z"
   },
   {
    "duration": 16,
    "start_time": "2023-08-19T02:05:56.022Z"
   },
   {
    "duration": 141,
    "start_time": "2023-08-19T02:05:56.039Z"
   },
   {
    "duration": 83,
    "start_time": "2023-08-19T02:05:56.183Z"
   },
   {
    "duration": 69,
    "start_time": "2023-08-19T02:05:56.268Z"
   },
   {
    "duration": 3,
    "start_time": "2023-08-19T02:05:56.511Z"
   },
   {
    "duration": 4,
    "start_time": "2023-08-19T02:05:56.736Z"
   },
   {
    "duration": 1418,
    "start_time": "2023-08-19T02:05:57.038Z"
   },
   {
    "duration": 401,
    "start_time": "2023-08-19T02:05:58.838Z"
   },
   {
    "duration": 270,
    "start_time": "2023-08-19T02:06:21.704Z"
   },
   {
    "duration": 240,
    "start_time": "2023-08-19T02:06:24.973Z"
   },
   {
    "duration": 562,
    "start_time": "2023-08-19T02:06:25.654Z"
   },
   {
    "duration": 83,
    "start_time": "2023-08-19T02:06:26.246Z"
   },
   {
    "duration": 1609,
    "start_time": "2023-08-19T02:06:28.662Z"
   },
   {
    "duration": 36144,
    "start_time": "2023-08-19T02:07:01.806Z"
   },
   {
    "duration": 76,
    "start_time": "2023-08-19T02:08:12.121Z"
   },
   {
    "duration": 60,
    "start_time": "2023-08-19T02:08:14.693Z"
   },
   {
    "duration": 10,
    "start_time": "2023-08-19T02:08:17.398Z"
   },
   {
    "duration": 565,
    "start_time": "2023-08-19T02:08:24.406Z"
   },
   {
    "duration": 170,
    "start_time": "2023-08-19T02:08:38.408Z"
   },
   {
    "duration": 2,
    "start_time": "2023-08-19T02:09:05.013Z"
   },
   {
    "duration": 15,
    "start_time": "2023-08-19T02:09:11.341Z"
   },
   {
    "duration": 111,
    "start_time": "2023-08-19T02:09:31.629Z"
   },
   {
    "duration": 130,
    "start_time": "2023-08-19T02:09:51.207Z"
   },
   {
    "duration": 121,
    "start_time": "2023-08-19T02:10:14.373Z"
   },
   {
    "duration": 27,
    "start_time": "2023-08-19T02:10:43.510Z"
   },
   {
    "duration": 41,
    "start_time": "2023-08-19T02:10:48.029Z"
   },
   {
    "duration": 29,
    "start_time": "2023-08-19T02:11:23.942Z"
   },
   {
    "duration": 97,
    "start_time": "2023-08-19T02:12:04.158Z"
   },
   {
    "duration": 148,
    "start_time": "2023-08-19T02:12:08.815Z"
   },
   {
    "duration": 725,
    "start_time": "2023-08-19T02:15:35.415Z"
   },
   {
    "duration": 47,
    "start_time": "2023-08-19T02:16:24.186Z"
   },
   {
    "duration": 15,
    "start_time": "2023-08-19T02:16:36.072Z"
   },
   {
    "duration": 50,
    "start_time": "2023-08-19T02:16:38.465Z"
   },
   {
    "duration": 137,
    "start_time": "2023-08-19T02:16:48.392Z"
   },
   {
    "duration": 12,
    "start_time": "2023-08-19T02:17:24.792Z"
   },
   {
    "duration": 13,
    "start_time": "2023-08-19T02:18:27.360Z"
   },
   {
    "duration": 91,
    "start_time": "2023-08-19T02:19:58.924Z"
   },
   {
    "duration": 17,
    "start_time": "2023-08-19T02:20:34.242Z"
   },
   {
    "duration": 671,
    "start_time": "2023-08-19T02:20:39.640Z"
   },
   {
    "duration": 102,
    "start_time": "2023-08-19T02:21:03.041Z"
   },
   {
    "duration": 118,
    "start_time": "2023-08-19T02:23:42.355Z"
   },
   {
    "duration": 724,
    "start_time": "2023-08-19T02:23:43.000Z"
   },
   {
    "duration": 83,
    "start_time": "2023-08-19T02:23:43.906Z"
   },
   {
    "duration": 44,
    "start_time": "2023-08-19T02:28:29.096Z"
   },
   {
    "duration": 3,
    "start_time": "2023-08-19T02:28:46.488Z"
   },
   {
    "duration": 43,
    "start_time": "2023-08-19T02:29:06.791Z"
   },
   {
    "duration": 1300,
    "start_time": "2023-08-19T02:29:12.181Z"
   },
   {
    "duration": 1041,
    "start_time": "2023-08-19T02:29:13.483Z"
   },
   {
    "duration": 16,
    "start_time": "2023-08-19T02:29:14.525Z"
   },
   {
    "duration": 123,
    "start_time": "2023-08-19T02:29:14.543Z"
   },
   {
    "duration": 98,
    "start_time": "2023-08-19T02:29:14.668Z"
   },
   {
    "duration": 70,
    "start_time": "2023-08-19T02:29:14.767Z"
   },
   {
    "duration": 11,
    "start_time": "2023-08-19T02:29:14.839Z"
   },
   {
    "duration": 7,
    "start_time": "2023-08-19T02:29:14.851Z"
   },
   {
    "duration": 352,
    "start_time": "2023-08-19T02:29:14.859Z"
   },
   {
    "duration": 270,
    "start_time": "2023-08-19T02:29:15.213Z"
   },
   {
    "duration": 554,
    "start_time": "2023-08-19T02:29:15.485Z"
   },
   {
    "duration": 101,
    "start_time": "2023-08-19T02:29:16.041Z"
   },
   {
    "duration": 35130,
    "start_time": "2023-08-19T02:29:16.145Z"
   },
   {
    "duration": 82,
    "start_time": "2023-08-19T02:29:51.278Z"
   },
   {
    "duration": 169,
    "start_time": "2023-08-19T02:29:51.362Z"
   },
   {
    "duration": 121,
    "start_time": "2023-08-19T02:29:51.533Z"
   },
   {
    "duration": 738,
    "start_time": "2023-08-19T02:29:51.656Z"
   },
   {
    "duration": 102,
    "start_time": "2023-08-19T02:29:52.395Z"
   },
   {
    "duration": 1483,
    "start_time": "2023-08-19T02:30:00.736Z"
   },
   {
    "duration": 1110,
    "start_time": "2023-08-19T02:30:02.221Z"
   },
   {
    "duration": 16,
    "start_time": "2023-08-19T02:30:03.333Z"
   },
   {
    "duration": 134,
    "start_time": "2023-08-19T02:30:03.350Z"
   },
   {
    "duration": 96,
    "start_time": "2023-08-19T02:30:03.487Z"
   },
   {
    "duration": 79,
    "start_time": "2023-08-19T02:30:03.585Z"
   },
   {
    "duration": 3,
    "start_time": "2023-08-19T02:30:03.666Z"
   },
   {
    "duration": 15,
    "start_time": "2023-08-19T02:30:03.671Z"
   },
   {
    "duration": 368,
    "start_time": "2023-08-19T02:30:03.688Z"
   },
   {
    "duration": 293,
    "start_time": "2023-08-19T02:30:04.057Z"
   },
   {
    "duration": 570,
    "start_time": "2023-08-19T02:30:04.352Z"
   },
   {
    "duration": 83,
    "start_time": "2023-08-19T02:30:04.924Z"
   },
   {
    "duration": 35886,
    "start_time": "2023-08-19T02:30:05.008Z"
   },
   {
    "duration": 81,
    "start_time": "2023-08-19T02:30:40.897Z"
   },
   {
    "duration": 165,
    "start_time": "2023-08-19T02:30:40.980Z"
   },
   {
    "duration": 129,
    "start_time": "2023-08-19T02:30:41.150Z"
   },
   {
    "duration": 681,
    "start_time": "2023-08-19T02:30:41.280Z"
   },
   {
    "duration": 96,
    "start_time": "2023-08-19T02:30:41.963Z"
   },
   {
    "duration": 3,
    "start_time": "2023-08-19T02:31:18.336Z"
   },
   {
    "duration": 3,
    "start_time": "2023-08-19T02:31:44.208Z"
   },
   {
    "duration": 1331,
    "start_time": "2023-08-19T02:31:46.817Z"
   },
   {
    "duration": 1057,
    "start_time": "2023-08-19T02:31:48.149Z"
   },
   {
    "duration": 16,
    "start_time": "2023-08-19T02:31:49.207Z"
   },
   {
    "duration": 129,
    "start_time": "2023-08-19T02:31:49.225Z"
   },
   {
    "duration": 92,
    "start_time": "2023-08-19T02:31:49.357Z"
   },
   {
    "duration": 72,
    "start_time": "2023-08-19T02:31:49.451Z"
   },
   {
    "duration": 3,
    "start_time": "2023-08-19T02:31:49.524Z"
   },
   {
    "duration": 22,
    "start_time": "2023-08-19T02:31:49.528Z"
   },
   {
    "duration": 352,
    "start_time": "2023-08-19T02:31:49.552Z"
   },
   {
    "duration": 271,
    "start_time": "2023-08-19T02:31:49.906Z"
   },
   {
    "duration": 561,
    "start_time": "2023-08-19T02:31:50.179Z"
   },
   {
    "duration": 78,
    "start_time": "2023-08-19T02:31:50.741Z"
   },
   {
    "duration": 2,
    "start_time": "2023-08-19T02:31:50.821Z"
   },
   {
    "duration": 3,
    "start_time": "2023-08-19T02:31:52.215Z"
   },
   {
    "duration": 77,
    "start_time": "2023-08-19T02:31:52.464Z"
   },
   {
    "duration": 147,
    "start_time": "2023-08-19T02:31:52.760Z"
   },
   {
    "duration": 91,
    "start_time": "2023-08-19T02:31:53.135Z"
   },
   {
    "duration": 600,
    "start_time": "2023-08-19T02:31:53.576Z"
   },
   {
    "duration": 85,
    "start_time": "2023-08-19T02:31:54.178Z"
   },
   {
    "duration": 46,
    "start_time": "2023-08-19T02:32:27.040Z"
   },
   {
    "duration": 1475,
    "start_time": "2023-08-19T02:34:19.768Z"
   },
   {
    "duration": 4,
    "start_time": "2023-08-19T02:35:14.136Z"
   },
   {
    "duration": 40,
    "start_time": "2023-08-19T02:36:14.584Z"
   },
   {
    "duration": 28910,
    "start_time": "2023-08-19T02:36:26.144Z"
   },
   {
    "duration": 610,
    "start_time": "2023-08-19T02:37:07.792Z"
   },
   {
    "duration": 65,
    "start_time": "2023-08-19T02:38:20.439Z"
   },
   {
    "duration": 13,
    "start_time": "2023-08-19T02:38:46.191Z"
   },
   {
    "duration": 1359,
    "start_time": "2023-08-19T02:38:50.713Z"
   },
   {
    "duration": 1051,
    "start_time": "2023-08-19T02:38:52.074Z"
   },
   {
    "duration": 16,
    "start_time": "2023-08-19T02:38:53.126Z"
   },
   {
    "duration": 130,
    "start_time": "2023-08-19T02:38:53.143Z"
   },
   {
    "duration": 94,
    "start_time": "2023-08-19T02:38:53.275Z"
   },
   {
    "duration": 80,
    "start_time": "2023-08-19T02:38:53.370Z"
   },
   {
    "duration": 3,
    "start_time": "2023-08-19T02:38:53.452Z"
   },
   {
    "duration": 6,
    "start_time": "2023-08-19T02:38:53.456Z"
   },
   {
    "duration": 342,
    "start_time": "2023-08-19T02:38:53.463Z"
   },
   {
    "duration": 279,
    "start_time": "2023-08-19T02:38:53.807Z"
   },
   {
    "duration": 547,
    "start_time": "2023-08-19T02:38:54.087Z"
   },
   {
    "duration": 82,
    "start_time": "2023-08-19T02:38:54.635Z"
   },
   {
    "duration": 2,
    "start_time": "2023-08-19T02:38:54.718Z"
   },
   {
    "duration": 90,
    "start_time": "2023-08-19T02:38:54.722Z"
   },
   {
    "duration": 171,
    "start_time": "2023-08-19T02:38:54.813Z"
   },
   {
    "duration": 118,
    "start_time": "2023-08-19T02:38:54.985Z"
   },
   {
    "duration": 610,
    "start_time": "2023-08-19T02:38:55.104Z"
   },
   {
    "duration": 84,
    "start_time": "2023-08-19T02:38:55.716Z"
   },
   {
    "duration": 47,
    "start_time": "2023-08-19T02:42:06.432Z"
   },
   {
    "duration": 1359,
    "start_time": "2023-08-19T02:42:10.064Z"
   },
   {
    "duration": 1092,
    "start_time": "2023-08-19T02:42:11.424Z"
   },
   {
    "duration": 16,
    "start_time": "2023-08-19T02:42:13.014Z"
   },
   {
    "duration": 117,
    "start_time": "2023-08-19T02:42:13.254Z"
   },
   {
    "duration": 85,
    "start_time": "2023-08-19T02:42:13.422Z"
   },
   {
    "duration": 73,
    "start_time": "2023-08-19T02:42:13.582Z"
   },
   {
    "duration": 4,
    "start_time": "2023-08-19T02:42:13.734Z"
   },
   {
    "duration": 4,
    "start_time": "2023-08-19T02:42:13.886Z"
   },
   {
    "duration": 323,
    "start_time": "2023-08-19T02:42:14.046Z"
   },
   {
    "duration": 275,
    "start_time": "2023-08-19T02:42:14.370Z"
   },
   {
    "duration": 550,
    "start_time": "2023-08-19T02:42:14.650Z"
   },
   {
    "duration": 88,
    "start_time": "2023-08-19T02:42:15.203Z"
   },
   {
    "duration": 2,
    "start_time": "2023-08-19T02:42:15.293Z"
   },
   {
    "duration": 90,
    "start_time": "2023-08-19T02:42:15.297Z"
   },
   {
    "duration": 155,
    "start_time": "2023-08-19T02:42:15.389Z"
   },
   {
    "duration": 116,
    "start_time": "2023-08-19T02:42:15.896Z"
   },
   {
    "duration": 601,
    "start_time": "2023-08-19T02:42:16.343Z"
   },
   {
    "duration": 86,
    "start_time": "2023-08-19T02:42:16.946Z"
   },
   {
    "duration": 2967,
    "start_time": "2023-08-19T02:42:18.190Z"
   },
   {
    "duration": 3,
    "start_time": "2023-08-19T02:47:42.000Z"
   },
   {
    "duration": 2811,
    "start_time": "2023-08-19T02:48:03.854Z"
   },
   {
    "duration": 5,
    "start_time": "2023-08-19T02:48:10.221Z"
   },
   {
    "duration": 25760,
    "start_time": "2023-08-19T02:49:01.950Z"
   },
   {
    "duration": 4262,
    "start_time": "2023-08-19T02:49:32.000Z"
   },
   {
    "duration": 123675,
    "start_time": "2023-08-19T02:49:39.695Z"
   },
   {
    "duration": 12173,
    "start_time": "2023-08-19T02:53:32.590Z"
   },
   {
    "duration": 70727,
    "start_time": "2023-08-19T02:53:47.533Z"
   },
   {
    "duration": 37,
    "start_time": "2023-08-19T02:56:35.198Z"
   },
   {
    "duration": 9,
    "start_time": "2023-08-19T02:56:58.366Z"
   },
   {
    "duration": 68,
    "start_time": "2023-08-19T02:58:02.349Z"
   },
   {
    "duration": 5,
    "start_time": "2023-08-19T02:59:22.405Z"
   },
   {
    "duration": 5665,
    "start_time": "2023-08-19T02:59:42.509Z"
   },
   {
    "duration": 4250,
    "start_time": "2023-08-19T03:03:46.038Z"
   },
   {
    "duration": 2920,
    "start_time": "2023-08-19T03:03:53.532Z"
   },
   {
    "duration": 2698,
    "start_time": "2023-08-19T03:04:02.837Z"
   },
   {
    "duration": 4475,
    "start_time": "2023-08-19T03:04:09.764Z"
   },
   {
    "duration": 3097,
    "start_time": "2023-08-19T03:04:23.692Z"
   },
   {
    "duration": 32127,
    "start_time": "2023-08-19T03:05:00.891Z"
   },
   {
    "duration": 39529,
    "start_time": "2023-08-19T03:05:38.875Z"
   },
   {
    "duration": 9778,
    "start_time": "2023-08-19T03:07:34.372Z"
   },
   {
    "duration": 11155,
    "start_time": "2023-08-19T03:07:50.180Z"
   },
   {
    "duration": 15545,
    "start_time": "2023-08-19T03:08:40.259Z"
   },
   {
    "duration": 15229,
    "start_time": "2023-08-19T03:09:06.595Z"
   },
   {
    "duration": 6576,
    "start_time": "2023-08-19T03:09:50.372Z"
   },
   {
    "duration": 55081,
    "start_time": "2023-08-19T03:10:00.468Z"
   },
   {
    "duration": 2308346,
    "start_time": "2023-08-19T03:11:08.326Z"
   },
   {
    "duration": 93,
    "start_time": "2023-08-19T03:49:50.949Z"
   },
   {
    "duration": 20,
    "start_time": "2023-08-19T03:50:38.051Z"
   },
   {
    "duration": 53,
    "start_time": "2023-08-19T03:52:50.814Z"
   },
   {
    "duration": 12,
    "start_time": "2023-08-19T03:53:08.700Z"
   },
   {
    "duration": 3,
    "start_time": "2023-08-19T03:53:17.821Z"
   },
   {
    "duration": 10529,
    "start_time": "2023-08-19T03:53:21.237Z"
   },
   {
    "duration": 9254,
    "start_time": "2023-08-19T03:54:41.901Z"
   },
   {
    "duration": 15,
    "start_time": "2023-08-19T03:55:20.092Z"
   },
   {
    "duration": 4099,
    "start_time": "2023-08-19T03:55:52.581Z"
   },
   {
    "duration": 3356,
    "start_time": "2023-08-19T03:56:15.805Z"
   },
   {
    "duration": 54990,
    "start_time": "2023-08-19T03:56:41.596Z"
   },
   {
    "duration": 5,
    "start_time": "2023-08-19T03:59:43.823Z"
   },
   {
    "duration": 6,
    "start_time": "2023-08-19T03:59:57.522Z"
   },
   {
    "duration": 3,
    "start_time": "2023-08-19T04:00:35.227Z"
   },
   {
    "duration": 936,
    "start_time": "2023-08-19T04:00:35.539Z"
   },
   {
    "duration": 14,
    "start_time": "2023-08-19T04:00:36.478Z"
   },
   {
    "duration": 129,
    "start_time": "2023-08-19T04:00:36.938Z"
   },
   {
    "duration": 86,
    "start_time": "2023-08-19T04:00:37.154Z"
   },
   {
    "duration": 72,
    "start_time": "2023-08-19T04:00:37.331Z"
   },
   {
    "duration": 4,
    "start_time": "2023-08-19T04:00:37.506Z"
   },
   {
    "duration": 9,
    "start_time": "2023-08-19T04:00:37.669Z"
   },
   {
    "duration": 438,
    "start_time": "2023-08-19T04:00:37.835Z"
   },
   {
    "duration": 325,
    "start_time": "2023-08-19T04:00:38.279Z"
   },
   {
    "duration": 653,
    "start_time": "2023-08-19T04:00:38.606Z"
   },
   {
    "duration": 91,
    "start_time": "2023-08-19T04:00:39.261Z"
   },
   {
    "duration": 43908,
    "start_time": "2023-08-19T04:00:39.666Z"
   },
   {
    "duration": 97,
    "start_time": "2023-08-19T04:01:23.577Z"
   },
   {
    "duration": 222,
    "start_time": "2023-08-19T04:01:23.676Z"
   },
   {
    "duration": 29,
    "start_time": "2023-08-19T04:01:23.901Z"
   },
   {
    "duration": 282,
    "start_time": "2023-08-19T04:01:42.307Z"
   },
   {
    "duration": 334,
    "start_time": "2023-08-19T04:02:09.507Z"
   },
   {
    "duration": 439,
    "start_time": "2023-08-19T04:02:13.191Z"
   },
   {
    "duration": 15,
    "start_time": "2023-08-19T04:02:35.671Z"
   },
   {
    "duration": 423,
    "start_time": "2023-08-19T04:02:46.519Z"
   },
   {
    "duration": 395,
    "start_time": "2023-08-19T04:02:50.202Z"
   },
   {
    "duration": 396,
    "start_time": "2023-08-19T04:03:11.205Z"
   },
   {
    "duration": 474,
    "start_time": "2023-08-19T04:03:17.818Z"
   },
   {
    "duration": 268,
    "start_time": "2023-08-19T04:03:20.289Z"
   },
   {
    "duration": 279,
    "start_time": "2023-08-19T04:03:24.522Z"
   },
   {
    "duration": 278,
    "start_time": "2023-08-19T04:03:34.021Z"
   },
   {
    "duration": 278,
    "start_time": "2023-08-19T04:03:47.076Z"
   },
   {
    "duration": 376,
    "start_time": "2023-08-19T04:03:56.298Z"
   },
   {
    "duration": 233,
    "start_time": "2023-08-19T04:04:06.494Z"
   },
   {
    "duration": 4,
    "start_time": "2023-08-19T04:04:10.195Z"
   },
   {
    "duration": 193,
    "start_time": "2023-08-19T04:04:12.371Z"
   },
   {
    "duration": 217,
    "start_time": "2023-08-19T04:04:20.290Z"
   },
   {
    "duration": 13,
    "start_time": "2023-08-19T04:04:27.506Z"
   },
   {
    "duration": 212,
    "start_time": "2023-08-19T04:04:33.314Z"
   },
   {
    "duration": 209,
    "start_time": "2023-08-19T04:04:35.802Z"
   },
   {
    "duration": 6,
    "start_time": "2023-08-19T04:05:24.194Z"
   },
   {
    "duration": 216,
    "start_time": "2023-08-19T04:05:25.924Z"
   },
   {
    "duration": 219,
    "start_time": "2023-08-19T04:05:31.851Z"
   },
   {
    "duration": 191,
    "start_time": "2023-08-19T04:05:36.010Z"
   },
   {
    "duration": 11,
    "start_time": "2023-08-19T04:05:57.273Z"
   },
   {
    "duration": 144,
    "start_time": "2023-08-19T04:07:00.681Z"
   },
   {
    "duration": 148,
    "start_time": "2023-08-19T04:07:06.042Z"
   },
   {
    "duration": 137,
    "start_time": "2023-08-19T04:07:18.033Z"
   },
   {
    "duration": 211,
    "start_time": "2023-08-19T04:07:22.529Z"
   },
   {
    "duration": 15,
    "start_time": "2023-08-19T04:07:39.921Z"
   },
   {
    "duration": 137,
    "start_time": "2023-08-19T04:07:54.705Z"
   },
   {
    "duration": 156,
    "start_time": "2023-08-19T04:08:02.184Z"
   },
   {
    "duration": 126,
    "start_time": "2023-08-19T04:08:05.798Z"
   },
   {
    "duration": 27,
    "start_time": "2023-08-19T04:08:28.865Z"
   },
   {
    "duration": 9,
    "start_time": "2023-08-19T04:08:35.777Z"
   },
   {
    "duration": 8,
    "start_time": "2023-08-19T04:08:37.848Z"
   },
   {
    "duration": 6,
    "start_time": "2023-08-19T04:08:39.757Z"
   },
   {
    "duration": 35,
    "start_time": "2023-08-19T04:09:49.778Z"
   },
   {
    "duration": 14,
    "start_time": "2023-08-19T04:10:22.792Z"
   },
   {
    "duration": 15,
    "start_time": "2023-08-19T04:11:38.281Z"
   },
   {
    "duration": 15,
    "start_time": "2023-08-19T04:12:24.632Z"
   },
   {
    "duration": 14,
    "start_time": "2023-08-19T04:12:49.108Z"
   },
   {
    "duration": 10,
    "start_time": "2023-08-19T04:13:37.184Z"
   },
   {
    "duration": 25,
    "start_time": "2023-08-19T04:13:57.176Z"
   },
   {
    "duration": 14,
    "start_time": "2023-08-19T04:14:01.170Z"
   },
   {
    "duration": 26,
    "start_time": "2023-08-19T04:14:10.345Z"
   },
   {
    "duration": 12,
    "start_time": "2023-08-19T04:14:13.009Z"
   },
   {
    "duration": 10,
    "start_time": "2023-08-19T04:14:16.098Z"
   },
   {
    "duration": 10,
    "start_time": "2023-08-19T04:14:18.328Z"
   },
   {
    "duration": 19,
    "start_time": "2023-08-19T04:14:24.694Z"
   },
   {
    "duration": 26,
    "start_time": "2023-08-19T04:14:27.456Z"
   },
   {
    "duration": 18,
    "start_time": "2023-08-19T04:14:30.491Z"
   },
   {
    "duration": 15,
    "start_time": "2023-08-19T04:14:33.687Z"
   },
   {
    "duration": 18,
    "start_time": "2023-08-19T04:14:36.009Z"
   },
   {
    "duration": 13,
    "start_time": "2023-08-19T04:14:37.943Z"
   },
   {
    "duration": 13,
    "start_time": "2023-08-19T04:14:40.210Z"
   },
   {
    "duration": 15,
    "start_time": "2023-08-19T04:14:42.976Z"
   },
   {
    "duration": 12,
    "start_time": "2023-08-19T04:14:45.078Z"
   },
   {
    "duration": 11,
    "start_time": "2023-08-19T04:14:47.708Z"
   },
   {
    "duration": 14,
    "start_time": "2023-08-19T04:14:49.986Z"
   },
   {
    "duration": 11,
    "start_time": "2023-08-19T04:15:15.185Z"
   },
   {
    "duration": 8,
    "start_time": "2023-08-19T04:15:17.572Z"
   },
   {
    "duration": 11,
    "start_time": "2023-08-19T04:15:20.399Z"
   },
   {
    "duration": 13,
    "start_time": "2023-08-19T04:15:36.872Z"
   },
   {
    "duration": 60,
    "start_time": "2023-08-19T04:15:54.128Z"
   },
   {
    "duration": 76,
    "start_time": "2023-08-19T04:16:07.904Z"
   },
   {
    "duration": 26,
    "start_time": "2023-08-19T04:16:50.144Z"
   },
   {
    "duration": 98,
    "start_time": "2023-08-19T04:18:51.336Z"
   },
   {
    "duration": 3,
    "start_time": "2023-08-19T04:18:53.807Z"
   },
   {
    "duration": 4,
    "start_time": "2023-08-19T04:18:58.255Z"
   },
   {
    "duration": 3,
    "start_time": "2023-08-19T04:19:02.602Z"
   },
   {
    "duration": 5,
    "start_time": "2023-08-19T04:19:03.367Z"
   },
   {
    "duration": 5,
    "start_time": "2023-08-19T04:19:05.839Z"
   },
   {
    "duration": 3,
    "start_time": "2023-08-19T04:19:09.703Z"
   },
   {
    "duration": 4,
    "start_time": "2023-08-19T04:19:10.673Z"
   },
   {
    "duration": 3,
    "start_time": "2023-08-19T04:19:20.871Z"
   },
   {
    "duration": 13,
    "start_time": "2023-08-19T04:19:22.199Z"
   },
   {
    "duration": 2,
    "start_time": "2023-08-19T04:20:04.298Z"
   },
   {
    "duration": 4,
    "start_time": "2023-08-19T04:20:04.471Z"
   },
   {
    "duration": 4,
    "start_time": "2023-08-19T04:20:07.221Z"
   },
   {
    "duration": 2,
    "start_time": "2023-08-19T04:20:24.511Z"
   },
   {
    "duration": 6,
    "start_time": "2023-08-19T04:20:24.752Z"
   },
   {
    "duration": 4,
    "start_time": "2023-08-19T04:20:28.240Z"
   },
   {
    "duration": 4,
    "start_time": "2023-08-19T04:20:28.440Z"
   },
   {
    "duration": 4,
    "start_time": "2023-08-19T04:20:38.782Z"
   },
   {
    "duration": 4,
    "start_time": "2023-08-19T04:20:38.935Z"
   },
   {
    "duration": 3,
    "start_time": "2023-08-19T04:20:43.367Z"
   },
   {
    "duration": 5,
    "start_time": "2023-08-19T04:20:43.543Z"
   },
   {
    "duration": 4,
    "start_time": "2023-08-19T04:20:49.172Z"
   },
   {
    "duration": 5,
    "start_time": "2023-08-19T04:20:49.369Z"
   },
   {
    "duration": 5,
    "start_time": "2023-08-19T04:20:51.666Z"
   },
   {
    "duration": 5,
    "start_time": "2023-08-19T04:20:53.430Z"
   },
   {
    "duration": 4,
    "start_time": "2023-08-19T04:21:02.472Z"
   },
   {
    "duration": 2,
    "start_time": "2023-08-19T04:21:10.175Z"
   },
   {
    "duration": 4,
    "start_time": "2023-08-19T04:21:10.383Z"
   },
   {
    "duration": 106,
    "start_time": "2023-08-19T04:21:48.335Z"
   },
   {
    "duration": 96,
    "start_time": "2023-08-19T04:22:08.224Z"
   },
   {
    "duration": 448,
    "start_time": "2023-08-19T04:22:16.439Z"
   },
   {
    "duration": 48,
    "start_time": "2023-08-19T04:22:25.823Z"
   },
   {
    "duration": 172,
    "start_time": "2023-08-19T04:22:27.231Z"
   },
   {
    "duration": 5,
    "start_time": "2023-08-19T04:22:43.351Z"
   },
   {
    "duration": 773,
    "start_time": "2023-08-19T04:22:43.518Z"
   },
   {
    "duration": 13,
    "start_time": "2023-08-19T04:22:44.294Z"
   },
   {
    "duration": 217,
    "start_time": "2023-08-19T04:22:44.309Z"
   },
   {
    "duration": 101,
    "start_time": "2023-08-19T04:22:44.529Z"
   },
   {
    "duration": 127,
    "start_time": "2023-08-19T04:22:44.633Z"
   },
   {
    "duration": 5,
    "start_time": "2023-08-19T04:22:44.766Z"
   },
   {
    "duration": 6,
    "start_time": "2023-08-19T04:22:44.773Z"
   },
   {
    "duration": 303,
    "start_time": "2023-08-19T04:22:44.800Z"
   },
   {
    "duration": 285,
    "start_time": "2023-08-19T04:22:45.105Z"
   },
   {
    "duration": 616,
    "start_time": "2023-08-19T04:22:45.868Z"
   },
   {
    "duration": 93,
    "start_time": "2023-08-19T04:22:46.977Z"
   },
   {
    "duration": 4,
    "start_time": "2023-08-19T04:22:47.500Z"
   },
   {
    "duration": 88,
    "start_time": "2023-08-19T04:22:47.886Z"
   },
   {
    "duration": 187,
    "start_time": "2023-08-19T04:22:48.327Z"
   },
   {
    "duration": 14,
    "start_time": "2023-08-19T04:22:49.832Z"
   },
   {
    "duration": 113,
    "start_time": "2023-08-19T04:22:50.185Z"
   },
   {
    "duration": 18,
    "start_time": "2023-08-19T04:22:51.968Z"
   },
   {
    "duration": 22,
    "start_time": "2023-08-19T04:22:53.866Z"
   },
   {
    "duration": 77,
    "start_time": "2023-08-19T04:23:01.711Z"
   },
   {
    "duration": 36,
    "start_time": "2023-08-19T04:23:07.769Z"
   },
   {
    "duration": 94,
    "start_time": "2023-08-19T04:23:29.318Z"
   },
   {
    "duration": 90,
    "start_time": "2023-08-19T04:23:31.732Z"
   },
   {
    "duration": 6,
    "start_time": "2023-08-19T04:23:49.338Z"
   },
   {
    "duration": 92,
    "start_time": "2023-08-19T04:24:00.289Z"
   },
   {
    "duration": 5,
    "start_time": "2023-08-19T04:24:04.132Z"
   },
   {
    "duration": 5,
    "start_time": "2023-08-19T04:24:09.870Z"
   },
   {
    "duration": 7,
    "start_time": "2023-08-19T04:24:19.691Z"
   },
   {
    "duration": 5,
    "start_time": "2023-08-19T04:24:22.246Z"
   },
   {
    "duration": 6,
    "start_time": "2023-08-19T04:24:29.821Z"
   },
   {
    "duration": 6,
    "start_time": "2023-08-19T04:24:36.598Z"
   },
   {
    "duration": 4,
    "start_time": "2023-08-19T04:25:14.967Z"
   },
   {
    "duration": 8,
    "start_time": "2023-08-19T04:25:18.183Z"
   },
   {
    "duration": 4,
    "start_time": "2023-08-19T04:25:22.480Z"
   },
   {
    "duration": 6,
    "start_time": "2023-08-19T04:25:22.743Z"
   },
   {
    "duration": 10,
    "start_time": "2023-08-19T04:25:28.580Z"
   },
   {
    "duration": 11,
    "start_time": "2023-08-19T04:25:33.190Z"
   },
   {
    "duration": 4,
    "start_time": "2023-08-19T04:25:35.704Z"
   },
   {
    "duration": 7,
    "start_time": "2023-08-19T04:25:36.031Z"
   },
   {
    "duration": 4,
    "start_time": "2023-08-19T04:25:50.182Z"
   },
   {
    "duration": 4,
    "start_time": "2023-08-19T04:25:52.166Z"
   },
   {
    "duration": 7,
    "start_time": "2023-08-19T04:25:52.310Z"
   },
   {
    "duration": 5,
    "start_time": "2023-08-19T04:25:53.631Z"
   },
   {
    "duration": 6,
    "start_time": "2023-08-19T04:25:53.822Z"
   },
   {
    "duration": 3,
    "start_time": "2023-08-19T04:27:09.910Z"
   },
   {
    "duration": 4,
    "start_time": "2023-08-19T04:27:14.118Z"
   },
   {
    "duration": 4,
    "start_time": "2023-08-19T04:27:32.886Z"
   },
   {
    "duration": 4,
    "start_time": "2023-08-19T04:27:33.142Z"
   },
   {
    "duration": 3,
    "start_time": "2023-08-19T04:27:35.294Z"
   },
   {
    "duration": 3,
    "start_time": "2023-08-19T04:27:35.501Z"
   },
   {
    "duration": 3,
    "start_time": "2023-08-19T04:27:37.542Z"
   },
   {
    "duration": 5,
    "start_time": "2023-08-19T04:27:39.318Z"
   },
   {
    "duration": 3,
    "start_time": "2023-08-19T04:27:40.702Z"
   },
   {
    "duration": 4,
    "start_time": "2023-08-19T04:27:42.078Z"
   },
   {
    "duration": 78,
    "start_time": "2023-08-19T04:29:11.367Z"
   },
   {
    "duration": 3,
    "start_time": "2023-08-19T04:29:17.198Z"
   },
   {
    "duration": 4,
    "start_time": "2023-08-19T04:29:18.485Z"
   },
   {
    "duration": 3,
    "start_time": "2023-08-19T04:29:21.024Z"
   },
   {
    "duration": 3,
    "start_time": "2023-08-19T04:29:23.574Z"
   },
   {
    "duration": 5,
    "start_time": "2023-08-19T04:29:25.525Z"
   },
   {
    "duration": 3,
    "start_time": "2023-08-19T04:30:08.822Z"
   },
   {
    "duration": 117,
    "start_time": "2023-08-19T04:30:42.909Z"
   },
   {
    "duration": 5,
    "start_time": "2023-08-19T04:31:07.447Z"
   },
   {
    "duration": 5,
    "start_time": "2023-08-19T04:31:08.735Z"
   },
   {
    "duration": 5,
    "start_time": "2023-08-19T04:31:12.473Z"
   },
   {
    "duration": 110,
    "start_time": "2023-08-19T04:31:52.966Z"
   },
   {
    "duration": 11,
    "start_time": "2023-08-19T04:32:01.918Z"
   },
   {
    "duration": 135,
    "start_time": "2023-08-19T04:32:04.598Z"
   },
   {
    "duration": 131,
    "start_time": "2023-08-19T04:32:29.496Z"
   },
   {
    "duration": 121,
    "start_time": "2023-08-19T04:32:29.867Z"
   },
   {
    "duration": 8,
    "start_time": "2023-08-19T04:32:38.169Z"
   },
   {
    "duration": 124,
    "start_time": "2023-08-19T04:32:40.094Z"
   },
   {
    "duration": 17,
    "start_time": "2023-08-19T04:32:52.925Z"
   },
   {
    "duration": 21,
    "start_time": "2023-08-19T04:33:16.231Z"
   },
   {
    "duration": 155,
    "start_time": "2023-08-19T04:33:20.695Z"
   },
   {
    "duration": 12,
    "start_time": "2023-08-19T04:33:21.030Z"
   },
   {
    "duration": 110,
    "start_time": "2023-08-19T04:33:24.350Z"
   },
   {
    "duration": 15,
    "start_time": "2023-08-19T04:33:24.527Z"
   },
   {
    "duration": 80,
    "start_time": "2023-08-19T04:33:27.727Z"
   },
   {
    "duration": 11,
    "start_time": "2023-08-19T04:33:27.927Z"
   },
   {
    "duration": 63,
    "start_time": "2023-08-19T04:33:30.414Z"
   },
   {
    "duration": 12,
    "start_time": "2023-08-19T04:33:30.729Z"
   },
   {
    "duration": 56,
    "start_time": "2023-08-19T04:33:34.700Z"
   },
   {
    "duration": 11,
    "start_time": "2023-08-19T04:33:34.972Z"
   },
   {
    "duration": 5,
    "start_time": "2023-08-19T04:33:41.651Z"
   },
   {
    "duration": 799,
    "start_time": "2023-08-19T04:33:41.659Z"
   },
   {
    "duration": 18,
    "start_time": "2023-08-19T04:33:42.460Z"
   },
   {
    "duration": 142,
    "start_time": "2023-08-19T04:33:42.480Z"
   },
   {
    "duration": 105,
    "start_time": "2023-08-19T04:33:42.625Z"
   },
   {
    "duration": 94,
    "start_time": "2023-08-19T04:33:42.732Z"
   },
   {
    "duration": 3,
    "start_time": "2023-08-19T04:33:42.828Z"
   },
   {
    "duration": 18,
    "start_time": "2023-08-19T04:33:42.833Z"
   },
   {
    "duration": 354,
    "start_time": "2023-08-19T04:33:42.852Z"
   },
   {
    "duration": 313,
    "start_time": "2023-08-19T04:33:43.208Z"
   },
   {
    "duration": 585,
    "start_time": "2023-08-19T04:33:43.523Z"
   },
   {
    "duration": 110,
    "start_time": "2023-08-19T04:33:44.110Z"
   },
   {
    "duration": 3,
    "start_time": "2023-08-19T04:33:44.222Z"
   },
   {
    "duration": 126,
    "start_time": "2023-08-19T04:33:44.226Z"
   },
   {
    "duration": 179,
    "start_time": "2023-08-19T04:33:44.354Z"
   },
   {
    "duration": 23,
    "start_time": "2023-08-19T04:33:44.534Z"
   },
   {
    "duration": 126,
    "start_time": "2023-08-19T04:33:44.559Z"
   },
   {
    "duration": 14,
    "start_time": "2023-08-19T04:33:44.686Z"
   },
   {
    "duration": 22,
    "start_time": "2023-08-19T04:33:44.702Z"
   },
   {
    "duration": 24,
    "start_time": "2023-08-19T04:33:44.726Z"
   },
   {
    "duration": 7,
    "start_time": "2023-08-19T04:33:47.966Z"
   },
   {
    "duration": 143,
    "start_time": "2023-08-19T04:33:49.014Z"
   },
   {
    "duration": 19,
    "start_time": "2023-08-19T04:33:50.478Z"
   },
   {
    "duration": 97,
    "start_time": "2023-08-19T04:34:04.680Z"
   },
   {
    "duration": 106,
    "start_time": "2023-08-19T04:34:21.270Z"
   },
   {
    "duration": 144,
    "start_time": "2023-08-19T04:34:28.237Z"
   },
   {
    "duration": 14,
    "start_time": "2023-08-19T04:34:49.175Z"
   },
   {
    "duration": 132,
    "start_time": "2023-08-19T04:35:07.518Z"
   },
   {
    "duration": 62834,
    "start_time": "2023-08-19T04:35:29.094Z"
   },
   {
    "duration": 5,
    "start_time": "2023-08-19T04:36:35.881Z"
   },
   {
    "duration": 12,
    "start_time": "2023-08-19T04:36:36.334Z"
   },
   {
    "duration": 5,
    "start_time": "2023-08-19T04:36:42.173Z"
   },
   {
    "duration": 10,
    "start_time": "2023-08-19T04:36:46.726Z"
   },
   {
    "duration": 9,
    "start_time": "2023-08-19T04:36:47.272Z"
   },
   {
    "duration": 5664,
    "start_time": "2023-08-19T04:37:15.518Z"
   },
   {
    "duration": 1708,
    "start_time": "2023-08-19T04:37:22.438Z"
   },
   {
    "duration": 5,
    "start_time": "2023-08-19T04:37:30.868Z"
   },
   {
    "duration": 6,
    "start_time": "2023-08-19T04:37:31.494Z"
   },
   {
    "duration": 60,
    "start_time": "2023-08-19T04:38:11.967Z"
   },
   {
    "duration": 710,
    "start_time": "2023-08-19T04:38:34.070Z"
   },
   {
    "duration": 86,
    "start_time": "2023-08-19T04:38:35.391Z"
   },
   {
    "duration": 56224,
    "start_time": "2023-08-19T04:38:38.415Z"
   },
   {
    "duration": 1486,
    "start_time": "2023-08-19T04:39:42.875Z"
   },
   {
    "duration": 5,
    "start_time": "2023-08-19T04:40:04.232Z"
   },
   {
    "duration": 7,
    "start_time": "2023-08-19T04:40:04.735Z"
   },
   {
    "duration": 4,
    "start_time": "2023-08-19T04:40:29.039Z"
   },
   {
    "duration": 1099,
    "start_time": "2023-08-19T04:40:29.368Z"
   },
   {
    "duration": 29,
    "start_time": "2023-08-19T04:40:30.471Z"
   },
   {
    "duration": 204,
    "start_time": "2023-08-19T04:40:30.503Z"
   },
   {
    "duration": 132,
    "start_time": "2023-08-19T04:40:31.014Z"
   },
   {
    "duration": 66,
    "start_time": "2023-08-19T04:40:31.366Z"
   },
   {
    "duration": 4,
    "start_time": "2023-08-19T04:40:31.733Z"
   },
   {
    "duration": 7,
    "start_time": "2023-08-19T04:40:32.190Z"
   },
   {
    "duration": 348,
    "start_time": "2023-08-19T04:40:33.070Z"
   },
   {
    "duration": 319,
    "start_time": "2023-08-19T04:40:33.949Z"
   },
   {
    "duration": 702,
    "start_time": "2023-08-19T04:40:34.486Z"
   },
   {
    "duration": 131,
    "start_time": "2023-08-19T04:40:35.191Z"
   },
   {
    "duration": 43350,
    "start_time": "2023-08-19T04:40:35.867Z"
   },
   {
    "duration": 105,
    "start_time": "2023-08-19T04:41:19.220Z"
   },
   {
    "duration": 199,
    "start_time": "2023-08-19T04:41:19.327Z"
   },
   {
    "duration": 124,
    "start_time": "2023-08-19T04:41:19.529Z"
   },
   {
    "duration": 17,
    "start_time": "2023-08-19T04:41:19.655Z"
   },
   {
    "duration": 36,
    "start_time": "2023-08-19T04:41:19.674Z"
   },
   {
    "duration": 3,
    "start_time": "2023-08-19T04:41:19.712Z"
   },
   {
    "duration": 194,
    "start_time": "2023-08-19T04:41:19.717Z"
   },
   {
    "duration": 151,
    "start_time": "2023-08-19T04:41:19.913Z"
   },
   {
    "duration": 149,
    "start_time": "2023-08-19T04:41:20.067Z"
   },
   {
    "duration": 775,
    "start_time": "2023-08-19T04:41:20.218Z"
   },
   {
    "duration": 97,
    "start_time": "2023-08-19T04:41:20.994Z"
   },
   {
    "duration": 4917,
    "start_time": "2023-08-19T04:41:29.498Z"
   },
   {
    "duration": 2436,
    "start_time": "2023-08-19T04:41:39.302Z"
   },
   {
    "duration": 1509,
    "start_time": "2023-08-19T04:41:43.568Z"
   },
   {
    "duration": 5,
    "start_time": "2023-08-19T04:42:02.964Z"
   },
   {
    "duration": 831,
    "start_time": "2023-08-19T04:42:02.972Z"
   },
   {
    "duration": 18,
    "start_time": "2023-08-19T04:42:03.805Z"
   },
   {
    "duration": 187,
    "start_time": "2023-08-19T04:42:03.826Z"
   },
   {
    "duration": 295,
    "start_time": "2023-08-19T04:42:04.015Z"
   },
   {
    "duration": 171,
    "start_time": "2023-08-19T04:42:04.311Z"
   },
   {
    "duration": 4,
    "start_time": "2023-08-19T04:42:04.484Z"
   },
   {
    "duration": 9,
    "start_time": "2023-08-19T04:42:04.490Z"
   },
   {
    "duration": 441,
    "start_time": "2023-08-19T04:42:04.501Z"
   },
   {
    "duration": 905,
    "start_time": "2023-08-19T04:42:04.951Z"
   },
   {
    "duration": 185,
    "start_time": "2023-08-19T04:42:05.858Z"
   },
   {
    "duration": 8941,
    "start_time": "2023-08-19T04:42:06.046Z"
   },
   {
    "duration": 0,
    "start_time": "2023-08-19T04:42:14.989Z"
   },
   {
    "duration": 0,
    "start_time": "2023-08-19T04:42:14.990Z"
   },
   {
    "duration": 0,
    "start_time": "2023-08-19T04:42:14.992Z"
   },
   {
    "duration": 1,
    "start_time": "2023-08-19T04:42:14.992Z"
   },
   {
    "duration": 0,
    "start_time": "2023-08-19T04:42:14.993Z"
   },
   {
    "duration": 0,
    "start_time": "2023-08-19T04:42:14.994Z"
   },
   {
    "duration": 0,
    "start_time": "2023-08-19T04:42:14.995Z"
   },
   {
    "duration": 0,
    "start_time": "2023-08-19T04:42:14.996Z"
   },
   {
    "duration": 0,
    "start_time": "2023-08-19T04:42:14.998Z"
   },
   {
    "duration": 0,
    "start_time": "2023-08-19T04:42:14.999Z"
   },
   {
    "duration": 0,
    "start_time": "2023-08-19T04:42:15.000Z"
   },
   {
    "duration": 4,
    "start_time": "2023-08-19T04:42:26.573Z"
   },
   {
    "duration": 816,
    "start_time": "2023-08-19T04:42:26.579Z"
   },
   {
    "duration": 13,
    "start_time": "2023-08-19T04:42:27.396Z"
   },
   {
    "duration": 172,
    "start_time": "2023-08-19T04:42:27.411Z"
   },
   {
    "duration": 203,
    "start_time": "2023-08-19T04:42:27.588Z"
   },
   {
    "duration": 108,
    "start_time": "2023-08-19T04:42:27.793Z"
   },
   {
    "duration": 4,
    "start_time": "2023-08-19T04:42:27.903Z"
   },
   {
    "duration": 10,
    "start_time": "2023-08-19T04:42:27.909Z"
   },
   {
    "duration": 331,
    "start_time": "2023-08-19T04:42:27.920Z"
   },
   {
    "duration": 268,
    "start_time": "2023-08-19T04:42:28.253Z"
   },
   {
    "duration": 586,
    "start_time": "2023-08-19T04:42:28.522Z"
   },
   {
    "duration": 108,
    "start_time": "2023-08-19T04:42:29.110Z"
   },
   {
    "duration": 122,
    "start_time": "2023-08-19T04:42:29.219Z"
   },
   {
    "duration": 179,
    "start_time": "2023-08-19T04:42:29.349Z"
   },
   {
    "duration": 119,
    "start_time": "2023-08-19T04:42:29.530Z"
   },
   {
    "duration": 19,
    "start_time": "2023-08-19T04:42:29.652Z"
   },
   {
    "duration": 27,
    "start_time": "2023-08-19T04:42:29.673Z"
   },
   {
    "duration": 4,
    "start_time": "2023-08-19T04:42:29.702Z"
   },
   {
    "duration": 168,
    "start_time": "2023-08-19T04:42:29.707Z"
   },
   {
    "duration": 252,
    "start_time": "2023-08-19T04:42:29.877Z"
   },
   {
    "duration": 111,
    "start_time": "2023-08-19T04:42:30.131Z"
   },
   {
    "duration": 786,
    "start_time": "2023-08-19T04:42:30.249Z"
   },
   {
    "duration": 89,
    "start_time": "2023-08-19T04:42:31.037Z"
   },
   {
    "duration": 1564,
    "start_time": "2023-08-19T04:42:37.878Z"
   },
   {
    "duration": 1300,
    "start_time": "2023-08-19T04:42:42.536Z"
   },
   {
    "duration": 6,
    "start_time": "2023-08-19T04:42:50.504Z"
   },
   {
    "duration": 4,
    "start_time": "2023-08-19T04:42:50.829Z"
   },
   {
    "duration": 23672,
    "start_time": "2023-08-19T04:43:10.193Z"
   },
   {
    "duration": 4,
    "start_time": "2023-08-19T04:43:37.326Z"
   },
   {
    "duration": 5,
    "start_time": "2023-08-19T04:43:37.685Z"
   },
   {
    "duration": 20,
    "start_time": "2023-08-19T04:44:04.206Z"
   },
   {
    "duration": 24749,
    "start_time": "2023-08-19T04:46:49.328Z"
   },
   {
    "duration": 0,
    "start_time": "2023-08-19T04:47:14.079Z"
   },
   {
    "duration": 3,
    "start_time": "2023-08-19T04:47:38.725Z"
   },
   {
    "duration": 4331,
    "start_time": "2023-08-19T04:47:42.500Z"
   },
   {
    "duration": 0,
    "start_time": "2023-08-19T04:47:46.833Z"
   },
   {
    "duration": 1767,
    "start_time": "2023-08-19T04:47:47.713Z"
   },
   {
    "duration": 24332,
    "start_time": "2023-08-19T04:47:51.135Z"
   },
   {
    "duration": 18,
    "start_time": "2023-08-19T04:48:29.581Z"
   },
   {
    "duration": 66337,
    "start_time": "2023-08-19T04:51:30.173Z"
   },
   {
    "duration": 225938,
    "start_time": "2023-08-19T04:52:40.302Z"
   },
   {
    "duration": 90640,
    "start_time": "2023-08-19T04:57:08.576Z"
   },
   {
    "duration": 53414,
    "start_time": "2023-08-19T04:59:53.316Z"
   },
   {
    "duration": 140981,
    "start_time": "2023-08-19T05:00:51.870Z"
   },
   {
    "duration": 12034,
    "start_time": "2023-08-19T05:06:10.112Z"
   },
   {
    "duration": 717622,
    "start_time": "2023-08-19T05:06:24.760Z"
   },
   {
    "duration": 22180,
    "start_time": "2023-08-19T05:20:20.604Z"
   },
   {
    "duration": 6625,
    "start_time": "2023-08-19T05:20:44.596Z"
   },
   {
    "duration": 10959,
    "start_time": "2023-08-19T05:20:51.330Z"
   },
   {
    "duration": 194935,
    "start_time": "2023-08-19T05:21:06.644Z"
   },
   {
    "duration": 58283,
    "start_time": "2023-08-19T05:25:23.914Z"
   },
   {
    "duration": 643202,
    "start_time": "2023-08-19T05:26:29.995Z"
   },
   {
    "duration": 6266,
    "start_time": "2023-08-19T05:40:07.467Z"
   },
   {
    "duration": 87007,
    "start_time": "2023-08-19T05:40:19.028Z"
   },
   {
    "duration": 7139,
    "start_time": "2023-08-19T05:42:03.902Z"
   },
   {
    "duration": 3601,
    "start_time": "2023-08-19T05:42:21.409Z"
   },
   {
    "duration": 96628,
    "start_time": "2023-08-19T05:42:30.434Z"
   },
   {
    "duration": 3430,
    "start_time": "2023-08-19T05:44:16.489Z"
   },
   {
    "duration": 11816,
    "start_time": "2023-08-19T05:44:31.966Z"
   },
   {
    "duration": 27779,
    "start_time": "2023-08-19T05:44:47.065Z"
   },
   {
    "duration": 49534,
    "start_time": "2023-08-19T05:45:25.088Z"
   },
   {
    "duration": 74640,
    "start_time": "2023-08-19T05:46:24.974Z"
   },
   {
    "duration": 47386,
    "start_time": "2023-08-19T05:48:46.189Z"
   },
   {
    "duration": 34703,
    "start_time": "2023-08-19T05:49:50.781Z"
   },
   {
    "duration": 216805,
    "start_time": "2023-08-19T05:50:46.884Z"
   },
   {
    "duration": 13327,
    "start_time": "2023-08-19T05:56:53.034Z"
   },
   {
    "duration": 19633,
    "start_time": "2023-08-19T05:57:16.426Z"
   },
   {
    "duration": 554753,
    "start_time": "2023-08-19T05:58:48.826Z"
   },
   {
    "duration": 81522,
    "start_time": "2023-08-19T06:08:40.735Z"
   },
   {
    "duration": 198612,
    "start_time": "2023-08-19T06:10:51.240Z"
   },
   {
    "duration": 20,
    "start_time": "2023-08-19T06:22:13.365Z"
   },
   {
    "duration": 5,
    "start_time": "2023-08-19T06:22:17.422Z"
   },
   {
    "duration": 5,
    "start_time": "2023-08-19T06:22:23.191Z"
   },
   {
    "duration": 10,
    "start_time": "2023-08-19T06:23:27.838Z"
   },
   {
    "duration": 6,
    "start_time": "2023-08-19T06:23:29.142Z"
   },
   {
    "duration": 4,
    "start_time": "2023-08-19T06:23:29.797Z"
   },
   {
    "duration": 29573,
    "start_time": "2023-08-19T06:24:48.429Z"
   },
   {
    "duration": 3,
    "start_time": "2023-08-19T06:25:37.430Z"
   },
   {
    "duration": 29408,
    "start_time": "2023-08-19T06:25:48.022Z"
   },
   {
    "duration": 137701,
    "start_time": "2023-08-19T06:26:33.285Z"
   },
   {
    "duration": 495,
    "start_time": "2023-08-19T06:31:25.068Z"
   },
   {
    "duration": 481,
    "start_time": "2023-08-19T06:31:43.532Z"
   },
   {
    "duration": 490,
    "start_time": "2023-08-19T06:31:46.848Z"
   },
   {
    "duration": 504,
    "start_time": "2023-08-19T06:31:48.436Z"
   },
   {
    "duration": 501,
    "start_time": "2023-08-19T06:32:14.188Z"
   },
   {
    "duration": 98,
    "start_time": "2023-08-19T06:32:22.572Z"
   },
   {
    "duration": 55483,
    "start_time": "2023-08-19T06:32:39.949Z"
   },
   {
    "duration": 156,
    "start_time": "2023-08-19T06:33:39.620Z"
   },
   {
    "duration": 533,
    "start_time": "2023-08-19T06:33:43.827Z"
   },
   {
    "duration": 164,
    "start_time": "2023-08-19T06:33:54.588Z"
   },
   {
    "duration": 10,
    "start_time": "2023-08-19T06:35:26.811Z"
   },
   {
    "duration": 4,
    "start_time": "2023-08-19T06:35:39.595Z"
   },
   {
    "duration": 5,
    "start_time": "2023-08-19T06:35:41.758Z"
   },
   {
    "duration": 5,
    "start_time": "2023-08-19T06:35:50.219Z"
   },
   {
    "duration": 12,
    "start_time": "2023-08-19T06:35:51.962Z"
   },
   {
    "duration": 172,
    "start_time": "2023-08-19T06:37:01.676Z"
   },
   {
    "duration": 174,
    "start_time": "2023-08-19T06:37:33.980Z"
   },
   {
    "duration": 157,
    "start_time": "2023-08-19T06:37:35.461Z"
   },
   {
    "duration": 500,
    "start_time": "2023-08-19T06:37:36.868Z"
   },
   {
    "duration": 6,
    "start_time": "2023-08-19T06:38:13.362Z"
   },
   {
    "duration": 1422,
    "start_time": "2023-08-19T06:39:11.556Z"
   },
   {
    "duration": 795,
    "start_time": "2023-08-19T06:39:12.980Z"
   },
   {
    "duration": 16,
    "start_time": "2023-08-19T06:39:13.777Z"
   },
   {
    "duration": 150,
    "start_time": "2023-08-19T06:39:13.795Z"
   },
   {
    "duration": 89,
    "start_time": "2023-08-19T06:39:13.949Z"
   },
   {
    "duration": 79,
    "start_time": "2023-08-19T06:39:14.039Z"
   },
   {
    "duration": 3,
    "start_time": "2023-08-19T06:39:14.120Z"
   },
   {
    "duration": 6,
    "start_time": "2023-08-19T06:39:14.124Z"
   },
   {
    "duration": 383,
    "start_time": "2023-08-19T06:39:14.149Z"
   },
   {
    "duration": 287,
    "start_time": "2023-08-19T06:39:14.533Z"
   },
   {
    "duration": 594,
    "start_time": "2023-08-19T06:39:14.822Z"
   },
   {
    "duration": 97,
    "start_time": "2023-08-19T06:39:15.418Z"
   },
   {
    "duration": 97,
    "start_time": "2023-08-19T06:39:15.517Z"
   },
   {
    "duration": 180,
    "start_time": "2023-08-19T06:39:15.618Z"
   },
   {
    "duration": 120,
    "start_time": "2023-08-19T06:39:15.800Z"
   },
   {
    "duration": 12,
    "start_time": "2023-08-19T06:39:15.922Z"
   },
   {
    "duration": 37,
    "start_time": "2023-08-19T06:39:15.935Z"
   },
   {
    "duration": 3,
    "start_time": "2023-08-19T06:39:15.974Z"
   },
   {
    "duration": 147,
    "start_time": "2023-08-19T06:39:15.978Z"
   },
   {
    "duration": 149,
    "start_time": "2023-08-19T06:39:16.127Z"
   },
   {
    "duration": 158,
    "start_time": "2023-08-19T06:39:16.278Z"
   },
   {
    "duration": 694,
    "start_time": "2023-08-19T06:39:16.438Z"
   },
   {
    "duration": 86,
    "start_time": "2023-08-19T06:39:17.134Z"
   },
   {
    "duration": 1423,
    "start_time": "2023-08-19T06:39:39.297Z"
   },
   {
    "duration": 760,
    "start_time": "2023-08-19T06:39:40.722Z"
   },
   {
    "duration": 15,
    "start_time": "2023-08-19T06:39:41.484Z"
   },
   {
    "duration": 143,
    "start_time": "2023-08-19T06:39:41.500Z"
   },
   {
    "duration": 83,
    "start_time": "2023-08-19T06:39:41.649Z"
   },
   {
    "duration": 86,
    "start_time": "2023-08-19T06:39:41.734Z"
   },
   {
    "duration": 4,
    "start_time": "2023-08-19T06:39:41.821Z"
   },
   {
    "duration": 6,
    "start_time": "2023-08-19T06:39:41.827Z"
   },
   {
    "duration": 365,
    "start_time": "2023-08-19T06:39:41.849Z"
   },
   {
    "duration": 300,
    "start_time": "2023-08-19T06:39:42.217Z"
   },
   {
    "duration": 596,
    "start_time": "2023-08-19T06:39:42.518Z"
   },
   {
    "duration": 92,
    "start_time": "2023-08-19T06:39:43.116Z"
   },
   {
    "duration": 181,
    "start_time": "2023-08-19T06:39:43.209Z"
   },
   {
    "duration": 115,
    "start_time": "2023-08-19T06:39:43.391Z"
   },
   {
    "duration": 13,
    "start_time": "2023-08-19T06:39:43.508Z"
   },
   {
    "duration": 46,
    "start_time": "2023-08-19T06:39:43.523Z"
   },
   {
    "duration": 2,
    "start_time": "2023-08-19T06:39:43.571Z"
   },
   {
    "duration": 131,
    "start_time": "2023-08-19T06:39:43.575Z"
   },
   {
    "duration": 108,
    "start_time": "2023-08-19T06:39:43.707Z"
   },
   {
    "duration": 129,
    "start_time": "2023-08-19T06:39:43.817Z"
   },
   {
    "duration": 660,
    "start_time": "2023-08-19T06:39:43.953Z"
   },
   {
    "duration": 87,
    "start_time": "2023-08-19T06:39:44.615Z"
   },
   {
    "duration": 122862,
    "start_time": "2023-08-19T06:39:44.704Z"
   },
   {
    "duration": 1416,
    "start_time": "2023-08-19T06:42:17.217Z"
   },
   {
    "duration": 824,
    "start_time": "2023-08-19T06:42:18.635Z"
   },
   {
    "duration": 14,
    "start_time": "2023-08-19T06:42:19.462Z"
   },
   {
    "duration": 143,
    "start_time": "2023-08-19T06:42:19.478Z"
   },
   {
    "duration": 91,
    "start_time": "2023-08-19T06:42:19.623Z"
   },
   {
    "duration": 83,
    "start_time": "2023-08-19T06:42:19.716Z"
   },
   {
    "duration": 3,
    "start_time": "2023-08-19T06:42:19.801Z"
   },
   {
    "duration": 19,
    "start_time": "2023-08-19T06:42:19.806Z"
   },
   {
    "duration": 381,
    "start_time": "2023-08-19T06:42:19.827Z"
   },
   {
    "duration": 298,
    "start_time": "2023-08-19T06:42:20.210Z"
   },
   {
    "duration": 598,
    "start_time": "2023-08-19T06:42:20.509Z"
   },
   {
    "duration": 109,
    "start_time": "2023-08-19T06:42:21.109Z"
   },
   {
    "duration": 203,
    "start_time": "2023-08-19T06:42:21.220Z"
   },
   {
    "duration": 149,
    "start_time": "2023-08-19T06:42:21.425Z"
   },
   {
    "duration": 15,
    "start_time": "2023-08-19T06:42:21.576Z"
   },
   {
    "duration": 24,
    "start_time": "2023-08-19T06:42:21.593Z"
   },
   {
    "duration": 2,
    "start_time": "2023-08-19T06:42:21.619Z"
   },
   {
    "duration": 170,
    "start_time": "2023-08-19T06:42:21.622Z"
   },
   {
    "duration": 119,
    "start_time": "2023-08-19T06:42:21.794Z"
   },
   {
    "duration": 126,
    "start_time": "2023-08-19T06:42:21.915Z"
   },
   {
    "duration": 704,
    "start_time": "2023-08-19T06:42:22.043Z"
   },
   {
    "duration": 81,
    "start_time": "2023-08-19T06:42:22.751Z"
   },
   {
    "duration": 466916,
    "start_time": "2023-08-19T06:42:22.834Z"
   },
   {
    "duration": 189260,
    "start_time": "2023-08-19T06:50:09.752Z"
   },
   {
    "duration": 109156,
    "start_time": "2023-08-19T06:53:19.014Z"
   },
   {
    "duration": 14,
    "start_time": "2023-08-19T06:55:08.172Z"
   },
   {
    "duration": 28636,
    "start_time": "2023-08-19T06:55:08.188Z"
   },
   {
    "duration": 48616,
    "start_time": "2023-08-19T06:55:36.826Z"
   },
   {
    "duration": 78408,
    "start_time": "2023-08-19T06:56:25.443Z"
   },
   {
    "duration": 515,
    "start_time": "2023-08-19T06:57:43.853Z"
   },
   {
    "duration": 173,
    "start_time": "2023-08-19T06:57:44.370Z"
   },
   {
    "duration": 126,
    "start_time": "2023-08-19T06:57:44.544Z"
   },
   {
    "duration": 78,
    "start_time": "2023-08-19T06:57:44.672Z"
   },
   {
    "duration": 717,
    "start_time": "2023-08-19T07:07:53.821Z"
   },
   {
    "duration": 3,
    "start_time": "2023-08-19T07:07:58.169Z"
   },
   {
    "duration": 215,
    "start_time": "2023-08-19T07:08:00.981Z"
   },
   {
    "duration": 530,
    "start_time": "2023-08-19T07:08:15.367Z"
   },
   {
    "duration": 171,
    "start_time": "2023-08-19T07:08:16.761Z"
   },
   {
    "duration": 187,
    "start_time": "2023-08-19T07:08:17.766Z"
   },
   {
    "duration": 506,
    "start_time": "2023-08-19T07:08:50.067Z"
   },
   {
    "duration": 182,
    "start_time": "2023-08-19T07:08:51.932Z"
   },
   {
    "duration": 125,
    "start_time": "2023-08-19T07:08:52.836Z"
   },
   {
    "duration": 5,
    "start_time": "2023-08-19T07:08:53.533Z"
   },
   {
    "duration": 558,
    "start_time": "2023-08-19T07:09:00.716Z"
   },
   {
    "duration": 30563,
    "start_time": "2023-08-19T07:09:49.189Z"
   },
   {
    "duration": 569,
    "start_time": "2023-08-19T07:10:29.244Z"
   },
   {
    "duration": 667,
    "start_time": "2023-08-19T07:10:35.917Z"
   },
   {
    "duration": 564,
    "start_time": "2023-08-19T07:10:43.109Z"
   },
   {
    "duration": 193,
    "start_time": "2023-08-19T07:10:52.023Z"
   },
   {
    "duration": 173,
    "start_time": "2023-08-19T07:10:52.977Z"
   },
   {
    "duration": 8,
    "start_time": "2023-08-19T07:10:59.348Z"
   },
   {
    "duration": 5,
    "start_time": "2023-08-19T07:11:21.373Z"
   },
   {
    "duration": 529,
    "start_time": "2023-08-19T07:17:58.969Z"
   },
   {
    "duration": 549,
    "start_time": "2023-08-19T07:18:01.724Z"
   },
   {
    "duration": 531,
    "start_time": "2023-08-19T07:18:04.731Z"
   },
   {
    "duration": 532,
    "start_time": "2023-08-19T07:18:07.099Z"
   },
   {
    "duration": 134,
    "start_time": "2023-08-19T07:18:36.547Z"
   },
   {
    "duration": 168,
    "start_time": "2023-08-19T07:18:37.862Z"
   },
   {
    "duration": 189,
    "start_time": "2023-08-19T07:19:44.307Z"
   },
   {
    "duration": 154,
    "start_time": "2023-08-19T07:19:44.939Z"
   },
   {
    "duration": 198,
    "start_time": "2023-08-19T07:19:46.095Z"
   },
   {
    "duration": 185,
    "start_time": "2023-08-19T07:19:46.573Z"
   },
   {
    "duration": 168,
    "start_time": "2023-08-19T07:19:49.284Z"
   },
   {
    "duration": 138,
    "start_time": "2023-08-19T07:19:50.140Z"
   },
   {
    "duration": 91,
    "start_time": "2023-08-19T07:19:50.883Z"
   },
   {
    "duration": 126,
    "start_time": "2023-08-19T07:19:51.531Z"
   },
   {
    "duration": 174,
    "start_time": "2023-08-19T07:19:52.284Z"
   },
   {
    "duration": 175,
    "start_time": "2023-08-19T07:19:53.323Z"
   },
   {
    "duration": 1649,
    "start_time": "2023-08-19T16:25:22.554Z"
   },
   {
    "duration": 1127,
    "start_time": "2023-08-19T16:25:24.983Z"
   },
   {
    "duration": 17,
    "start_time": "2023-08-19T16:25:27.049Z"
   },
   {
    "duration": 136,
    "start_time": "2023-08-19T16:25:27.512Z"
   },
   {
    "duration": 91,
    "start_time": "2023-08-19T16:25:27.977Z"
   },
   {
    "duration": 75,
    "start_time": "2023-08-19T16:25:28.617Z"
   },
   {
    "duration": 4,
    "start_time": "2023-08-19T16:25:30.808Z"
   },
   {
    "duration": 5,
    "start_time": "2023-08-19T16:25:30.976Z"
   },
   {
    "duration": 362,
    "start_time": "2023-08-19T16:25:35.753Z"
   },
   {
    "duration": 293,
    "start_time": "2023-08-19T16:25:37.800Z"
   },
   {
    "duration": 572,
    "start_time": "2023-08-19T16:25:38.511Z"
   },
   {
    "duration": 86,
    "start_time": "2023-08-19T16:25:48.176Z"
   },
   {
    "duration": 166,
    "start_time": "2023-08-19T16:25:49.240Z"
   },
   {
    "duration": 4,
    "start_time": "2023-08-19T16:26:35.869Z"
   },
   {
    "duration": 797,
    "start_time": "2023-08-19T16:26:35.875Z"
   },
   {
    "duration": 13,
    "start_time": "2023-08-19T16:26:36.674Z"
   },
   {
    "duration": 180,
    "start_time": "2023-08-19T16:26:36.689Z"
   },
   {
    "duration": 85,
    "start_time": "2023-08-19T16:26:36.871Z"
   },
   {
    "duration": 83,
    "start_time": "2023-08-19T16:26:36.958Z"
   },
   {
    "duration": 3,
    "start_time": "2023-08-19T16:26:37.042Z"
   },
   {
    "duration": 10,
    "start_time": "2023-08-19T16:26:37.047Z"
   },
   {
    "duration": 324,
    "start_time": "2023-08-19T16:26:37.058Z"
   },
   {
    "duration": 259,
    "start_time": "2023-08-19T16:26:37.384Z"
   },
   {
    "duration": 528,
    "start_time": "2023-08-19T16:26:37.645Z"
   },
   {
    "duration": 83,
    "start_time": "2023-08-19T16:26:38.175Z"
   },
   {
    "duration": 112,
    "start_time": "2023-08-19T16:27:16.647Z"
   },
   {
    "duration": 137,
    "start_time": "2023-08-19T16:27:20.047Z"
   },
   {
    "duration": 135,
    "start_time": "2023-08-19T16:27:56.199Z"
   },
   {
    "duration": 4,
    "start_time": "2023-08-19T16:28:03.880Z"
   },
   {
    "duration": 787,
    "start_time": "2023-08-19T16:28:03.887Z"
   },
   {
    "duration": 15,
    "start_time": "2023-08-19T16:28:04.676Z"
   },
   {
    "duration": 133,
    "start_time": "2023-08-19T16:28:04.692Z"
   },
   {
    "duration": 96,
    "start_time": "2023-08-19T16:28:04.827Z"
   },
   {
    "duration": 76,
    "start_time": "2023-08-19T16:28:04.925Z"
   },
   {
    "duration": 3,
    "start_time": "2023-08-19T16:28:05.003Z"
   },
   {
    "duration": 7,
    "start_time": "2023-08-19T16:28:05.008Z"
   },
   {
    "duration": 310,
    "start_time": "2023-08-19T16:28:05.016Z"
   },
   {
    "duration": 258,
    "start_time": "2023-08-19T16:28:05.327Z"
   },
   {
    "duration": 535,
    "start_time": "2023-08-19T16:28:05.587Z"
   },
   {
    "duration": 87,
    "start_time": "2023-08-19T16:28:06.123Z"
   },
   {
    "duration": 183,
    "start_time": "2023-08-19T16:28:51.254Z"
   },
   {
    "duration": 4,
    "start_time": "2023-08-19T16:29:24.910Z"
   },
   {
    "duration": 18,
    "start_time": "2023-08-19T16:30:54.023Z"
   },
   {
    "duration": 112,
    "start_time": "2023-08-19T16:32:24.366Z"
   },
   {
    "duration": 9,
    "start_time": "2023-08-19T16:32:27.660Z"
   },
   {
    "duration": 12,
    "start_time": "2023-08-19T16:33:07.517Z"
   },
   {
    "duration": 10,
    "start_time": "2023-08-19T16:33:21.324Z"
   },
   {
    "duration": 116,
    "start_time": "2023-08-19T16:33:48.460Z"
   },
   {
    "duration": 121,
    "start_time": "2023-08-19T16:33:52.716Z"
   },
   {
    "duration": 11,
    "start_time": "2023-08-19T16:34:10.580Z"
   },
   {
    "duration": 3,
    "start_time": "2023-08-19T16:34:15.436Z"
   },
   {
    "duration": 203,
    "start_time": "2023-08-19T16:34:18.556Z"
   },
   {
    "duration": 3,
    "start_time": "2023-08-19T16:34:31.100Z"
   },
   {
    "duration": 207,
    "start_time": "2023-08-19T16:34:33.484Z"
   },
   {
    "duration": 134,
    "start_time": "2023-08-19T16:34:45.252Z"
   },
   {
    "duration": 131,
    "start_time": "2023-08-19T16:34:50.084Z"
   },
   {
    "duration": 173,
    "start_time": "2023-08-19T16:34:54.068Z"
   },
   {
    "duration": 183,
    "start_time": "2023-08-19T16:35:26.043Z"
   },
   {
    "duration": 164,
    "start_time": "2023-08-19T16:35:31.771Z"
   },
   {
    "duration": 187,
    "start_time": "2023-08-19T16:36:57.156Z"
   },
   {
    "duration": 167,
    "start_time": "2023-08-19T16:37:03.012Z"
   },
   {
    "duration": 184,
    "start_time": "2023-08-19T16:37:17.059Z"
   },
   {
    "duration": 183,
    "start_time": "2023-08-19T16:37:41.034Z"
   },
   {
    "duration": 173,
    "start_time": "2023-08-19T16:37:44.002Z"
   },
   {
    "duration": 177,
    "start_time": "2023-08-19T16:37:48.732Z"
   },
   {
    "duration": 182,
    "start_time": "2023-08-19T17:04:08.475Z"
   },
   {
    "duration": 277,
    "start_time": "2023-08-19T17:05:56.210Z"
   },
   {
    "duration": 3,
    "start_time": "2023-08-19T17:15:17.552Z"
   },
   {
    "duration": 807,
    "start_time": "2023-08-19T17:15:19.031Z"
   },
   {
    "duration": 13,
    "start_time": "2023-08-19T17:15:20.512Z"
   },
   {
    "duration": 145,
    "start_time": "2023-08-19T17:15:20.906Z"
   },
   {
    "duration": 93,
    "start_time": "2023-08-19T17:15:21.320Z"
   },
   {
    "duration": 90,
    "start_time": "2023-08-19T17:15:21.728Z"
   },
   {
    "duration": 5,
    "start_time": "2023-08-19T17:15:22.039Z"
   },
   {
    "duration": 4,
    "start_time": "2023-08-19T17:15:22.295Z"
   },
   {
    "duration": 305,
    "start_time": "2023-08-19T17:15:22.758Z"
   },
   {
    "duration": 264,
    "start_time": "2023-08-19T17:15:24.030Z"
   },
   {
    "duration": 585,
    "start_time": "2023-08-19T17:15:25.022Z"
   },
   {
    "duration": 94,
    "start_time": "2023-08-19T17:15:25.999Z"
   },
   {
    "duration": 195,
    "start_time": "2023-08-19T17:15:26.567Z"
   },
   {
    "duration": 173,
    "start_time": "2023-08-19T17:15:29.224Z"
   },
   {
    "duration": 170,
    "start_time": "2023-08-19T17:15:33.454Z"
   },
   {
    "duration": 18,
    "start_time": "2023-08-19T17:15:36.118Z"
   },
   {
    "duration": 35,
    "start_time": "2023-08-19T17:15:37.006Z"
   },
   {
    "duration": 8,
    "start_time": "2023-08-19T17:27:38.063Z"
   },
   {
    "duration": 114,
    "start_time": "2023-08-19T17:28:18.652Z"
   },
   {
    "duration": 105,
    "start_time": "2023-08-19T17:28:23.106Z"
   },
   {
    "duration": 33,
    "start_time": "2023-08-19T17:29:13.436Z"
   },
   {
    "duration": 29,
    "start_time": "2023-08-19T17:29:27.827Z"
   },
   {
    "duration": 34,
    "start_time": "2023-08-19T17:29:45.315Z"
   },
   {
    "duration": 9,
    "start_time": "2023-08-19T17:29:53.956Z"
   },
   {
    "duration": 16,
    "start_time": "2023-08-19T17:30:08.579Z"
   },
   {
    "duration": 9,
    "start_time": "2023-08-19T17:30:53.955Z"
   },
   {
    "duration": 8,
    "start_time": "2023-08-19T17:31:02.571Z"
   },
   {
    "duration": 3,
    "start_time": "2023-08-19T17:34:24.507Z"
   },
   {
    "duration": 9,
    "start_time": "2023-08-19T17:34:24.850Z"
   },
   {
    "duration": 95,
    "start_time": "2023-08-19T17:34:25.227Z"
   },
   {
    "duration": 8,
    "start_time": "2023-08-19T17:34:33.956Z"
   },
   {
    "duration": 96,
    "start_time": "2023-08-19T17:34:36.529Z"
   },
   {
    "duration": 3,
    "start_time": "2023-08-19T17:34:39.434Z"
   },
   {
    "duration": 93,
    "start_time": "2023-08-19T17:34:40.530Z"
   },
   {
    "duration": 3,
    "start_time": "2023-08-19T17:34:41.697Z"
   },
   {
    "duration": 3,
    "start_time": "2023-08-19T17:34:46.831Z"
   },
   {
    "duration": 751,
    "start_time": "2023-08-19T17:34:46.837Z"
   },
   {
    "duration": 14,
    "start_time": "2023-08-19T17:34:47.590Z"
   },
   {
    "duration": 152,
    "start_time": "2023-08-19T17:34:47.606Z"
   },
   {
    "duration": 92,
    "start_time": "2023-08-19T17:34:47.761Z"
   },
   {
    "duration": 80,
    "start_time": "2023-08-19T17:34:47.855Z"
   },
   {
    "duration": 4,
    "start_time": "2023-08-19T17:34:47.937Z"
   },
   {
    "duration": 6,
    "start_time": "2023-08-19T17:34:47.943Z"
   },
   {
    "duration": 321,
    "start_time": "2023-08-19T17:34:47.950Z"
   },
   {
    "duration": 258,
    "start_time": "2023-08-19T17:34:48.273Z"
   },
   {
    "duration": 541,
    "start_time": "2023-08-19T17:34:48.533Z"
   },
   {
    "duration": 91,
    "start_time": "2023-08-19T17:34:49.076Z"
   },
   {
    "duration": 194,
    "start_time": "2023-08-19T17:34:49.168Z"
   },
   {
    "duration": 182,
    "start_time": "2023-08-19T17:34:49.364Z"
   },
   {
    "duration": 18,
    "start_time": "2023-08-19T17:34:49.547Z"
   },
   {
    "duration": 44,
    "start_time": "2023-08-19T17:34:49.566Z"
   },
   {
    "duration": 4,
    "start_time": "2023-08-19T17:34:52.367Z"
   },
   {
    "duration": 158,
    "start_time": "2023-08-19T17:34:57.474Z"
   },
   {
    "duration": 112,
    "start_time": "2023-08-19T17:34:58.738Z"
   },
   {
    "duration": 5,
    "start_time": "2023-08-19T17:35:12.268Z"
   },
   {
    "duration": 755,
    "start_time": "2023-08-19T17:35:12.275Z"
   },
   {
    "duration": 14,
    "start_time": "2023-08-19T17:35:13.031Z"
   },
   {
    "duration": 142,
    "start_time": "2023-08-19T17:35:13.047Z"
   },
   {
    "duration": 94,
    "start_time": "2023-08-19T17:35:13.190Z"
   },
   {
    "duration": 71,
    "start_time": "2023-08-19T17:35:13.287Z"
   },
   {
    "duration": 20,
    "start_time": "2023-08-19T17:35:13.360Z"
   },
   {
    "duration": 5,
    "start_time": "2023-08-19T17:35:13.383Z"
   },
   {
    "duration": 324,
    "start_time": "2023-08-19T17:35:13.390Z"
   },
   {
    "duration": 252,
    "start_time": "2023-08-19T17:35:13.717Z"
   },
   {
    "duration": 572,
    "start_time": "2023-08-19T17:35:13.971Z"
   },
   {
    "duration": 95,
    "start_time": "2023-08-19T17:35:14.545Z"
   },
   {
    "duration": 197,
    "start_time": "2023-08-19T17:35:14.642Z"
   },
   {
    "duration": 180,
    "start_time": "2023-08-19T17:35:14.841Z"
   },
   {
    "duration": 18,
    "start_time": "2023-08-19T17:35:15.023Z"
   },
   {
    "duration": 50,
    "start_time": "2023-08-19T17:35:15.043Z"
   },
   {
    "duration": 125,
    "start_time": "2023-08-19T17:35:17.370Z"
   },
   {
    "duration": 150,
    "start_time": "2023-08-19T17:35:22.003Z"
   },
   {
    "duration": 106,
    "start_time": "2023-08-19T17:35:23.123Z"
   },
   {
    "duration": 4,
    "start_time": "2023-08-19T17:35:26.499Z"
   },
   {
    "duration": 868,
    "start_time": "2023-08-19T17:35:26.506Z"
   },
   {
    "duration": 15,
    "start_time": "2023-08-19T17:35:27.376Z"
   },
   {
    "duration": 141,
    "start_time": "2023-08-19T17:35:27.393Z"
   },
   {
    "duration": 98,
    "start_time": "2023-08-19T17:35:27.536Z"
   },
   {
    "duration": 80,
    "start_time": "2023-08-19T17:35:27.636Z"
   },
   {
    "duration": 4,
    "start_time": "2023-08-19T17:35:27.718Z"
   },
   {
    "duration": 8,
    "start_time": "2023-08-19T17:35:27.724Z"
   },
   {
    "duration": 309,
    "start_time": "2023-08-19T17:35:27.733Z"
   },
   {
    "duration": 242,
    "start_time": "2023-08-19T17:35:28.045Z"
   },
   {
    "duration": 523,
    "start_time": "2023-08-19T17:35:28.289Z"
   },
   {
    "duration": 91,
    "start_time": "2023-08-19T17:35:28.813Z"
   },
   {
    "duration": 188,
    "start_time": "2023-08-19T17:35:28.906Z"
   },
   {
    "duration": 187,
    "start_time": "2023-08-19T17:35:29.096Z"
   },
   {
    "duration": 18,
    "start_time": "2023-08-19T17:35:29.285Z"
   },
   {
    "duration": 33,
    "start_time": "2023-08-19T17:35:29.305Z"
   },
   {
    "duration": 3,
    "start_time": "2023-08-19T17:35:29.340Z"
   },
   {
    "duration": 37,
    "start_time": "2023-08-19T17:35:29.345Z"
   },
   {
    "duration": 126,
    "start_time": "2023-08-19T17:35:29.384Z"
   },
   {
    "duration": 25,
    "start_time": "2023-08-19T17:35:49.554Z"
   },
   {
    "duration": 17,
    "start_time": "2023-08-19T17:36:01.507Z"
   },
   {
    "duration": 4,
    "start_time": "2023-08-19T17:36:17.137Z"
   },
   {
    "duration": 784,
    "start_time": "2023-08-19T17:36:17.143Z"
   },
   {
    "duration": 14,
    "start_time": "2023-08-19T17:36:17.929Z"
   },
   {
    "duration": 144,
    "start_time": "2023-08-19T17:36:17.944Z"
   },
   {
    "duration": 92,
    "start_time": "2023-08-19T17:36:18.090Z"
   },
   {
    "duration": 72,
    "start_time": "2023-08-19T17:36:18.184Z"
   },
   {
    "duration": 4,
    "start_time": "2023-08-19T17:36:18.259Z"
   },
   {
    "duration": 5,
    "start_time": "2023-08-19T17:36:18.282Z"
   },
   {
    "duration": 301,
    "start_time": "2023-08-19T17:36:18.288Z"
   },
   {
    "duration": 247,
    "start_time": "2023-08-19T17:36:18.591Z"
   },
   {
    "duration": 545,
    "start_time": "2023-08-19T17:36:18.839Z"
   },
   {
    "duration": 96,
    "start_time": "2023-08-19T17:36:19.386Z"
   },
   {
    "duration": 194,
    "start_time": "2023-08-19T17:36:19.485Z"
   },
   {
    "duration": 187,
    "start_time": "2023-08-19T17:36:19.681Z"
   },
   {
    "duration": 23,
    "start_time": "2023-08-19T17:36:19.870Z"
   },
   {
    "duration": 38,
    "start_time": "2023-08-19T17:36:26.771Z"
   },
   {
    "duration": 118,
    "start_time": "2023-08-19T17:36:36.178Z"
   },
   {
    "duration": 86,
    "start_time": "2023-08-19T17:36:38.690Z"
   },
   {
    "duration": 84,
    "start_time": "2023-08-19T17:36:41.706Z"
   },
   {
    "duration": 87,
    "start_time": "2023-08-19T17:36:45.180Z"
   },
   {
    "duration": 93,
    "start_time": "2023-08-19T17:36:48.881Z"
   },
   {
    "duration": 94,
    "start_time": "2023-08-19T17:36:51.516Z"
   },
   {
    "duration": 95,
    "start_time": "2023-08-19T17:36:55.186Z"
   },
   {
    "duration": 108,
    "start_time": "2023-08-19T17:36:57.284Z"
   },
   {
    "duration": 96,
    "start_time": "2023-08-19T17:36:59.458Z"
   },
   {
    "duration": 89,
    "start_time": "2023-08-19T17:37:03.850Z"
   },
   {
    "duration": 96,
    "start_time": "2023-08-19T17:37:16.226Z"
   },
   {
    "duration": 26,
    "start_time": "2023-08-19T17:37:27.098Z"
   },
   {
    "duration": 16,
    "start_time": "2023-08-19T17:37:29.018Z"
   },
   {
    "duration": 5,
    "start_time": "2023-08-19T17:37:40.763Z"
   },
   {
    "duration": 170,
    "start_time": "2023-08-19T17:38:22.802Z"
   },
   {
    "duration": 12,
    "start_time": "2023-08-19T17:42:26.426Z"
   },
   {
    "duration": 18,
    "start_time": "2023-08-19T17:42:49.274Z"
   },
   {
    "duration": 16,
    "start_time": "2023-08-19T17:42:52.193Z"
   },
   {
    "duration": 220,
    "start_time": "2023-08-19T17:43:03.113Z"
   },
   {
    "duration": 345,
    "start_time": "2023-08-19T17:43:11.930Z"
   },
   {
    "duration": 427,
    "start_time": "2023-08-19T17:43:29.416Z"
   },
   {
    "duration": 164,
    "start_time": "2023-08-19T17:43:43.906Z"
   },
   {
    "duration": 182,
    "start_time": "2023-08-19T17:43:47.993Z"
   },
   {
    "duration": 220,
    "start_time": "2023-08-19T17:44:10.290Z"
   },
   {
    "duration": 212,
    "start_time": "2023-08-19T17:45:47.738Z"
   },
   {
    "duration": 182,
    "start_time": "2023-08-19T17:46:17.761Z"
   },
   {
    "duration": 218,
    "start_time": "2023-08-19T17:46:20.023Z"
   },
   {
    "duration": 292,
    "start_time": "2023-08-19T17:46:25.825Z"
   },
   {
    "duration": 917,
    "start_time": "2023-08-19T17:46:38.041Z"
   },
   {
    "duration": 460,
    "start_time": "2023-08-19T17:46:47.754Z"
   },
   {
    "duration": 9,
    "start_time": "2023-08-19T17:47:07.923Z"
   },
   {
    "duration": 17,
    "start_time": "2023-08-19T17:47:13.681Z"
   },
   {
    "duration": 39,
    "start_time": "2023-08-19T17:47:17.162Z"
   },
   {
    "duration": 120,
    "start_time": "2023-08-19T17:48:02.665Z"
   },
   {
    "duration": 73,
    "start_time": "2023-08-19T17:48:08.784Z"
   },
   {
    "duration": 134,
    "start_time": "2023-08-19T17:48:12.361Z"
   },
   {
    "duration": 100,
    "start_time": "2023-08-19T17:48:15.832Z"
   },
   {
    "duration": 106,
    "start_time": "2023-08-19T17:48:17.940Z"
   },
   {
    "duration": 90,
    "start_time": "2023-08-19T17:48:21.321Z"
   },
   {
    "duration": 131,
    "start_time": "2023-08-19T17:48:24.370Z"
   },
   {
    "duration": 118,
    "start_time": "2023-08-19T17:48:40.809Z"
   },
   {
    "duration": 87,
    "start_time": "2023-08-19T17:48:44.033Z"
   },
   {
    "duration": 91,
    "start_time": "2023-08-19T17:48:55.728Z"
   },
   {
    "duration": 98,
    "start_time": "2023-08-19T17:48:59.217Z"
   },
   {
    "duration": 100,
    "start_time": "2023-08-19T17:49:01.769Z"
   },
   {
    "duration": 90,
    "start_time": "2023-08-19T17:49:04.296Z"
   },
   {
    "duration": 133,
    "start_time": "2023-08-19T17:49:08.080Z"
   },
   {
    "duration": 87,
    "start_time": "2023-08-19T17:49:11.484Z"
   },
   {
    "duration": 87,
    "start_time": "2023-08-19T17:49:29.848Z"
   },
   {
    "duration": 94,
    "start_time": "2023-08-19T17:49:35.504Z"
   },
   {
    "duration": 82,
    "start_time": "2023-08-19T17:49:38.808Z"
   },
   {
    "duration": 81,
    "start_time": "2023-08-19T17:49:41.672Z"
   },
   {
    "duration": 83,
    "start_time": "2023-08-19T17:49:44.296Z"
   },
   {
    "duration": 82,
    "start_time": "2023-08-19T17:49:46.664Z"
   },
   {
    "duration": 91,
    "start_time": "2023-08-19T17:49:48.512Z"
   },
   {
    "duration": 95,
    "start_time": "2023-08-19T17:49:53.152Z"
   },
   {
    "duration": 17,
    "start_time": "2023-08-19T17:50:35.511Z"
   },
   {
    "duration": 198,
    "start_time": "2023-08-19T17:50:36.259Z"
   },
   {
    "duration": 114,
    "start_time": "2023-08-19T17:53:47.944Z"
   },
   {
    "duration": 104,
    "start_time": "2023-08-19T17:53:50.663Z"
   },
   {
    "duration": 88,
    "start_time": "2023-08-19T17:53:55.855Z"
   },
   {
    "duration": 103,
    "start_time": "2023-08-19T17:53:58.480Z"
   },
   {
    "duration": 86,
    "start_time": "2023-08-19T17:54:02.487Z"
   },
   {
    "duration": 90,
    "start_time": "2023-08-19T17:54:08.854Z"
   },
   {
    "duration": 176,
    "start_time": "2023-08-19T17:54:22.959Z"
   },
   {
    "duration": 556,
    "start_time": "2023-08-19T17:54:23.631Z"
   },
   {
    "duration": 187,
    "start_time": "2023-08-19T17:54:29.864Z"
   },
   {
    "duration": 196,
    "start_time": "2023-08-19T17:54:43.111Z"
   },
   {
    "duration": 190,
    "start_time": "2023-08-19T17:54:49.903Z"
   },
   {
    "duration": 22,
    "start_time": "2023-08-19T17:55:16.041Z"
   },
   {
    "duration": 1294,
    "start_time": "2023-08-19T17:55:33.729Z"
   },
   {
    "duration": 174,
    "start_time": "2023-08-19T17:55:39.471Z"
   },
   {
    "duration": 12,
    "start_time": "2023-08-19T17:56:05.935Z"
   },
   {
    "duration": 8,
    "start_time": "2023-08-19T17:56:08.614Z"
   },
   {
    "duration": 10,
    "start_time": "2023-08-19T17:56:16.825Z"
   },
   {
    "duration": 5,
    "start_time": "2023-08-19T17:56:22.647Z"
   },
   {
    "duration": 251,
    "start_time": "2023-08-19T17:56:28.911Z"
   },
   {
    "duration": 87,
    "start_time": "2023-08-19T17:56:36.624Z"
   },
   {
    "duration": 10,
    "start_time": "2023-08-19T17:56:39.431Z"
   },
   {
    "duration": 10,
    "start_time": "2023-08-19T17:56:43.472Z"
   },
   {
    "duration": 151,
    "start_time": "2023-08-19T17:56:46.102Z"
   },
   {
    "duration": 176,
    "start_time": "2023-08-19T17:56:48.374Z"
   },
   {
    "duration": 6,
    "start_time": "2023-08-19T17:56:58.023Z"
   },
   {
    "duration": 30,
    "start_time": "2023-08-19T17:57:07.688Z"
   },
   {
    "duration": 20,
    "start_time": "2023-08-19T17:57:32.206Z"
   },
   {
    "duration": 23,
    "start_time": "2023-08-19T17:58:19.672Z"
   },
   {
    "duration": 22,
    "start_time": "2023-08-19T17:58:38.959Z"
   },
   {
    "duration": 14,
    "start_time": "2023-08-19T17:59:41.592Z"
   },
   {
    "duration": 123,
    "start_time": "2023-08-19T18:00:29.526Z"
   },
   {
    "duration": 20,
    "start_time": "2023-08-19T18:00:42.741Z"
   },
   {
    "duration": 24,
    "start_time": "2023-08-19T18:00:59.725Z"
   },
   {
    "duration": 43,
    "start_time": "2023-08-19T18:01:16.887Z"
   },
   {
    "duration": 29,
    "start_time": "2023-08-19T18:02:03.208Z"
   },
   {
    "duration": 14,
    "start_time": "2023-08-19T18:02:04.440Z"
   },
   {
    "duration": 5,
    "start_time": "2023-08-19T18:02:09.605Z"
   },
   {
    "duration": 204,
    "start_time": "2023-08-19T18:02:24.805Z"
   },
   {
    "duration": 1731,
    "start_time": "2023-08-19T18:02:29.774Z"
   },
   {
    "duration": 264,
    "start_time": "2023-08-19T18:02:32.206Z"
   },
   {
    "duration": 32,
    "start_time": "2023-08-19T18:02:36.509Z"
   },
   {
    "duration": 23,
    "start_time": "2023-08-19T18:02:44.269Z"
   },
   {
    "duration": 19,
    "start_time": "2023-08-19T18:02:57.927Z"
   },
   {
    "duration": 41,
    "start_time": "2023-08-19T18:03:02.413Z"
   },
   {
    "duration": 18,
    "start_time": "2023-08-19T18:03:07.831Z"
   },
   {
    "duration": 21,
    "start_time": "2023-08-19T18:03:38.071Z"
   },
   {
    "duration": 120,
    "start_time": "2023-08-19T18:05:01.182Z"
   },
   {
    "duration": 4,
    "start_time": "2023-08-19T18:05:11.374Z"
   },
   {
    "duration": 25,
    "start_time": "2023-08-19T18:05:17.582Z"
   },
   {
    "duration": 2,
    "start_time": "2023-08-19T18:05:55.309Z"
   },
   {
    "duration": 532,
    "start_time": "2023-08-19T18:05:55.949Z"
   },
   {
    "duration": 16,
    "start_time": "2023-08-19T18:06:59.517Z"
   },
   {
    "duration": 11,
    "start_time": "2023-08-19T18:07:04.837Z"
   },
   {
    "duration": 4,
    "start_time": "2023-08-19T18:07:38.701Z"
   },
   {
    "duration": 20,
    "start_time": "2023-08-19T18:07:40.004Z"
   },
   {
    "duration": 3,
    "start_time": "2023-08-19T18:07:43.877Z"
   },
   {
    "duration": 63,
    "start_time": "2023-08-19T18:07:45.116Z"
   },
   {
    "duration": 3,
    "start_time": "2023-08-19T18:07:58.133Z"
   },
   {
    "duration": 796,
    "start_time": "2023-08-19T18:07:58.805Z"
   },
   {
    "duration": 4,
    "start_time": "2023-08-19T18:08:20.357Z"
   },
   {
    "duration": 822,
    "start_time": "2023-08-19T18:08:20.364Z"
   },
   {
    "duration": 22,
    "start_time": "2023-08-19T18:08:21.190Z"
   },
   {
    "duration": 181,
    "start_time": "2023-08-19T18:08:21.215Z"
   },
   {
    "duration": 114,
    "start_time": "2023-08-19T18:08:21.398Z"
   },
   {
    "duration": 79,
    "start_time": "2023-08-19T18:08:21.514Z"
   },
   {
    "duration": 4,
    "start_time": "2023-08-19T18:08:21.595Z"
   },
   {
    "duration": 20,
    "start_time": "2023-08-19T18:08:21.601Z"
   },
   {
    "duration": 327,
    "start_time": "2023-08-19T18:08:21.623Z"
   },
   {
    "duration": 303,
    "start_time": "2023-08-19T18:08:21.955Z"
   },
   {
    "duration": 574,
    "start_time": "2023-08-19T18:08:22.260Z"
   },
   {
    "duration": 114,
    "start_time": "2023-08-19T18:08:22.836Z"
   },
   {
    "duration": 197,
    "start_time": "2023-08-19T18:08:22.955Z"
   },
   {
    "duration": 200,
    "start_time": "2023-08-19T18:08:23.155Z"
   },
   {
    "duration": 32,
    "start_time": "2023-08-19T18:08:23.356Z"
   },
   {
    "duration": 34,
    "start_time": "2023-08-19T18:08:23.390Z"
   },
   {
    "duration": 71,
    "start_time": "2023-08-19T18:08:23.426Z"
   },
   {
    "duration": 306,
    "start_time": "2023-08-19T18:08:23.499Z"
   },
   {
    "duration": 25,
    "start_time": "2023-08-19T18:08:23.807Z"
   },
   {
    "duration": 16,
    "start_time": "2023-08-19T18:08:23.834Z"
   },
   {
    "duration": 223,
    "start_time": "2023-08-19T18:08:23.851Z"
   },
   {
    "duration": 452,
    "start_time": "2023-08-19T18:08:24.080Z"
   },
   {
    "duration": 216,
    "start_time": "2023-08-19T18:08:24.534Z"
   },
   {
    "duration": 64,
    "start_time": "2023-08-19T18:08:24.753Z"
   },
   {
    "duration": 30,
    "start_time": "2023-08-19T18:08:24.820Z"
   },
   {
    "duration": 30,
    "start_time": "2023-08-19T18:08:24.853Z"
   },
   {
    "duration": 16,
    "start_time": "2023-08-19T18:08:24.885Z"
   },
   {
    "duration": 130,
    "start_time": "2023-08-19T18:08:24.904Z"
   },
   {
    "duration": 3,
    "start_time": "2023-08-19T18:08:25.036Z"
   },
   {
    "duration": 1400,
    "start_time": "2023-08-19T18:08:43.828Z"
   },
   {
    "duration": 22,
    "start_time": "2023-08-19T18:08:46.687Z"
   },
   {
    "duration": 9,
    "start_time": "2023-08-19T18:08:54.077Z"
   },
   {
    "duration": 11,
    "start_time": "2023-08-19T18:09:13.316Z"
   },
   {
    "duration": 50,
    "start_time": "2023-08-19T18:09:15.333Z"
   },
   {
    "duration": 4,
    "start_time": "2023-08-19T18:09:56.540Z"
   },
   {
    "duration": 954,
    "start_time": "2023-08-19T18:09:58.245Z"
   },
   {
    "duration": 1605,
    "start_time": "2023-08-19T18:10:17.176Z"
   },
   {
    "duration": 33,
    "start_time": "2023-08-19T18:10:23.622Z"
   },
   {
    "duration": 34,
    "start_time": "2023-08-19T18:10:27.252Z"
   },
   {
    "duration": 33,
    "start_time": "2023-08-19T18:10:32.025Z"
   },
   {
    "duration": 35,
    "start_time": "2023-08-19T18:10:35.509Z"
   },
   {
    "duration": 23,
    "start_time": "2023-08-19T18:10:38.621Z"
   },
   {
    "duration": 27,
    "start_time": "2023-08-19T18:10:41.613Z"
   },
   {
    "duration": 11,
    "start_time": "2023-08-19T18:10:48.260Z"
   },
   {
    "duration": 11,
    "start_time": "2023-08-19T18:10:51.169Z"
   },
   {
    "duration": 9,
    "start_time": "2023-08-19T18:10:54.628Z"
   },
   {
    "duration": 10,
    "start_time": "2023-08-19T18:10:57.679Z"
   },
   {
    "duration": 13,
    "start_time": "2023-08-19T18:11:00.005Z"
   },
   {
    "duration": 4,
    "start_time": "2023-08-19T18:11:17.452Z"
   },
   {
    "duration": 510,
    "start_time": "2023-08-19T18:11:18.660Z"
   },
   {
    "duration": 13,
    "start_time": "2023-08-19T18:11:22.023Z"
   },
   {
    "duration": 3,
    "start_time": "2023-08-19T18:11:24.454Z"
   },
   {
    "duration": 523,
    "start_time": "2023-08-19T18:11:25.053Z"
   },
   {
    "duration": 10,
    "start_time": "2023-08-19T18:11:26.153Z"
   },
   {
    "duration": 13,
    "start_time": "2023-08-19T18:11:28.542Z"
   },
   {
    "duration": 4,
    "start_time": "2023-08-19T18:12:49.477Z"
   },
   {
    "duration": 102,
    "start_time": "2023-08-19T18:12:57.444Z"
   },
   {
    "duration": 4,
    "start_time": "2023-08-19T18:13:00.349Z"
   },
   {
    "duration": 6,
    "start_time": "2023-08-19T18:13:17.023Z"
   },
   {
    "duration": 11,
    "start_time": "2023-08-19T18:14:37.012Z"
   },
   {
    "duration": 71,
    "start_time": "2023-08-19T18:15:13.804Z"
   },
   {
    "duration": 85,
    "start_time": "2023-08-19T18:15:35.348Z"
   },
   {
    "duration": 74,
    "start_time": "2023-08-19T18:15:36.774Z"
   },
   {
    "duration": 70,
    "start_time": "2023-08-19T18:15:37.884Z"
   },
   {
    "duration": 70,
    "start_time": "2023-08-19T18:15:39.003Z"
   },
   {
    "duration": 68,
    "start_time": "2023-08-19T18:15:40.068Z"
   },
   {
    "duration": 4,
    "start_time": "2023-08-19T18:15:42.418Z"
   },
   {
    "duration": 762,
    "start_time": "2023-08-19T18:15:42.423Z"
   },
   {
    "duration": 15,
    "start_time": "2023-08-19T18:15:43.187Z"
   },
   {
    "duration": 146,
    "start_time": "2023-08-19T18:15:43.204Z"
   },
   {
    "duration": 93,
    "start_time": "2023-08-19T18:15:43.353Z"
   },
   {
    "duration": 79,
    "start_time": "2023-08-19T18:15:43.448Z"
   },
   {
    "duration": 3,
    "start_time": "2023-08-19T18:15:43.529Z"
   },
   {
    "duration": 9,
    "start_time": "2023-08-19T18:15:43.534Z"
   },
   {
    "duration": 307,
    "start_time": "2023-08-19T18:15:43.545Z"
   },
   {
    "duration": 280,
    "start_time": "2023-08-19T18:15:43.853Z"
   },
   {
    "duration": 593,
    "start_time": "2023-08-19T18:15:44.135Z"
   },
   {
    "duration": 95,
    "start_time": "2023-08-19T18:15:44.730Z"
   },
   {
    "duration": 187,
    "start_time": "2023-08-19T18:15:44.827Z"
   },
   {
    "duration": 182,
    "start_time": "2023-08-19T18:15:45.017Z"
   },
   {
    "duration": 17,
    "start_time": "2023-08-19T18:15:45.200Z"
   },
   {
    "duration": 31,
    "start_time": "2023-08-19T18:15:45.219Z"
   },
   {
    "duration": 68,
    "start_time": "2023-08-19T18:15:45.252Z"
   },
   {
    "duration": 172,
    "start_time": "2023-08-19T18:15:45.322Z"
   },
   {
    "duration": 23,
    "start_time": "2023-08-19T18:15:45.496Z"
   },
   {
    "duration": 16,
    "start_time": "2023-08-19T18:15:45.521Z"
   },
   {
    "duration": 191,
    "start_time": "2023-08-19T18:15:45.538Z"
   },
   {
    "duration": 519,
    "start_time": "2023-08-19T18:15:45.731Z"
   },
   {
    "duration": 207,
    "start_time": "2023-08-19T18:15:46.251Z"
   },
   {
    "duration": 47,
    "start_time": "2023-08-19T18:15:46.460Z"
   },
   {
    "duration": 26,
    "start_time": "2023-08-19T18:15:46.508Z"
   },
   {
    "duration": 12,
    "start_time": "2023-08-19T18:15:46.535Z"
   },
   {
    "duration": 13,
    "start_time": "2023-08-19T18:15:46.549Z"
   },
   {
    "duration": 129,
    "start_time": "2023-08-19T18:15:46.583Z"
   },
   {
    "duration": 4,
    "start_time": "2023-08-19T18:15:46.715Z"
   },
   {
    "duration": 775,
    "start_time": "2023-08-19T18:15:46.721Z"
   },
   {
    "duration": 75,
    "start_time": "2023-08-19T18:15:50.795Z"
   },
   {
    "duration": 4,
    "start_time": "2023-08-19T18:16:29.331Z"
   },
   {
    "duration": 752,
    "start_time": "2023-08-19T18:16:29.337Z"
   },
   {
    "duration": 14,
    "start_time": "2023-08-19T18:16:30.090Z"
   },
   {
    "duration": 143,
    "start_time": "2023-08-19T18:16:30.106Z"
   },
   {
    "duration": 112,
    "start_time": "2023-08-19T18:16:30.251Z"
   },
   {
    "duration": 77,
    "start_time": "2023-08-19T18:16:30.365Z"
   },
   {
    "duration": 4,
    "start_time": "2023-08-19T18:16:30.443Z"
   },
   {
    "duration": 23,
    "start_time": "2023-08-19T18:16:30.448Z"
   },
   {
    "duration": 327,
    "start_time": "2023-08-19T18:16:30.473Z"
   },
   {
    "duration": 253,
    "start_time": "2023-08-19T18:16:30.801Z"
   },
   {
    "duration": 536,
    "start_time": "2023-08-19T18:16:31.055Z"
   },
   {
    "duration": 89,
    "start_time": "2023-08-19T18:16:31.593Z"
   },
   {
    "duration": 202,
    "start_time": "2023-08-19T18:16:31.684Z"
   },
   {
    "duration": 193,
    "start_time": "2023-08-19T18:16:31.890Z"
   },
   {
    "duration": 19,
    "start_time": "2023-08-19T18:16:32.085Z"
   },
   {
    "duration": 50,
    "start_time": "2023-08-19T18:16:32.106Z"
   },
   {
    "duration": 53,
    "start_time": "2023-08-19T18:16:32.157Z"
   },
   {
    "duration": 175,
    "start_time": "2023-08-19T18:16:32.212Z"
   },
   {
    "duration": 24,
    "start_time": "2023-08-19T18:16:32.389Z"
   },
   {
    "duration": 15,
    "start_time": "2023-08-19T18:16:32.416Z"
   },
   {
    "duration": 193,
    "start_time": "2023-08-19T18:16:32.432Z"
   },
   {
    "duration": 416,
    "start_time": "2023-08-19T18:16:32.627Z"
   },
   {
    "duration": 204,
    "start_time": "2023-08-19T18:16:33.045Z"
   },
   {
    "duration": 39,
    "start_time": "2023-08-19T18:16:33.250Z"
   },
   {
    "duration": 28,
    "start_time": "2023-08-19T18:16:33.291Z"
   },
   {
    "duration": 12,
    "start_time": "2023-08-19T18:16:33.321Z"
   },
   {
    "duration": 14,
    "start_time": "2023-08-19T18:16:33.335Z"
   },
   {
    "duration": 116,
    "start_time": "2023-08-19T18:16:33.351Z"
   },
   {
    "duration": 12,
    "start_time": "2023-08-19T18:16:33.469Z"
   },
   {
    "duration": 721,
    "start_time": "2023-08-19T18:16:33.482Z"
   },
   {
    "duration": 468,
    "start_time": "2023-08-19T18:16:37.300Z"
   },
   {
    "duration": 464,
    "start_time": "2023-08-19T18:16:44.035Z"
   },
   {
    "duration": 114,
    "start_time": "2023-08-19T18:16:46.785Z"
   },
   {
    "duration": 123,
    "start_time": "2023-08-19T18:17:03.700Z"
   },
   {
    "duration": 13,
    "start_time": "2023-08-19T18:17:32.675Z"
   },
   {
    "duration": 4,
    "start_time": "2023-08-19T18:18:10.027Z"
   },
   {
    "duration": 772,
    "start_time": "2023-08-19T18:18:10.033Z"
   },
   {
    "duration": 14,
    "start_time": "2023-08-19T18:18:10.807Z"
   },
   {
    "duration": 138,
    "start_time": "2023-08-19T18:18:10.823Z"
   },
   {
    "duration": 102,
    "start_time": "2023-08-19T18:18:10.963Z"
   },
   {
    "duration": 85,
    "start_time": "2023-08-19T18:18:11.067Z"
   },
   {
    "duration": 3,
    "start_time": "2023-08-19T18:18:11.154Z"
   },
   {
    "duration": 8,
    "start_time": "2023-08-19T18:18:11.158Z"
   },
   {
    "duration": 300,
    "start_time": "2023-08-19T18:18:11.181Z"
   },
   {
    "duration": 271,
    "start_time": "2023-08-19T18:18:11.483Z"
   },
   {
    "duration": 583,
    "start_time": "2023-08-19T18:18:11.756Z"
   },
   {
    "duration": 89,
    "start_time": "2023-08-19T18:18:12.341Z"
   },
   {
    "duration": 186,
    "start_time": "2023-08-19T18:18:12.432Z"
   },
   {
    "duration": 183,
    "start_time": "2023-08-19T18:18:12.621Z"
   },
   {
    "duration": 18,
    "start_time": "2023-08-19T18:18:12.806Z"
   },
   {
    "duration": 33,
    "start_time": "2023-08-19T18:18:12.826Z"
   },
   {
    "duration": 62,
    "start_time": "2023-08-19T18:18:12.861Z"
   },
   {
    "duration": 169,
    "start_time": "2023-08-19T18:18:12.925Z"
   },
   {
    "duration": 32,
    "start_time": "2023-08-19T18:18:13.096Z"
   },
   {
    "duration": 15,
    "start_time": "2023-08-19T18:18:13.129Z"
   },
   {
    "duration": 302,
    "start_time": "2023-08-19T18:18:13.146Z"
   },
   {
    "duration": 409,
    "start_time": "2023-08-19T18:18:13.450Z"
   },
   {
    "duration": 196,
    "start_time": "2023-08-19T18:18:13.861Z"
   },
   {
    "duration": 41,
    "start_time": "2023-08-19T18:18:14.059Z"
   },
   {
    "duration": 23,
    "start_time": "2023-08-19T18:18:14.101Z"
   },
   {
    "duration": 12,
    "start_time": "2023-08-19T18:18:14.125Z"
   },
   {
    "duration": 14,
    "start_time": "2023-08-19T18:18:14.138Z"
   },
   {
    "duration": 118,
    "start_time": "2023-08-19T18:18:14.153Z"
   },
   {
    "duration": 3,
    "start_time": "2023-08-19T18:18:14.281Z"
   },
   {
    "duration": 718,
    "start_time": "2023-08-19T18:18:14.285Z"
   },
   {
    "duration": 42,
    "start_time": "2023-08-19T18:18:16.588Z"
   },
   {
    "duration": 5,
    "start_time": "2023-08-19T18:19:26.281Z"
   },
   {
    "duration": 869,
    "start_time": "2023-08-19T18:19:26.289Z"
   },
   {
    "duration": 21,
    "start_time": "2023-08-19T18:19:27.160Z"
   },
   {
    "duration": 149,
    "start_time": "2023-08-19T18:19:27.183Z"
   },
   {
    "duration": 89,
    "start_time": "2023-08-19T18:19:27.334Z"
   },
   {
    "duration": 84,
    "start_time": "2023-08-19T18:19:27.425Z"
   },
   {
    "duration": 3,
    "start_time": "2023-08-19T18:19:27.511Z"
   },
   {
    "duration": 13,
    "start_time": "2023-08-19T18:19:27.516Z"
   },
   {
    "duration": 308,
    "start_time": "2023-08-19T18:19:27.531Z"
   },
   {
    "duration": 251,
    "start_time": "2023-08-19T18:19:27.842Z"
   },
   {
    "duration": 530,
    "start_time": "2023-08-19T18:19:28.095Z"
   },
   {
    "duration": 92,
    "start_time": "2023-08-19T18:19:28.627Z"
   },
   {
    "duration": 206,
    "start_time": "2023-08-19T18:19:28.721Z"
   },
   {
    "duration": 184,
    "start_time": "2023-08-19T18:19:28.929Z"
   },
   {
    "duration": 18,
    "start_time": "2023-08-19T18:19:29.114Z"
   },
   {
    "duration": 51,
    "start_time": "2023-08-19T18:19:29.133Z"
   },
   {
    "duration": 44,
    "start_time": "2023-08-19T18:19:29.186Z"
   },
   {
    "duration": 175,
    "start_time": "2023-08-19T18:19:29.232Z"
   },
   {
    "duration": 24,
    "start_time": "2023-08-19T18:19:29.409Z"
   },
   {
    "duration": 16,
    "start_time": "2023-08-19T18:19:29.435Z"
   },
   {
    "duration": 192,
    "start_time": "2023-08-19T18:19:29.452Z"
   },
   {
    "duration": 424,
    "start_time": "2023-08-19T18:19:29.646Z"
   },
   {
    "duration": 328,
    "start_time": "2023-08-19T18:19:30.072Z"
   },
   {
    "duration": 38,
    "start_time": "2023-08-19T18:19:30.401Z"
   },
   {
    "duration": 50,
    "start_time": "2023-08-19T18:19:30.441Z"
   },
   {
    "duration": 13,
    "start_time": "2023-08-19T18:19:30.493Z"
   },
   {
    "duration": 35,
    "start_time": "2023-08-19T18:19:30.508Z"
   },
   {
    "duration": 113,
    "start_time": "2023-08-19T18:19:30.546Z"
   },
   {
    "duration": 3,
    "start_time": "2023-08-19T18:19:30.661Z"
   },
   {
    "duration": 730,
    "start_time": "2023-08-19T18:19:30.665Z"
   },
   {
    "duration": 45,
    "start_time": "2023-08-19T18:19:33.107Z"
   },
   {
    "duration": 46,
    "start_time": "2023-08-19T18:19:54.627Z"
   },
   {
    "duration": 14,
    "start_time": "2023-08-19T18:20:06.147Z"
   },
   {
    "duration": 12,
    "start_time": "2023-08-19T18:20:10.555Z"
   },
   {
    "duration": 11,
    "start_time": "2023-08-19T18:20:15.115Z"
   },
   {
    "duration": 11,
    "start_time": "2023-08-19T18:20:18.427Z"
   },
   {
    "duration": 12,
    "start_time": "2023-08-19T18:20:20.898Z"
   },
   {
    "duration": 22,
    "start_time": "2023-08-19T18:20:24.011Z"
   },
   {
    "duration": 13,
    "start_time": "2023-08-19T18:20:35.555Z"
   },
   {
    "duration": 12,
    "start_time": "2023-08-19T18:20:39.218Z"
   },
   {
    "duration": 4,
    "start_time": "2023-08-19T18:20:47.123Z"
   },
   {
    "duration": 33,
    "start_time": "2023-08-19T18:20:49.596Z"
   },
   {
    "duration": 19,
    "start_time": "2023-08-19T18:21:02.275Z"
   },
   {
    "duration": 10,
    "start_time": "2023-08-19T18:21:19.419Z"
   },
   {
    "duration": 7,
    "start_time": "2023-08-19T18:21:56.139Z"
   },
   {
    "duration": 4,
    "start_time": "2023-08-19T18:22:15.552Z"
   },
   {
    "duration": 795,
    "start_time": "2023-08-19T18:22:15.558Z"
   },
   {
    "duration": 13,
    "start_time": "2023-08-19T18:22:16.355Z"
   },
   {
    "duration": 135,
    "start_time": "2023-08-19T18:22:16.370Z"
   },
   {
    "duration": 93,
    "start_time": "2023-08-19T18:22:16.507Z"
   },
   {
    "duration": 80,
    "start_time": "2023-08-19T18:22:16.602Z"
   },
   {
    "duration": 3,
    "start_time": "2023-08-19T18:22:16.684Z"
   },
   {
    "duration": 10,
    "start_time": "2023-08-19T18:22:16.688Z"
   },
   {
    "duration": 307,
    "start_time": "2023-08-19T18:22:16.699Z"
   },
   {
    "duration": 261,
    "start_time": "2023-08-19T18:22:17.008Z"
   },
   {
    "duration": 573,
    "start_time": "2023-08-19T18:22:17.271Z"
   },
   {
    "duration": 98,
    "start_time": "2023-08-19T18:22:17.846Z"
   },
   {
    "duration": 187,
    "start_time": "2023-08-19T18:22:17.945Z"
   },
   {
    "duration": 182,
    "start_time": "2023-08-19T18:22:18.134Z"
   },
   {
    "duration": 19,
    "start_time": "2023-08-19T18:22:18.318Z"
   },
   {
    "duration": 49,
    "start_time": "2023-08-19T18:22:18.339Z"
   },
   {
    "duration": 44,
    "start_time": "2023-08-19T18:22:18.390Z"
   },
   {
    "duration": 199,
    "start_time": "2023-08-19T18:22:18.436Z"
   },
   {
    "duration": 24,
    "start_time": "2023-08-19T18:22:18.637Z"
   },
   {
    "duration": 29,
    "start_time": "2023-08-19T18:22:18.663Z"
   },
   {
    "duration": 187,
    "start_time": "2023-08-19T18:22:18.694Z"
   },
   {
    "duration": 443,
    "start_time": "2023-08-19T18:22:18.882Z"
   },
   {
    "duration": 204,
    "start_time": "2023-08-19T18:22:19.327Z"
   },
   {
    "duration": 36,
    "start_time": "2023-08-19T18:22:19.533Z"
   },
   {
    "duration": 21,
    "start_time": "2023-08-19T18:22:19.581Z"
   },
   {
    "duration": 61,
    "start_time": "2023-08-19T18:22:19.604Z"
   },
   {
    "duration": 80,
    "start_time": "2023-08-19T18:22:19.667Z"
   },
   {
    "duration": 210,
    "start_time": "2023-08-19T18:22:19.752Z"
   },
   {
    "duration": 3,
    "start_time": "2023-08-19T18:22:19.963Z"
   },
   {
    "duration": 723,
    "start_time": "2023-08-19T18:22:19.968Z"
   },
   {
    "duration": 55,
    "start_time": "2023-08-19T18:22:23.926Z"
   },
   {
    "duration": 23,
    "start_time": "2023-08-19T18:22:25.922Z"
   },
   {
    "duration": 10,
    "start_time": "2023-08-19T18:22:33.507Z"
   },
   {
    "duration": 18,
    "start_time": "2023-08-19T18:22:46.295Z"
   },
   {
    "duration": 20,
    "start_time": "2023-08-19T18:23:26.540Z"
   },
   {
    "duration": 22,
    "start_time": "2023-08-19T18:23:30.115Z"
   },
   {
    "duration": 18,
    "start_time": "2023-08-19T18:24:06.579Z"
   },
   {
    "duration": 23,
    "start_time": "2023-08-19T18:24:14.682Z"
   },
   {
    "duration": 19,
    "start_time": "2023-08-19T18:24:19.658Z"
   },
   {
    "duration": 18,
    "start_time": "2023-08-19T18:24:24.194Z"
   },
   {
    "duration": 17,
    "start_time": "2023-08-19T18:24:50.458Z"
   },
   {
    "duration": 15,
    "start_time": "2023-08-19T18:25:02.675Z"
   },
   {
    "duration": 16,
    "start_time": "2023-08-19T18:25:06.249Z"
   },
   {
    "duration": 25,
    "start_time": "2023-08-19T18:25:28.746Z"
   },
   {
    "duration": 4,
    "start_time": "2023-08-19T18:26:48.273Z"
   },
   {
    "duration": 753,
    "start_time": "2023-08-19T18:26:48.279Z"
   },
   {
    "duration": 13,
    "start_time": "2023-08-19T18:26:49.034Z"
   },
   {
    "duration": 187,
    "start_time": "2023-08-19T18:26:49.050Z"
   },
   {
    "duration": 93,
    "start_time": "2023-08-19T18:26:49.238Z"
   },
   {
    "duration": 85,
    "start_time": "2023-08-19T18:26:49.333Z"
   },
   {
    "duration": 4,
    "start_time": "2023-08-19T18:26:49.420Z"
   },
   {
    "duration": 7,
    "start_time": "2023-08-19T18:26:49.426Z"
   },
   {
    "duration": 335,
    "start_time": "2023-08-19T18:26:49.434Z"
   },
   {
    "duration": 275,
    "start_time": "2023-08-19T18:26:49.772Z"
   },
   {
    "duration": 582,
    "start_time": "2023-08-19T18:26:50.048Z"
   },
   {
    "duration": 88,
    "start_time": "2023-08-19T18:26:50.632Z"
   },
   {
    "duration": 191,
    "start_time": "2023-08-19T18:26:50.722Z"
   },
   {
    "duration": 184,
    "start_time": "2023-08-19T18:26:50.915Z"
   },
   {
    "duration": 18,
    "start_time": "2023-08-19T18:26:51.101Z"
   },
   {
    "duration": 32,
    "start_time": "2023-08-19T18:26:51.121Z"
   },
   {
    "duration": 69,
    "start_time": "2023-08-19T18:26:51.156Z"
   },
   {
    "duration": 183,
    "start_time": "2023-08-19T18:26:51.228Z"
   },
   {
    "duration": 24,
    "start_time": "2023-08-19T18:26:51.413Z"
   },
   {
    "duration": 17,
    "start_time": "2023-08-19T18:26:51.439Z"
   },
   {
    "duration": 207,
    "start_time": "2023-08-19T18:26:51.457Z"
   },
   {
    "duration": 558,
    "start_time": "2023-08-19T18:26:51.666Z"
   },
   {
    "duration": 203,
    "start_time": "2023-08-19T18:26:52.225Z"
   },
   {
    "duration": 36,
    "start_time": "2023-08-19T18:26:52.430Z"
   },
   {
    "duration": 25,
    "start_time": "2023-08-19T18:26:52.480Z"
   },
   {
    "duration": 12,
    "start_time": "2023-08-19T18:26:52.506Z"
   },
   {
    "duration": 13,
    "start_time": "2023-08-19T18:26:52.520Z"
   },
   {
    "duration": 122,
    "start_time": "2023-08-19T18:26:52.536Z"
   },
   {
    "duration": 4,
    "start_time": "2023-08-19T18:26:52.660Z"
   },
   {
    "duration": 730,
    "start_time": "2023-08-19T18:26:52.666Z"
   },
   {
    "duration": 69,
    "start_time": "2023-08-19T18:26:54.843Z"
   },
   {
    "duration": 4,
    "start_time": "2023-08-19T19:03:00.126Z"
   },
   {
    "duration": 758,
    "start_time": "2023-08-19T19:03:00.132Z"
   },
   {
    "duration": 13,
    "start_time": "2023-08-19T19:03:00.892Z"
   },
   {
    "duration": 149,
    "start_time": "2023-08-19T19:03:00.907Z"
   },
   {
    "duration": 95,
    "start_time": "2023-08-19T19:03:01.058Z"
   },
   {
    "duration": 82,
    "start_time": "2023-08-19T19:03:01.154Z"
   },
   {
    "duration": 3,
    "start_time": "2023-08-19T19:03:01.238Z"
   },
   {
    "duration": 19,
    "start_time": "2023-08-19T19:03:01.243Z"
   },
   {
    "duration": 342,
    "start_time": "2023-08-19T19:03:01.263Z"
   },
   {
    "duration": 250,
    "start_time": "2023-08-19T19:03:01.608Z"
   },
   {
    "duration": 578,
    "start_time": "2023-08-19T19:03:01.860Z"
   },
   {
    "duration": 109,
    "start_time": "2023-08-19T19:03:02.440Z"
   },
   {
    "duration": 202,
    "start_time": "2023-08-19T19:03:02.551Z"
   },
   {
    "duration": 181,
    "start_time": "2023-08-19T19:03:02.755Z"
   },
   {
    "duration": 17,
    "start_time": "2023-08-19T19:03:02.938Z"
   },
   {
    "duration": 50,
    "start_time": "2023-08-19T19:03:02.958Z"
   },
   {
    "duration": 45,
    "start_time": "2023-08-19T19:03:03.009Z"
   },
   {
    "duration": 219,
    "start_time": "2023-08-19T19:03:03.056Z"
   },
   {
    "duration": 27,
    "start_time": "2023-08-19T19:03:03.280Z"
   },
   {
    "duration": 17,
    "start_time": "2023-08-19T19:03:03.309Z"
   },
   {
    "duration": 195,
    "start_time": "2023-08-19T19:03:03.327Z"
   },
   {
    "duration": 419,
    "start_time": "2023-08-19T19:03:03.524Z"
   },
   {
    "duration": 205,
    "start_time": "2023-08-19T19:03:03.945Z"
   },
   {
    "duration": 47,
    "start_time": "2023-08-19T19:03:04.151Z"
   },
   {
    "duration": 23,
    "start_time": "2023-08-19T19:03:04.200Z"
   },
   {
    "duration": 13,
    "start_time": "2023-08-19T19:03:04.224Z"
   },
   {
    "duration": 121,
    "start_time": "2023-08-19T19:03:04.239Z"
   },
   {
    "duration": 3,
    "start_time": "2023-08-19T19:03:04.363Z"
   },
   {
    "duration": 747,
    "start_time": "2023-08-19T19:03:04.380Z"
   },
   {
    "duration": 207,
    "start_time": "2023-08-19T19:03:05.129Z"
   },
   {
    "duration": 160,
    "start_time": "2023-08-19T19:03:05.338Z"
   },
   {
    "duration": 1022,
    "start_time": "2023-08-19T19:03:05.501Z"
   },
   {
    "duration": 150,
    "start_time": "2023-08-19T19:03:06.525Z"
   },
   {
    "duration": 17,
    "start_time": "2023-08-19T19:03:06.677Z"
   },
   {
    "duration": 28428,
    "start_time": "2023-08-19T19:03:06.696Z"
   },
   {
    "duration": 5225,
    "start_time": "2023-08-19T19:03:35.126Z"
   },
   {
    "duration": 1318,
    "start_time": "2023-08-19T19:03:40.353Z"
   },
   {
    "duration": 4,
    "start_time": "2023-08-19T19:03:45.613Z"
   },
   {
    "duration": 753,
    "start_time": "2023-08-19T19:03:45.620Z"
   },
   {
    "duration": 13,
    "start_time": "2023-08-19T19:03:46.375Z"
   },
   {
    "duration": 141,
    "start_time": "2023-08-19T19:03:46.390Z"
   },
   {
    "duration": 87,
    "start_time": "2023-08-19T19:03:46.533Z"
   },
   {
    "duration": 80,
    "start_time": "2023-08-19T19:03:46.622Z"
   },
   {
    "duration": 4,
    "start_time": "2023-08-19T19:03:46.703Z"
   },
   {
    "duration": 19,
    "start_time": "2023-08-19T19:03:46.709Z"
   },
   {
    "duration": 372,
    "start_time": "2023-08-19T19:03:46.730Z"
   },
   {
    "duration": 277,
    "start_time": "2023-08-19T19:03:47.105Z"
   },
   {
    "duration": 532,
    "start_time": "2023-08-19T19:03:47.383Z"
   },
   {
    "duration": 93,
    "start_time": "2023-08-19T19:03:47.916Z"
   },
   {
    "duration": 184,
    "start_time": "2023-08-19T19:03:48.011Z"
   },
   {
    "duration": 187,
    "start_time": "2023-08-19T19:03:48.197Z"
   },
   {
    "duration": 17,
    "start_time": "2023-08-19T19:03:48.386Z"
   },
   {
    "duration": 49,
    "start_time": "2023-08-19T19:03:48.405Z"
   },
   {
    "duration": 53,
    "start_time": "2023-08-19T19:03:48.455Z"
   },
   {
    "duration": 174,
    "start_time": "2023-08-19T19:03:48.509Z"
   },
   {
    "duration": 22,
    "start_time": "2023-08-19T19:03:48.684Z"
   },
   {
    "duration": 15,
    "start_time": "2023-08-19T19:03:48.708Z"
   },
   {
    "duration": 190,
    "start_time": "2023-08-19T19:03:48.724Z"
   },
   {
    "duration": 446,
    "start_time": "2023-08-19T19:03:48.916Z"
   },
   {
    "duration": 216,
    "start_time": "2023-08-19T19:03:49.364Z"
   },
   {
    "duration": 37,
    "start_time": "2023-08-19T19:03:49.582Z"
   },
   {
    "duration": 21,
    "start_time": "2023-08-19T19:03:49.621Z"
   },
   {
    "duration": 38,
    "start_time": "2023-08-19T19:03:49.644Z"
   },
   {
    "duration": 107,
    "start_time": "2023-08-19T19:03:49.683Z"
   },
   {
    "duration": 3,
    "start_time": "2023-08-19T19:03:49.794Z"
   },
   {
    "duration": 726,
    "start_time": "2023-08-19T19:03:49.798Z"
   },
   {
    "duration": 78,
    "start_time": "2023-08-19T19:03:50.526Z"
   },
   {
    "duration": 204064,
    "start_time": "2023-08-19T19:03:50.605Z"
   },
   {
    "duration": 9414,
    "start_time": "2023-08-19T19:07:14.671Z"
   },
   {
    "duration": 23961,
    "start_time": "2023-08-19T19:07:24.087Z"
   },
   {
    "duration": 16,
    "start_time": "2023-08-19T19:07:48.050Z"
   },
   {
    "duration": 1380,
    "start_time": "2023-08-19T19:07:48.068Z"
   },
   {
    "duration": 2056,
    "start_time": "2023-08-19T19:07:49.450Z"
   },
   {
    "duration": 0,
    "start_time": "2023-08-19T19:07:51.509Z"
   },
   {
    "duration": 4,
    "start_time": "2023-08-19T19:07:54.942Z"
   },
   {
    "duration": 729,
    "start_time": "2023-08-19T19:07:54.948Z"
   },
   {
    "duration": 15,
    "start_time": "2023-08-19T19:07:55.678Z"
   },
   {
    "duration": 139,
    "start_time": "2023-08-19T19:07:55.695Z"
   },
   {
    "duration": 94,
    "start_time": "2023-08-19T19:07:55.836Z"
   },
   {
    "duration": 76,
    "start_time": "2023-08-19T19:07:55.932Z"
   },
   {
    "duration": 4,
    "start_time": "2023-08-19T19:07:56.009Z"
   },
   {
    "duration": 10,
    "start_time": "2023-08-19T19:07:56.014Z"
   },
   {
    "duration": 312,
    "start_time": "2023-08-19T19:07:56.025Z"
   },
   {
    "duration": 253,
    "start_time": "2023-08-19T19:07:56.341Z"
   },
   {
    "duration": 606,
    "start_time": "2023-08-19T19:07:56.605Z"
   },
   {
    "duration": 102,
    "start_time": "2023-08-19T19:07:57.213Z"
   },
   {
    "duration": 192,
    "start_time": "2023-08-19T19:07:57.317Z"
   },
   {
    "duration": 185,
    "start_time": "2023-08-19T19:07:57.511Z"
   },
   {
    "duration": 18,
    "start_time": "2023-08-19T19:07:57.698Z"
   },
   {
    "duration": 32,
    "start_time": "2023-08-19T19:07:57.718Z"
   },
   {
    "duration": 144,
    "start_time": "2023-08-19T19:07:57.752Z"
   },
   {
    "duration": 192,
    "start_time": "2023-08-19T19:07:57.897Z"
   },
   {
    "duration": 24,
    "start_time": "2023-08-19T19:07:58.091Z"
   },
   {
    "duration": 18,
    "start_time": "2023-08-19T19:07:58.116Z"
   },
   {
    "duration": 197,
    "start_time": "2023-08-19T19:07:58.136Z"
   },
   {
    "duration": 551,
    "start_time": "2023-08-19T19:07:58.334Z"
   },
   {
    "duration": 215,
    "start_time": "2023-08-19T19:07:58.887Z"
   },
   {
    "duration": 39,
    "start_time": "2023-08-19T19:07:59.104Z"
   },
   {
    "duration": 38,
    "start_time": "2023-08-19T19:07:59.145Z"
   },
   {
    "duration": 13,
    "start_time": "2023-08-19T19:07:59.185Z"
   },
   {
    "duration": 121,
    "start_time": "2023-08-19T19:07:59.200Z"
   },
   {
    "duration": 4,
    "start_time": "2023-08-19T19:07:59.324Z"
   },
   {
    "duration": 766,
    "start_time": "2023-08-19T19:07:59.329Z"
   },
   {
    "duration": 86,
    "start_time": "2023-08-19T19:08:00.097Z"
   },
   {
    "duration": 182708,
    "start_time": "2023-08-19T19:08:00.185Z"
   },
   {
    "duration": 157763,
    "start_time": "2023-08-19T19:11:02.895Z"
   },
   {
    "duration": 114086,
    "start_time": "2023-08-19T19:13:40.660Z"
   },
   {
    "duration": 10,
    "start_time": "2023-08-19T19:15:34.747Z"
   },
   {
    "duration": 30855,
    "start_time": "2023-08-19T19:15:34.759Z"
   },
   {
    "duration": 54208,
    "start_time": "2023-08-19T19:16:05.615Z"
   },
   {
    "duration": 147765,
    "start_time": "2023-08-19T19:16:59.825Z"
   },
   {
    "duration": 99,
    "start_time": "2023-08-19T19:59:42.119Z"
   },
   {
    "duration": 3,
    "start_time": "2023-08-19T19:59:42.983Z"
   },
   {
    "duration": 736,
    "start_time": "2023-08-19T20:00:01.083Z"
   },
   {
    "duration": 68,
    "start_time": "2023-08-19T20:00:03.583Z"
   },
   {
    "duration": 22200,
    "start_time": "2023-08-19T20:00:17.966Z"
   },
   {
    "duration": 2304,
    "start_time": "2023-08-19T20:00:53.482Z"
   },
   {
    "duration": 10946,
    "start_time": "2023-08-19T20:01:30.718Z"
   },
   {
    "duration": 3389,
    "start_time": "2023-08-19T20:01:44.798Z"
   },
   {
    "duration": 29255,
    "start_time": "2023-08-19T20:02:03.991Z"
   },
   {
    "duration": 1119,
    "start_time": "2023-08-19T20:03:47.626Z"
   },
   {
    "duration": 33,
    "start_time": "2023-08-19T20:04:04.229Z"
   },
   {
    "duration": 138,
    "start_time": "2023-08-19T20:04:13.446Z"
   },
   {
    "duration": 15547,
    "start_time": "2023-08-19T20:04:57.325Z"
   },
   {
    "duration": 40,
    "start_time": "2023-08-19T20:05:22.359Z"
   },
   {
    "duration": 21148,
    "start_time": "2023-08-19T20:05:31.299Z"
   },
   {
    "duration": 54,
    "start_time": "2023-08-19T20:05:54.406Z"
   },
   {
    "duration": 21074,
    "start_time": "2023-08-19T20:05:57.125Z"
   },
   {
    "duration": 53,
    "start_time": "2023-08-19T20:06:20.725Z"
   },
   {
    "duration": 253229,
    "start_time": "2023-08-19T20:07:01.222Z"
   },
   {
    "duration": 252799,
    "start_time": "2023-08-19T20:11:28.661Z"
   },
   {
    "duration": 18075,
    "start_time": "2023-08-19T20:16:30.867Z"
   },
   {
    "duration": 47,
    "start_time": "2023-08-19T20:17:01.931Z"
   },
   {
    "duration": 162,
    "start_time": "2023-08-19T20:17:21.530Z"
   },
   {
    "duration": 14,
    "start_time": "2023-08-19T20:19:20.294Z"
   },
   {
    "duration": 44,
    "start_time": "2023-08-19T20:19:21.026Z"
   },
   {
    "duration": 1550,
    "start_time": "2023-08-19T20:19:52.586Z"
   },
   {
    "duration": 839,
    "start_time": "2023-08-19T20:19:54.138Z"
   },
   {
    "duration": 17,
    "start_time": "2023-08-19T20:19:54.978Z"
   },
   {
    "duration": 159,
    "start_time": "2023-08-19T20:19:54.996Z"
   },
   {
    "duration": 110,
    "start_time": "2023-08-19T20:19:55.157Z"
   },
   {
    "duration": 82,
    "start_time": "2023-08-19T20:19:55.268Z"
   },
   {
    "duration": 4,
    "start_time": "2023-08-19T20:19:55.351Z"
   },
   {
    "duration": 25,
    "start_time": "2023-08-19T20:19:55.356Z"
   },
   {
    "duration": 373,
    "start_time": "2023-08-19T20:19:55.383Z"
   },
   {
    "duration": 301,
    "start_time": "2023-08-19T20:19:55.757Z"
   },
   {
    "duration": 659,
    "start_time": "2023-08-19T20:19:56.060Z"
   },
   {
    "duration": 101,
    "start_time": "2023-08-19T20:19:56.722Z"
   },
   {
    "duration": 186,
    "start_time": "2023-08-19T20:19:56.825Z"
   },
   {
    "duration": 209,
    "start_time": "2023-08-19T20:19:57.014Z"
   },
   {
    "duration": 26,
    "start_time": "2023-08-19T20:19:57.225Z"
   },
   {
    "duration": 59,
    "start_time": "2023-08-19T20:19:57.253Z"
   },
   {
    "duration": 66,
    "start_time": "2023-08-19T20:19:57.317Z"
   },
   {
    "duration": 173,
    "start_time": "2023-08-19T20:19:57.386Z"
   },
   {
    "duration": 33,
    "start_time": "2023-08-19T20:19:57.561Z"
   },
   {
    "duration": 16,
    "start_time": "2023-08-19T20:19:57.596Z"
   },
   {
    "duration": 181,
    "start_time": "2023-08-19T20:19:57.614Z"
   },
   {
    "duration": 492,
    "start_time": "2023-08-19T20:19:57.796Z"
   },
   {
    "duration": 197,
    "start_time": "2023-08-19T20:19:58.290Z"
   },
   {
    "duration": 37,
    "start_time": "2023-08-19T20:19:58.489Z"
   },
   {
    "duration": 26,
    "start_time": "2023-08-19T20:19:58.527Z"
   },
   {
    "duration": 34,
    "start_time": "2023-08-19T20:19:58.554Z"
   },
   {
    "duration": 134,
    "start_time": "2023-08-19T20:19:58.589Z"
   },
   {
    "duration": 4,
    "start_time": "2023-08-19T20:19:58.725Z"
   },
   {
    "duration": 784,
    "start_time": "2023-08-19T20:19:58.730Z"
   },
   {
    "duration": 84,
    "start_time": "2023-08-19T20:19:59.517Z"
   },
   {
    "duration": 79182,
    "start_time": "2023-08-19T20:19:59.603Z"
   },
   {
    "duration": 26019,
    "start_time": "2023-08-19T20:21:18.787Z"
   },
   {
    "duration": 30834,
    "start_time": "2023-08-19T20:21:44.808Z"
   },
   {
    "duration": 0,
    "start_time": "2023-08-19T20:22:15.644Z"
   },
   {
    "duration": 0,
    "start_time": "2023-08-19T20:22:15.645Z"
   },
   {
    "duration": 0,
    "start_time": "2023-08-19T20:22:15.647Z"
   },
   {
    "duration": 0,
    "start_time": "2023-08-19T20:22:15.648Z"
   },
   {
    "duration": 0,
    "start_time": "2023-08-19T20:22:15.649Z"
   },
   {
    "duration": 0,
    "start_time": "2023-08-19T20:22:15.650Z"
   },
   {
    "duration": 0,
    "start_time": "2023-08-19T20:22:15.652Z"
   },
   {
    "duration": 0,
    "start_time": "2023-08-19T20:22:15.653Z"
   },
   {
    "duration": 0,
    "start_time": "2023-08-19T20:22:15.654Z"
   },
   {
    "duration": 1374,
    "start_time": "2023-08-19T20:22:20.932Z"
   },
   {
    "duration": 810,
    "start_time": "2023-08-19T20:22:22.308Z"
   },
   {
    "duration": 16,
    "start_time": "2023-08-19T20:22:23.120Z"
   },
   {
    "duration": 142,
    "start_time": "2023-08-19T20:22:23.138Z"
   },
   {
    "duration": 133,
    "start_time": "2023-08-19T20:22:23.282Z"
   },
   {
    "duration": 87,
    "start_time": "2023-08-19T20:22:23.417Z"
   },
   {
    "duration": 3,
    "start_time": "2023-08-19T20:22:23.506Z"
   },
   {
    "duration": 12,
    "start_time": "2023-08-19T20:22:23.511Z"
   },
   {
    "duration": 380,
    "start_time": "2023-08-19T20:22:23.525Z"
   },
   {
    "duration": 305,
    "start_time": "2023-08-19T20:22:23.907Z"
   },
   {
    "duration": 585,
    "start_time": "2023-08-19T20:22:24.213Z"
   },
   {
    "duration": 91,
    "start_time": "2023-08-19T20:22:24.799Z"
   },
   {
    "duration": 192,
    "start_time": "2023-08-19T20:22:24.892Z"
   },
   {
    "duration": 185,
    "start_time": "2023-08-19T20:22:25.088Z"
   },
   {
    "duration": 22,
    "start_time": "2023-08-19T20:22:25.275Z"
   },
   {
    "duration": 33,
    "start_time": "2023-08-19T20:22:25.298Z"
   },
   {
    "duration": 73,
    "start_time": "2023-08-19T20:22:25.333Z"
   },
   {
    "duration": 175,
    "start_time": "2023-08-19T20:22:25.408Z"
   },
   {
    "duration": 25,
    "start_time": "2023-08-19T20:22:25.585Z"
   },
   {
    "duration": 46,
    "start_time": "2023-08-19T20:22:25.611Z"
   },
   {
    "duration": 173,
    "start_time": "2023-08-19T20:22:25.659Z"
   },
   {
    "duration": 480,
    "start_time": "2023-08-19T20:22:25.834Z"
   },
   {
    "duration": 207,
    "start_time": "2023-08-19T20:22:26.316Z"
   },
   {
    "duration": 38,
    "start_time": "2023-08-19T20:22:26.525Z"
   },
   {
    "duration": 56,
    "start_time": "2023-08-19T20:22:26.565Z"
   },
   {
    "duration": 17,
    "start_time": "2023-08-19T20:22:26.624Z"
   },
   {
    "duration": 143,
    "start_time": "2023-08-19T20:22:26.642Z"
   },
   {
    "duration": 4,
    "start_time": "2023-08-19T20:22:26.787Z"
   },
   {
    "duration": 751,
    "start_time": "2023-08-19T20:22:26.793Z"
   },
   {
    "duration": 78,
    "start_time": "2023-08-19T20:22:27.546Z"
   },
   {
    "duration": 23966,
    "start_time": "2023-08-19T20:22:27.625Z"
   },
   {
    "duration": 253998,
    "start_time": "2023-08-19T20:22:51.593Z"
   },
   {
    "duration": 110825,
    "start_time": "2023-08-19T20:27:05.593Z"
   },
   {
    "duration": 28882,
    "start_time": "2023-08-19T20:28:56.419Z"
   },
   {
    "duration": 1123,
    "start_time": "2023-08-19T20:29:25.303Z"
   },
   {
    "duration": 16874,
    "start_time": "2023-08-19T20:29:26.428Z"
   },
   {
    "duration": 45,
    "start_time": "2023-08-19T20:29:43.303Z"
   },
   {
    "duration": 2140,
    "start_time": "2023-08-19T20:29:43.350Z"
   },
   {
    "duration": 291,
    "start_time": "2023-08-19T20:29:45.491Z"
   },
   {
    "duration": 9,
    "start_time": "2023-08-19T20:29:45.784Z"
   },
   {
    "duration": 47,
    "start_time": "2023-08-19T20:29:45.796Z"
   },
   {
    "duration": 6,
    "start_time": "2023-08-19T20:29:45.845Z"
   },
   {
    "duration": 182314,
    "start_time": "2023-08-19T21:12:09.902Z"
   },
   {
    "duration": 284417,
    "start_time": "2023-08-19T21:15:18.310Z"
   },
   {
    "duration": 1616,
    "start_time": "2023-08-19T21:20:06.138Z"
   },
   {
    "duration": 935,
    "start_time": "2023-08-19T21:20:07.756Z"
   },
   {
    "duration": 19,
    "start_time": "2023-08-19T21:20:08.698Z"
   },
   {
    "duration": 202,
    "start_time": "2023-08-19T21:20:08.719Z"
   },
   {
    "duration": 106,
    "start_time": "2023-08-19T21:20:08.924Z"
   },
   {
    "duration": 93,
    "start_time": "2023-08-19T21:20:09.032Z"
   },
   {
    "duration": 3,
    "start_time": "2023-08-19T21:20:09.127Z"
   },
   {
    "duration": 7,
    "start_time": "2023-08-19T21:20:09.131Z"
   },
   {
    "duration": 422,
    "start_time": "2023-08-19T21:20:09.140Z"
   },
   {
    "duration": 365,
    "start_time": "2023-08-19T21:20:09.564Z"
   },
   {
    "duration": 664,
    "start_time": "2023-08-19T21:20:09.931Z"
   },
   {
    "duration": 90,
    "start_time": "2023-08-19T21:20:10.597Z"
   },
   {
    "duration": 215,
    "start_time": "2023-08-19T21:20:10.689Z"
   },
   {
    "duration": 216,
    "start_time": "2023-08-19T21:20:10.908Z"
   },
   {
    "duration": 17,
    "start_time": "2023-08-19T21:20:11.126Z"
   },
   {
    "duration": 56,
    "start_time": "2023-08-19T21:20:11.144Z"
   },
   {
    "duration": 52,
    "start_time": "2023-08-19T21:20:11.202Z"
   },
   {
    "duration": 175,
    "start_time": "2023-08-19T21:20:11.256Z"
   },
   {
    "duration": 27,
    "start_time": "2023-08-19T21:20:11.433Z"
   },
   {
    "duration": 37,
    "start_time": "2023-08-19T21:20:11.461Z"
   },
   {
    "duration": 199,
    "start_time": "2023-08-19T21:20:11.499Z"
   },
   {
    "duration": 520,
    "start_time": "2023-08-19T21:20:11.700Z"
   },
   {
    "duration": 225,
    "start_time": "2023-08-19T21:20:12.222Z"
   },
   {
    "duration": 52,
    "start_time": "2023-08-19T21:20:12.449Z"
   },
   {
    "duration": 24,
    "start_time": "2023-08-19T21:20:12.503Z"
   },
   {
    "duration": 14,
    "start_time": "2023-08-19T21:20:12.529Z"
   },
   {
    "duration": 150,
    "start_time": "2023-08-19T21:20:12.545Z"
   },
   {
    "duration": 3,
    "start_time": "2023-08-19T21:20:12.698Z"
   },
   {
    "duration": 843,
    "start_time": "2023-08-19T21:20:12.703Z"
   },
   {
    "duration": 86,
    "start_time": "2023-08-19T21:20:13.548Z"
   },
   {
    "duration": 487148,
    "start_time": "2023-08-19T21:20:13.635Z"
   },
   {
    "duration": 260996,
    "start_time": "2023-08-19T21:28:20.784Z"
   },
   {
    "duration": 112049,
    "start_time": "2023-08-19T21:32:41.782Z"
   },
   {
    "duration": 28761,
    "start_time": "2023-08-19T21:34:33.833Z"
   },
   {
    "duration": 1107,
    "start_time": "2023-08-19T21:35:02.596Z"
   },
   {
    "duration": 18454,
    "start_time": "2023-08-19T21:35:03.705Z"
   },
   {
    "duration": 44,
    "start_time": "2023-08-19T21:35:22.160Z"
   },
   {
    "duration": 2186,
    "start_time": "2023-08-19T21:35:22.205Z"
   },
   {
    "duration": 291,
    "start_time": "2023-08-19T21:35:24.393Z"
   },
   {
    "duration": 10,
    "start_time": "2023-08-19T21:35:24.686Z"
   },
   {
    "duration": 45,
    "start_time": "2023-08-19T21:35:24.699Z"
   },
   {
    "duration": 38,
    "start_time": "2023-08-19T21:35:24.746Z"
   },
   {
    "duration": 22401,
    "start_time": "2023-08-19T21:47:47.520Z"
   },
   {
    "duration": 44,
    "start_time": "2023-08-19T21:48:34.448Z"
   },
   {
    "duration": 49,
    "start_time": "2023-08-20T22:15:23.751Z"
   },
   {
    "duration": 14,
    "start_time": "2023-08-20T22:17:13.948Z"
   },
   {
    "duration": 1645,
    "start_time": "2023-08-20T22:17:17.376Z"
   },
   {
    "duration": 1182,
    "start_time": "2023-08-20T22:17:19.024Z"
   },
   {
    "duration": 19,
    "start_time": "2023-08-20T22:17:20.208Z"
   },
   {
    "duration": 141,
    "start_time": "2023-08-20T22:17:20.228Z"
   },
   {
    "duration": 110,
    "start_time": "2023-08-20T22:17:20.371Z"
   },
   {
    "duration": 93,
    "start_time": "2023-08-20T22:17:20.483Z"
   },
   {
    "duration": 4,
    "start_time": "2023-08-20T22:17:20.577Z"
   },
   {
    "duration": 13,
    "start_time": "2023-08-20T22:17:20.582Z"
   },
   {
    "duration": 369,
    "start_time": "2023-08-20T22:17:20.596Z"
   },
   {
    "duration": 306,
    "start_time": "2023-08-20T22:17:20.968Z"
   },
   {
    "duration": 613,
    "start_time": "2023-08-20T22:17:21.275Z"
   },
   {
    "duration": 93,
    "start_time": "2023-08-20T22:17:21.890Z"
   },
   {
    "duration": 216,
    "start_time": "2023-08-20T22:17:21.984Z"
   },
   {
    "duration": 188,
    "start_time": "2023-08-20T22:17:22.202Z"
   },
   {
    "duration": 18,
    "start_time": "2023-08-20T22:17:22.392Z"
   },
   {
    "duration": 62,
    "start_time": "2023-08-20T22:17:22.412Z"
   },
   {
    "duration": 49,
    "start_time": "2023-08-20T22:17:22.476Z"
   },
   {
    "duration": 206,
    "start_time": "2023-08-20T22:17:22.526Z"
   },
   {
    "duration": 26,
    "start_time": "2023-08-20T22:17:22.733Z"
   },
   {
    "duration": 179,
    "start_time": "2023-08-20T22:17:22.761Z"
   },
   {
    "duration": 481,
    "start_time": "2023-08-20T22:17:30.525Z"
   },
   {
    "duration": 30,
    "start_time": "2023-08-20T22:17:59.844Z"
   },
   {
    "duration": 183,
    "start_time": "2023-08-20T22:18:02.723Z"
   },
   {
    "duration": 39,
    "start_time": "2023-08-20T22:18:04.603Z"
   },
   {
    "duration": 36,
    "start_time": "2023-08-20T22:18:52.996Z"
   },
   {
    "duration": 48,
    "start_time": "2023-08-20T22:25:10.571Z"
   },
   {
    "duration": 73,
    "start_time": "2023-08-20T22:31:36.652Z"
   },
   {
    "duration": 4,
    "start_time": "2023-08-20T22:31:43.530Z"
   },
   {
    "duration": 9,
    "start_time": "2023-08-20T22:31:46.802Z"
   },
   {
    "duration": 10,
    "start_time": "2023-08-20T22:31:49.129Z"
   },
   {
    "duration": 5,
    "start_time": "2023-08-20T22:32:00.169Z"
   },
   {
    "duration": 9,
    "start_time": "2023-08-20T22:32:01.852Z"
   },
   {
    "duration": 5,
    "start_time": "2023-08-20T22:32:05.113Z"
   },
   {
    "duration": 8,
    "start_time": "2023-08-20T22:32:06.921Z"
   },
   {
    "duration": 4,
    "start_time": "2023-08-20T22:32:09.217Z"
   },
   {
    "duration": 21,
    "start_time": "2023-08-20T22:32:18.905Z"
   },
   {
    "duration": 21,
    "start_time": "2023-08-20T22:32:26.730Z"
   },
   {
    "duration": 20,
    "start_time": "2023-08-20T22:32:38.785Z"
   },
   {
    "duration": 12,
    "start_time": "2023-08-20T22:34:29.801Z"
   },
   {
    "duration": 22,
    "start_time": "2023-08-20T22:35:18.267Z"
   },
   {
    "duration": 32,
    "start_time": "2023-08-20T22:35:28.756Z"
   },
   {
    "duration": 23,
    "start_time": "2023-08-20T22:35:41.976Z"
   },
   {
    "duration": 35,
    "start_time": "2023-08-20T22:36:05.192Z"
   },
   {
    "duration": 4,
    "start_time": "2023-08-20T22:36:24.784Z"
   },
   {
    "duration": 9,
    "start_time": "2023-08-20T22:36:45.671Z"
   },
   {
    "duration": 4,
    "start_time": "2023-08-20T22:36:48.737Z"
   },
   {
    "duration": 8,
    "start_time": "2023-08-20T22:37:15.956Z"
   },
   {
    "duration": 8,
    "start_time": "2023-08-20T22:37:34.527Z"
   },
   {
    "duration": 9,
    "start_time": "2023-08-20T22:37:38.775Z"
   },
   {
    "duration": 20,
    "start_time": "2023-08-20T22:38:34.286Z"
   },
   {
    "duration": 4,
    "start_time": "2023-08-20T22:38:44.646Z"
   },
   {
    "duration": 29,
    "start_time": "2023-08-20T22:38:58.637Z"
   },
   {
    "duration": 3,
    "start_time": "2023-08-20T22:38:59.770Z"
   },
   {
    "duration": 4,
    "start_time": "2023-08-20T22:39:03.844Z"
   },
   {
    "duration": 754,
    "start_time": "2023-08-20T22:39:03.850Z"
   },
   {
    "duration": 13,
    "start_time": "2023-08-20T22:39:04.605Z"
   },
   {
    "duration": 136,
    "start_time": "2023-08-20T22:39:04.620Z"
   },
   {
    "duration": 75,
    "start_time": "2023-08-20T22:39:04.758Z"
   },
   {
    "duration": 77,
    "start_time": "2023-08-20T22:39:04.835Z"
   },
   {
    "duration": 4,
    "start_time": "2023-08-20T22:39:04.913Z"
   },
   {
    "duration": 5,
    "start_time": "2023-08-20T22:39:04.919Z"
   },
   {
    "duration": 308,
    "start_time": "2023-08-20T22:39:04.926Z"
   },
   {
    "duration": 254,
    "start_time": "2023-08-20T22:39:05.237Z"
   },
   {
    "duration": 536,
    "start_time": "2023-08-20T22:39:05.493Z"
   },
   {
    "duration": 106,
    "start_time": "2023-08-20T22:39:06.031Z"
   },
   {
    "duration": 185,
    "start_time": "2023-08-20T22:39:06.139Z"
   },
   {
    "duration": 176,
    "start_time": "2023-08-20T22:39:06.325Z"
   },
   {
    "duration": 16,
    "start_time": "2023-08-20T22:39:06.502Z"
   },
   {
    "duration": 41,
    "start_time": "2023-08-20T22:39:06.519Z"
   },
   {
    "duration": 41,
    "start_time": "2023-08-20T22:39:06.562Z"
   },
   {
    "duration": 178,
    "start_time": "2023-08-20T22:39:06.604Z"
   },
   {
    "duration": 14,
    "start_time": "2023-08-20T22:39:06.783Z"
   },
   {
    "duration": 176,
    "start_time": "2023-08-20T22:39:06.799Z"
   },
   {
    "duration": 399,
    "start_time": "2023-08-20T22:39:06.976Z"
   },
   {
    "duration": 21,
    "start_time": "2023-08-20T22:39:07.377Z"
   },
   {
    "duration": 171,
    "start_time": "2023-08-20T22:39:07.399Z"
   },
   {
    "duration": 37,
    "start_time": "2023-08-20T22:39:07.571Z"
   },
   {
    "duration": 27,
    "start_time": "2023-08-20T22:39:18.446Z"
   },
   {
    "duration": 23,
    "start_time": "2023-08-20T22:39:22.478Z"
   },
   {
    "duration": 29,
    "start_time": "2023-08-20T22:39:30.646Z"
   },
   {
    "duration": 25,
    "start_time": "2023-08-20T22:39:39.455Z"
   },
   {
    "duration": 8,
    "start_time": "2023-08-20T22:39:40.830Z"
   },
   {
    "duration": 4,
    "start_time": "2023-08-20T22:39:50.289Z"
   },
   {
    "duration": 710,
    "start_time": "2023-08-20T22:39:50.295Z"
   },
   {
    "duration": 13,
    "start_time": "2023-08-20T22:39:51.007Z"
   },
   {
    "duration": 143,
    "start_time": "2023-08-20T22:39:51.022Z"
   },
   {
    "duration": 174,
    "start_time": "2023-08-20T22:39:51.167Z"
   },
   {
    "duration": 69,
    "start_time": "2023-08-20T22:39:51.342Z"
   },
   {
    "duration": 3,
    "start_time": "2023-08-20T22:39:51.412Z"
   },
   {
    "duration": 11,
    "start_time": "2023-08-20T22:39:51.416Z"
   },
   {
    "duration": 296,
    "start_time": "2023-08-20T22:39:51.428Z"
   },
   {
    "duration": 253,
    "start_time": "2023-08-20T22:39:51.726Z"
   },
   {
    "duration": 510,
    "start_time": "2023-08-20T22:39:51.980Z"
   },
   {
    "duration": 106,
    "start_time": "2023-08-20T22:39:52.491Z"
   },
   {
    "duration": 200,
    "start_time": "2023-08-20T22:39:52.598Z"
   },
   {
    "duration": 172,
    "start_time": "2023-08-20T22:39:52.800Z"
   },
   {
    "duration": 15,
    "start_time": "2023-08-20T22:39:52.974Z"
   },
   {
    "duration": 29,
    "start_time": "2023-08-20T22:39:52.990Z"
   },
   {
    "duration": 87,
    "start_time": "2023-08-20T22:39:53.020Z"
   },
   {
    "duration": 167,
    "start_time": "2023-08-20T22:39:53.108Z"
   },
   {
    "duration": 13,
    "start_time": "2023-08-20T22:39:53.276Z"
   },
   {
    "duration": 171,
    "start_time": "2023-08-20T22:39:53.291Z"
   },
   {
    "duration": 398,
    "start_time": "2023-08-20T22:39:53.464Z"
   },
   {
    "duration": 21,
    "start_time": "2023-08-20T22:39:53.864Z"
   },
   {
    "duration": 185,
    "start_time": "2023-08-20T22:39:53.887Z"
   },
   {
    "duration": 37,
    "start_time": "2023-08-20T22:39:54.074Z"
   },
   {
    "duration": 22,
    "start_time": "2023-08-20T22:39:56.309Z"
   },
   {
    "duration": 3,
    "start_time": "2023-08-20T22:39:57.801Z"
   },
   {
    "duration": 12,
    "start_time": "2023-08-20T22:40:16.477Z"
   },
   {
    "duration": 11,
    "start_time": "2023-08-20T22:40:57.605Z"
   },
   {
    "duration": 10,
    "start_time": "2023-08-20T22:41:07.868Z"
   },
   {
    "duration": 72,
    "start_time": "2023-08-20T22:41:36.372Z"
   },
   {
    "duration": 3,
    "start_time": "2023-08-20T22:41:38.132Z"
   },
   {
    "duration": 656,
    "start_time": "2023-08-20T22:41:39.420Z"
   },
   {
    "duration": 53,
    "start_time": "2023-08-20T22:41:42.476Z"
   },
   {
    "duration": 1672,
    "start_time": "2023-08-20T22:42:07.107Z"
   },
   {
    "duration": 813,
    "start_time": "2023-08-20T22:42:08.781Z"
   },
   {
    "duration": 15,
    "start_time": "2023-08-20T22:42:09.595Z"
   },
   {
    "duration": 147,
    "start_time": "2023-08-20T22:42:09.612Z"
   },
   {
    "duration": 99,
    "start_time": "2023-08-20T22:42:09.762Z"
   },
   {
    "duration": 72,
    "start_time": "2023-08-20T22:42:09.862Z"
   },
   {
    "duration": 14,
    "start_time": "2023-08-20T22:42:09.935Z"
   },
   {
    "duration": 6,
    "start_time": "2023-08-20T22:42:09.951Z"
   },
   {
    "duration": 370,
    "start_time": "2023-08-20T22:42:09.959Z"
   },
   {
    "duration": 286,
    "start_time": "2023-08-20T22:42:10.331Z"
   },
   {
    "duration": 561,
    "start_time": "2023-08-20T22:42:10.618Z"
   },
   {
    "duration": 90,
    "start_time": "2023-08-20T22:42:11.180Z"
   },
   {
    "duration": 169,
    "start_time": "2023-08-20T22:42:11.272Z"
   },
   {
    "duration": 186,
    "start_time": "2023-08-20T22:42:11.442Z"
   },
   {
    "duration": 22,
    "start_time": "2023-08-20T22:42:11.629Z"
   },
   {
    "duration": 32,
    "start_time": "2023-08-20T22:42:11.653Z"
   },
   {
    "duration": 76,
    "start_time": "2023-08-20T22:42:11.687Z"
   },
   {
    "duration": 156,
    "start_time": "2023-08-20T22:42:11.765Z"
   },
   {
    "duration": 14,
    "start_time": "2023-08-20T22:42:11.922Z"
   },
   {
    "duration": 167,
    "start_time": "2023-08-20T22:42:11.937Z"
   },
   {
    "duration": 466,
    "start_time": "2023-08-20T22:42:12.105Z"
   },
   {
    "duration": 21,
    "start_time": "2023-08-20T22:42:12.572Z"
   },
   {
    "duration": 171,
    "start_time": "2023-08-20T22:42:12.594Z"
   },
   {
    "duration": 35,
    "start_time": "2023-08-20T22:42:12.766Z"
   },
   {
    "duration": 21,
    "start_time": "2023-08-20T22:42:12.802Z"
   },
   {
    "duration": 32,
    "start_time": "2023-08-20T22:42:12.824Z"
   },
   {
    "duration": 12,
    "start_time": "2023-08-20T22:42:12.859Z"
   },
   {
    "duration": 98,
    "start_time": "2023-08-20T22:42:12.874Z"
   },
   {
    "duration": 3,
    "start_time": "2023-08-20T22:42:12.973Z"
   },
   {
    "duration": 680,
    "start_time": "2023-08-20T22:42:12.977Z"
   },
   {
    "duration": 53,
    "start_time": "2023-08-20T22:42:13.659Z"
   },
   {
    "duration": 136252,
    "start_time": "2023-08-20T22:42:13.714Z"
   },
   {
    "duration": 232706,
    "start_time": "2023-08-20T22:44:29.970Z"
   },
   {
    "duration": 63014,
    "start_time": "2023-08-20T22:48:22.678Z"
   },
   {
    "duration": 15039,
    "start_time": "2023-08-20T22:49:25.694Z"
   },
   {
    "duration": 860,
    "start_time": "2023-08-20T22:49:40.734Z"
   },
   {
    "duration": 15538,
    "start_time": "2023-08-20T22:49:41.596Z"
   },
   {
    "duration": 45,
    "start_time": "2023-08-20T22:49:57.136Z"
   },
   {
    "duration": 15179,
    "start_time": "2023-08-20T22:49:57.183Z"
   },
   {
    "duration": 195,
    "start_time": "2023-08-20T22:50:12.368Z"
   },
   {
    "duration": 9,
    "start_time": "2023-08-20T22:50:12.565Z"
   },
   {
    "duration": 21296,
    "start_time": "2023-08-20T22:50:12.575Z"
   },
   {
    "duration": 40,
    "start_time": "2023-08-20T22:50:33.872Z"
   },
   {
    "duration": 5,
    "start_time": "2023-08-20T22:50:33.914Z"
   },
   {
    "duration": 2732,
    "start_time": "2023-08-21T22:50:32.883Z"
   },
   {
    "duration": 1209,
    "start_time": "2023-08-21T22:50:35.617Z"
   },
   {
    "duration": 16,
    "start_time": "2023-08-21T22:50:36.828Z"
   },
   {
    "duration": 135,
    "start_time": "2023-08-21T22:50:36.846Z"
   },
   {
    "duration": 137,
    "start_time": "2023-08-21T22:50:36.983Z"
   },
   {
    "duration": 90,
    "start_time": "2023-08-21T22:50:37.121Z"
   },
   {
    "duration": 4,
    "start_time": "2023-08-21T22:50:37.212Z"
   },
   {
    "duration": 15,
    "start_time": "2023-08-21T22:50:37.217Z"
   },
   {
    "duration": 376,
    "start_time": "2023-08-21T22:50:37.234Z"
   },
   {
    "duration": 297,
    "start_time": "2023-08-21T22:50:37.613Z"
   },
   {
    "duration": 612,
    "start_time": "2023-08-21T22:50:37.912Z"
   },
   {
    "duration": 95,
    "start_time": "2023-08-21T22:50:38.525Z"
   },
   {
    "duration": 187,
    "start_time": "2023-08-21T22:50:38.621Z"
   },
   {
    "duration": 185,
    "start_time": "2023-08-21T22:50:38.810Z"
   },
   {
    "duration": 18,
    "start_time": "2023-08-21T22:50:38.996Z"
   },
   {
    "duration": 32,
    "start_time": "2023-08-21T22:50:39.015Z"
   },
   {
    "duration": 67,
    "start_time": "2023-08-21T22:50:39.048Z"
   },
   {
    "duration": 176,
    "start_time": "2023-08-21T22:50:39.117Z"
   },
   {
    "duration": 16,
    "start_time": "2023-08-21T22:50:39.295Z"
   },
   {
    "duration": 184,
    "start_time": "2023-08-21T22:50:39.312Z"
   },
   {
    "duration": 509,
    "start_time": "2023-08-21T22:50:39.499Z"
   },
   {
    "duration": 23,
    "start_time": "2023-08-21T22:50:40.010Z"
   },
   {
    "duration": 192,
    "start_time": "2023-08-21T22:50:40.034Z"
   },
   {
    "duration": 57,
    "start_time": "2023-08-21T22:50:40.229Z"
   },
   {
    "duration": 28,
    "start_time": "2023-08-21T22:50:40.288Z"
   },
   {
    "duration": 5,
    "start_time": "2023-08-21T22:51:54.953Z"
   },
   {
    "duration": 1672,
    "start_time": "2023-08-21T22:56:58.438Z"
   },
   {
    "duration": 1277,
    "start_time": "2023-08-21T22:57:00.112Z"
   },
   {
    "duration": 18,
    "start_time": "2023-08-21T22:57:01.391Z"
   },
   {
    "duration": 171,
    "start_time": "2023-08-21T22:57:01.411Z"
   },
   {
    "duration": 121,
    "start_time": "2023-08-21T22:57:01.584Z"
   },
   {
    "duration": 89,
    "start_time": "2023-08-21T22:57:01.708Z"
   },
   {
    "duration": 4,
    "start_time": "2023-08-21T22:57:01.799Z"
   },
   {
    "duration": 45,
    "start_time": "2023-08-21T22:57:01.805Z"
   },
   {
    "duration": 408,
    "start_time": "2023-08-21T22:57:01.851Z"
   },
   {
    "duration": 316,
    "start_time": "2023-08-21T22:57:02.262Z"
   },
   {
    "duration": 717,
    "start_time": "2023-08-21T22:57:02.581Z"
   },
   {
    "duration": 119,
    "start_time": "2023-08-21T22:57:03.300Z"
   },
   {
    "duration": 222,
    "start_time": "2023-08-21T22:57:03.421Z"
   },
   {
    "duration": 198,
    "start_time": "2023-08-21T22:57:03.645Z"
   },
   {
    "duration": 19,
    "start_time": "2023-08-21T22:57:03.845Z"
   },
   {
    "duration": 48,
    "start_time": "2023-08-21T22:57:03.865Z"
   },
   {
    "duration": 77,
    "start_time": "2023-08-21T22:57:03.915Z"
   },
   {
    "duration": 180,
    "start_time": "2023-08-21T22:57:03.994Z"
   },
   {
    "duration": 19,
    "start_time": "2023-08-21T22:57:04.176Z"
   },
   {
    "duration": 196,
    "start_time": "2023-08-21T22:57:04.197Z"
   },
   {
    "duration": 553,
    "start_time": "2023-08-21T22:57:04.395Z"
   },
   {
    "duration": 40,
    "start_time": "2023-08-21T22:57:04.950Z"
   },
   {
    "duration": 216,
    "start_time": "2023-08-21T22:57:04.992Z"
   },
   {
    "duration": 41,
    "start_time": "2023-08-21T22:57:05.210Z"
   },
   {
    "duration": 20,
    "start_time": "2023-08-21T22:57:19.902Z"
   },
   {
    "duration": 22,
    "start_time": "2023-08-21T22:57:29.812Z"
   },
   {
    "duration": 5,
    "start_time": "2023-08-21T22:57:34.374Z"
   },
   {
    "duration": 140,
    "start_time": "2023-08-21T22:57:39.125Z"
   },
   {
    "duration": 6,
    "start_time": "2023-08-21T22:57:41.295Z"
   },
   {
    "duration": 42,
    "start_time": "2023-08-21T22:58:10.541Z"
   },
   {
    "duration": 44,
    "start_time": "2023-08-21T22:58:14.878Z"
   },
   {
    "duration": 61,
    "start_time": "2023-08-21T22:58:18.317Z"
   },
   {
    "duration": 47,
    "start_time": "2023-08-21T22:58:36.524Z"
   },
   {
    "duration": 42,
    "start_time": "2023-08-21T22:58:41.620Z"
   },
   {
    "duration": 41,
    "start_time": "2023-08-21T22:58:47.365Z"
   },
   {
    "duration": 39,
    "start_time": "2023-08-21T22:58:58.435Z"
   },
   {
    "duration": 42,
    "start_time": "2023-08-21T22:59:01.557Z"
   },
   {
    "duration": 40,
    "start_time": "2023-08-21T22:59:05.756Z"
   },
   {
    "duration": 4,
    "start_time": "2023-08-21T22:59:29.124Z"
   },
   {
    "duration": 5,
    "start_time": "2023-08-21T22:59:30.709Z"
   },
   {
    "duration": 5,
    "start_time": "2023-08-21T22:59:33.652Z"
   },
   {
    "duration": 5,
    "start_time": "2023-08-21T22:59:37.925Z"
   },
   {
    "duration": 25,
    "start_time": "2023-08-21T22:59:48.300Z"
   },
   {
    "duration": 35,
    "start_time": "2023-08-21T23:00:05.573Z"
   },
   {
    "duration": 5,
    "start_time": "2023-08-21T23:00:16.286Z"
   },
   {
    "duration": 973,
    "start_time": "2023-08-21T23:00:16.294Z"
   },
   {
    "duration": 20,
    "start_time": "2023-08-21T23:00:17.270Z"
   },
   {
    "duration": 157,
    "start_time": "2023-08-21T23:00:17.293Z"
   },
   {
    "duration": 113,
    "start_time": "2023-08-21T23:00:17.453Z"
   },
   {
    "duration": 83,
    "start_time": "2023-08-21T23:00:17.567Z"
   },
   {
    "duration": 4,
    "start_time": "2023-08-21T23:00:17.652Z"
   },
   {
    "duration": 11,
    "start_time": "2023-08-21T23:00:17.658Z"
   },
   {
    "duration": 327,
    "start_time": "2023-08-21T23:00:17.682Z"
   },
   {
    "duration": 392,
    "start_time": "2023-08-21T23:00:18.012Z"
   },
   {
    "duration": 832,
    "start_time": "2023-08-21T23:00:18.407Z"
   },
   {
    "duration": 117,
    "start_time": "2023-08-21T23:00:19.243Z"
   },
   {
    "duration": 201,
    "start_time": "2023-08-21T23:00:19.362Z"
   },
   {
    "duration": 191,
    "start_time": "2023-08-21T23:00:19.564Z"
   },
   {
    "duration": 30,
    "start_time": "2023-08-21T23:00:19.758Z"
   },
   {
    "duration": 39,
    "start_time": "2023-08-21T23:00:19.791Z"
   },
   {
    "duration": 88,
    "start_time": "2023-08-21T23:00:19.832Z"
   },
   {
    "duration": 269,
    "start_time": "2023-08-21T23:00:19.923Z"
   },
   {
    "duration": 17,
    "start_time": "2023-08-21T23:00:20.194Z"
   },
   {
    "duration": 205,
    "start_time": "2023-08-21T23:00:20.213Z"
   },
   {
    "duration": 528,
    "start_time": "2023-08-21T23:00:20.421Z"
   },
   {
    "duration": 40,
    "start_time": "2023-08-21T23:00:20.952Z"
   },
   {
    "duration": 312,
    "start_time": "2023-08-21T23:00:20.994Z"
   },
   {
    "duration": 55,
    "start_time": "2023-08-21T23:00:21.309Z"
   },
   {
    "duration": 21,
    "start_time": "2023-08-21T23:00:21.380Z"
   },
   {
    "duration": 26,
    "start_time": "2023-08-21T23:00:23.579Z"
   },
   {
    "duration": 18,
    "start_time": "2023-08-21T23:00:25.595Z"
   },
   {
    "duration": 13,
    "start_time": "2023-08-21T23:00:26.348Z"
   },
   {
    "duration": 129,
    "start_time": "2023-08-21T23:00:27.926Z"
   },
   {
    "duration": 4,
    "start_time": "2023-08-21T23:00:28.675Z"
   },
   {
    "duration": 963,
    "start_time": "2023-08-21T23:00:29.620Z"
   },
   {
    "duration": 63,
    "start_time": "2023-08-21T23:00:30.585Z"
   },
   {
    "duration": 939414,
    "start_time": "2023-08-21T23:00:32.283Z"
   },
   {
    "duration": 247693,
    "start_time": "2023-08-21T23:16:19.243Z"
   },
   {
    "duration": 68975,
    "start_time": "2023-08-21T23:20:34.908Z"
   },
   {
    "duration": 16053,
    "start_time": "2023-08-21T23:21:49.321Z"
   },
   {
    "duration": 906,
    "start_time": "2023-08-21T23:22:05.381Z"
   },
   {
    "duration": 16844,
    "start_time": "2023-08-21T23:22:06.289Z"
   },
   {
    "duration": 43,
    "start_time": "2023-08-21T23:22:23.136Z"
   },
   {
    "duration": 179011,
    "start_time": "2023-08-21T23:22:23.181Z"
   },
   {
    "duration": 289,
    "start_time": "2023-08-21T23:25:22.194Z"
   },
   {
    "duration": 10,
    "start_time": "2023-08-21T23:25:22.485Z"
   },
   {
    "duration": 23126,
    "start_time": "2023-08-21T23:25:22.497Z"
   },
   {
    "duration": 61,
    "start_time": "2023-08-21T23:25:45.625Z"
   },
   {
    "duration": 7,
    "start_time": "2023-08-21T23:25:45.690Z"
   },
   {
    "duration": 4,
    "start_time": "2023-08-21T23:30:09.569Z"
   },
   {
    "duration": 36,
    "start_time": "2023-08-21T23:30:44.705Z"
   },
   {
    "duration": 3095,
    "start_time": "2023-08-22T23:42:45.730Z"
   },
   {
    "duration": 3296,
    "start_time": "2023-08-22T23:42:48.828Z"
   },
   {
    "duration": 16,
    "start_time": "2023-08-22T23:42:52.126Z"
   },
   {
    "duration": 108,
    "start_time": "2023-08-22T23:42:52.144Z"
   },
   {
    "duration": 89,
    "start_time": "2023-08-22T23:42:52.256Z"
   },
   {
    "duration": 86,
    "start_time": "2023-08-22T23:42:52.346Z"
   },
   {
    "duration": 3,
    "start_time": "2023-08-22T23:42:52.434Z"
   },
   {
    "duration": 19,
    "start_time": "2023-08-22T23:42:52.438Z"
   },
   {
    "duration": 333,
    "start_time": "2023-08-22T23:42:52.459Z"
   },
   {
    "duration": 293,
    "start_time": "2023-08-22T23:42:52.794Z"
   },
   {
    "duration": 610,
    "start_time": "2023-08-22T23:42:53.088Z"
   },
   {
    "duration": 74,
    "start_time": "2023-08-22T23:42:53.700Z"
   },
   {
    "duration": 168,
    "start_time": "2023-08-22T23:42:53.776Z"
   },
   {
    "duration": 192,
    "start_time": "2023-08-22T23:42:53.945Z"
   },
   {
    "duration": 32,
    "start_time": "2023-08-22T23:42:54.138Z"
   },
   {
    "duration": 33,
    "start_time": "2023-08-22T23:42:54.172Z"
   },
   {
    "duration": 78,
    "start_time": "2023-08-22T23:42:54.207Z"
   },
   {
    "duration": 166,
    "start_time": "2023-08-22T23:42:54.287Z"
   },
   {
    "duration": 17,
    "start_time": "2023-08-22T23:42:54.455Z"
   },
   {
    "duration": 172,
    "start_time": "2023-08-22T23:42:54.473Z"
   },
   {
    "duration": 476,
    "start_time": "2023-08-22T23:42:54.646Z"
   },
   {
    "duration": 37,
    "start_time": "2023-08-22T23:42:55.124Z"
   },
   {
    "duration": 180,
    "start_time": "2023-08-22T23:42:55.163Z"
   },
   {
    "duration": 44,
    "start_time": "2023-08-22T23:42:55.345Z"
   },
   {
    "duration": 14,
    "start_time": "2023-08-22T23:42:55.390Z"
   },
   {
    "duration": 29,
    "start_time": "2023-08-22T23:42:55.406Z"
   },
   {
    "duration": 21,
    "start_time": "2023-08-22T23:42:55.437Z"
   },
   {
    "duration": 5023,
    "start_time": "2023-08-26T02:57:32.881Z"
   },
   {
    "duration": 4,
    "start_time": "2023-08-26T02:57:47.672Z"
   },
   {
    "duration": 716,
    "start_time": "2023-08-26T02:58:49.257Z"
   },
   {
    "duration": 3,
    "start_time": "2023-08-26T02:59:09.569Z"
   },
   {
    "duration": 846,
    "start_time": "2023-08-26T02:59:10.641Z"
   }
  ],
  "kernelspec": {
   "display_name": "Python 3 (ipykernel)",
   "language": "python",
   "name": "python3"
  },
  "language_info": {
   "codemirror_mode": {
    "name": "ipython",
    "version": 3
   },
   "file_extension": ".py",
   "mimetype": "text/x-python",
   "name": "python",
   "nbconvert_exporter": "python",
   "pygments_lexer": "ipython3",
   "version": "3.11.5"
  },
  "toc": {
   "base_numbering": 1,
   "nav_menu": {},
   "number_sections": true,
   "sideBar": true,
   "skip_h1_title": true,
   "title_cell": "Table of Contents",
   "title_sidebar": "Contents",
   "toc_cell": false,
   "toc_position": {},
   "toc_section_display": true,
   "toc_window_display": true
  }
 },
 "nbformat": 4,
 "nbformat_minor": 2
}
